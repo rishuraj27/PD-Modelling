{
 "cells": [
  {
   "cell_type": "markdown",
   "metadata": {},
   "source": [
    "# Data "
   ]
  },
  {
   "cell_type": "code",
   "execution_count": 6,
   "metadata": {
    "ExecuteTime": {
     "end_time": "2020-07-13T21:50:34.460050Z",
     "start_time": "2020-07-13T21:50:34.428810Z"
    }
   },
   "outputs": [],
   "source": [
    "import pandas as pd\n",
    "import numpy as np"
   ]
  },
  {
   "cell_type": "code",
   "execution_count": 113,
   "metadata": {
    "ExecuteTime": {
     "end_time": "2020-07-14T10:19:48.831669Z",
     "start_time": "2020-07-14T10:19:48.826687Z"
    }
   },
   "outputs": [],
   "source": [
    "df_dict={'rating':[\"A\",\"B\",\"C\",\"D\",\"E\"],\"no_of_accounts\":[10,40,25,15,10],\"no_of_defaults\":[0,0,0,2,1]}"
   ]
  },
  {
   "cell_type": "code",
   "execution_count": 114,
   "metadata": {
    "ExecuteTime": {
     "end_time": "2020-07-14T10:19:50.986311Z",
     "start_time": "2020-07-14T10:19:49.825612Z"
    }
   },
   "outputs": [],
   "source": [
    "df = pd.DataFrame.from_dict(df_dict)"
   ]
  },
  {
   "cell_type": "code",
   "execution_count": 115,
   "metadata": {
    "ExecuteTime": {
     "end_time": "2020-07-14T10:19:52.870347Z",
     "start_time": "2020-07-14T10:19:51.358305Z"
    }
   },
   "outputs": [
    {
     "data": {
      "text/html": [
       "<div>\n",
       "<style scoped>\n",
       "    .dataframe tbody tr th:only-of-type {\n",
       "        vertical-align: middle;\n",
       "    }\n",
       "\n",
       "    .dataframe tbody tr th {\n",
       "        vertical-align: top;\n",
       "    }\n",
       "\n",
       "    .dataframe thead th {\n",
       "        text-align: right;\n",
       "    }\n",
       "</style>\n",
       "<table border=\"1\" class=\"dataframe\">\n",
       "  <thead>\n",
       "    <tr style=\"text-align: right;\">\n",
       "      <th></th>\n",
       "      <th>rating</th>\n",
       "      <th>no_of_accounts</th>\n",
       "      <th>no_of_defaults</th>\n",
       "    </tr>\n",
       "  </thead>\n",
       "  <tbody>\n",
       "    <tr>\n",
       "      <th>0</th>\n",
       "      <td>A</td>\n",
       "      <td>10</td>\n",
       "      <td>0</td>\n",
       "    </tr>\n",
       "    <tr>\n",
       "      <th>1</th>\n",
       "      <td>B</td>\n",
       "      <td>40</td>\n",
       "      <td>0</td>\n",
       "    </tr>\n",
       "    <tr>\n",
       "      <th>2</th>\n",
       "      <td>C</td>\n",
       "      <td>25</td>\n",
       "      <td>0</td>\n",
       "    </tr>\n",
       "    <tr>\n",
       "      <th>3</th>\n",
       "      <td>D</td>\n",
       "      <td>15</td>\n",
       "      <td>2</td>\n",
       "    </tr>\n",
       "    <tr>\n",
       "      <th>4</th>\n",
       "      <td>E</td>\n",
       "      <td>10</td>\n",
       "      <td>1</td>\n",
       "    </tr>\n",
       "  </tbody>\n",
       "</table>\n",
       "</div>"
      ],
      "text/plain": [
       "  rating  no_of_accounts  no_of_defaults\n",
       "0      A              10               0\n",
       "1      B              40               0\n",
       "2      C              25               0\n",
       "3      D              15               2\n",
       "4      E              10               1"
      ]
     },
     "execution_count": 115,
     "metadata": {},
     "output_type": "execute_result"
    }
   ],
   "source": [
    "df"
   ]
  },
  {
   "cell_type": "markdown",
   "metadata": {},
   "source": [
    "# Calibration"
   ]
  },
  {
   "cell_type": "markdown",
   "metadata": {},
   "source": [
    "## Pluto Tasche Approach"
   ]
  },
  {
   "cell_type": "code",
   "execution_count": 1,
   "metadata": {
    "ExecuteTime": {
     "end_time": "2020-07-14T10:29:41.984016Z",
     "start_time": "2020-07-14T10:29:41.967062Z"
    }
   },
   "outputs": [],
   "source": [
    "def pt_one_period_pd(portfolio, defaults, c_i=0.9):\n",
    "    # One Period PD estimation Pluto & Tasche model\n",
    "  # Args:\n",
    "  #   portf.uncond:   unconditional portfolio distribution from the worst to the best credit quality\n",
    "  #   portf.def:      number of defaults in a given rating class\n",
    "  #   conf.interval:  condifence interval of PD estimates\n",
    "  # Returns:\n",
    "  #                   estimated conditional PDs\n",
    "    r_num = len(portfolio)\n",
    "    r_pd = np.zeros((r_num, 1))\n",
    "    portf_CNum = np.cumsum(portfolio)[::-1]\n",
    "    portf_CDef = np.cumsum(defaults)[::-1]\n",
    "\n",
    "    for r in range(r_num):\n",
    "\n",
    "        if portf_CDef[r] == portf_CNum[r]:\n",
    "            r_pd[r] = 1\n",
    "        else:\n",
    "            from scipy.stats import binom\n",
    "\n",
    "            def binomial(prob):\n",
    "                return binom.cdf(k=portf_CDef[r], n=portf_CNum[r], p=prob) - 1 + c_i\n",
    "\n",
    "            from scipy.optimize import brentq\n",
    "\n",
    "            def optimizer(f):\n",
    "                return brentq(f, a=0, b=1)\n",
    "\n",
    "            r_pd[r] = optimizer(f=binomial)\n",
    "\n",
    "    return r_pd[::-1]"
   ]
  },
  {
   "cell_type": "markdown",
   "metadata": {
    "heading_collapsed": true
   },
   "source": [
    "### CI = 0.9"
   ]
  },
  {
   "cell_type": "code",
   "execution_count": 2,
   "metadata": {
    "ExecuteTime": {
     "end_time": "2020-07-14T10:29:50.577451Z",
     "start_time": "2020-07-14T10:29:42.934365Z"
    },
    "hidden": true
   },
   "outputs": [
    {
     "data": {
      "text/plain": [
       "array([[0.33684772],\n",
       "       [0.24801831],\n",
       "       [0.12875642],\n",
       "       [0.07272319],\n",
       "       [0.06558575]])"
      ]
     },
     "execution_count": 2,
     "metadata": {},
     "output_type": "execute_result"
    }
   ],
   "source": [
    "pt_one_period_pd([10,15,25,40,10],[1,2,0,0,0])"
   ]
  },
  {
   "cell_type": "markdown",
   "metadata": {
    "heading_collapsed": true
   },
   "source": [
    "### CI = 0.75"
   ]
  },
  {
   "cell_type": "code",
   "execution_count": 3,
   "metadata": {
    "ExecuteTime": {
     "end_time": "2020-07-14T10:29:55.403174Z",
     "start_time": "2020-07-14T10:29:55.330227Z"
    },
    "hidden": true
   },
   "outputs": [
    {
     "data": {
      "text/plain": [
       "array([[0.24737063],\n",
       "       [0.19581168],\n",
       "       [0.10004063],\n",
       "       [0.05610747],\n",
       "       [0.05055637]])"
      ]
     },
     "execution_count": 3,
     "metadata": {},
     "output_type": "execute_result"
    }
   ],
   "source": [
    "pt_one_period_pd([10,15,25,40,10],[1,2,0,0,0],c_i=0.75)"
   ]
  },
  {
   "cell_type": "markdown",
   "metadata": {
    "heading_collapsed": true
   },
   "source": [
    "### CI = 0.5"
   ]
  },
  {
   "cell_type": "code",
   "execution_count": 4,
   "metadata": {
    "ExecuteTime": {
     "end_time": "2020-07-14T10:29:56.463639Z",
     "start_time": "2020-07-14T10:29:56.433721Z"
    },
    "hidden": true
   },
   "outputs": [
    {
     "data": {
      "text/plain": [
       "array([[0.16226273],\n",
       "       [0.14492462],\n",
       "       [0.07294975],\n",
       "       [0.0406487 ],\n",
       "       [0.03659748]])"
      ]
     },
     "execution_count": 4,
     "metadata": {},
     "output_type": "execute_result"
    }
   ],
   "source": [
    "pt_one_period_pd([10,15,25,40,10],[1,2,0,0,0],c_i=0.5)"
   ]
  },
  {
   "cell_type": "markdown",
   "metadata": {},
   "source": [
    "## Van Der Burght CAP method"
   ]
  },
  {
   "cell_type": "code",
   "execution_count": 20,
   "metadata": {
    "ExecuteTime": {
     "end_time": "2020-07-15T15:52:58.722093Z",
     "start_time": "2020-07-15T15:52:58.690092Z"
    }
   },
   "outputs": [],
   "source": [
    "def VDB_Calibrate_PD(portf_uncond, pd_uncond_old, pd_uncond_new, AR, rating_type):\n",
    "    # Calibrates PDs acording to approach proposed by M. van der Burgt.\n",
    "  # Args:\n",
    "  #   portf_uncond:     unconditional portfolio distribution from the worst to the best credit quality\n",
    "  #   pd_uncond_new:    target Mean PD (Central Tendency) for the porfolio  \n",
    "  #   pd_uncond_old:    unconditional PD of the sample on wich AR had been estimated\n",
    "  #   AR:               AR of the ranking model\n",
    "  #   rating_type:      In case RATING, each item in the portf.uncond contains number of companies in a given rating class\n",
    "  # Returns:\n",
    "  #   lambda:           convexity parameter of the calibration curve\n",
    "  #   pd_cond:          conditional PDs after calibration \n",
    "  #   portf_cumdist:    cumulative portfolio distribution needed to estimate logit PDs (conditional on non-default if such data is given)\n",
    "  #   portf_uncond:     unconditional portfolio distribution from the worst to the best credit quality\n",
    "  #   rating_type:      In case RATING, each item in the portf.uncond contains number of companies in a given rating class  \n",
    "    def ecdf(data):\n",
    "        \"\"\" Compute ECDF \"\"\"\n",
    "        from statsmodels.distributions.empirical_distribution import ECDF\n",
    "        ecd = ECDF(data)\n",
    "        val = [np.round(ecd(i),4) for i in data]\n",
    "\n",
    "        return val\n",
    "    \n",
    "    def VDB_Get_K(): \n",
    "        # Returns:\n",
    "        # approximation parameters (describes convexity of CAP curve)\n",
    "        from scipy.optimize import brentq\n",
    "        def optimizer(f):\n",
    "            return brentq(f ,a=10**-5,b=100)\n",
    "\n",
    "        return optimizer(f=VDBAR)\n",
    "    \n",
    "    def VDBAR(k):\n",
    "    \n",
    "        return((2 * (1 / (1 - np.exp(-k)) - 1 / k - 0.5) / (1 -  pd_uncond_old )))- AR\n",
    "    \n",
    "    \n",
    "    def VDB_CAP_Der(x, k):\n",
    "        # One parameter approximation of Derivative ofcAP curve\n",
    "        # Args:\n",
    "        #   k:      approximation parameters (describes convexity of CAP curve)\n",
    "        #   x:      point of borrower's unconditional cumulative distribution\n",
    "        # Returns:\n",
    "        #         value of approximated Derivative of CAP curve in a point x\n",
    "        return  ((k * np.exp(-k * x)/(1 - np.exp(-k))))\n",
    "    \n",
    "    from operator import add\n",
    "    if rating_type == 'RATING':\n",
    "        portf_cum = list(np.cumsum(portf_uncond))\n",
    "        portf_cum_rl = portf_cum[:]\n",
    "        portf_cum_rl.pop()\n",
    "        portf_cum_rl.insert(0, 0)\n",
    "        portf_dist = np.divide(\n",
    "            list(map(add, portf_cum, portf_cum_rl)), (2*sum(portf_uncond)))\n",
    "    else:\n",
    "        portf_dist = ecdf(portf_uncond)\n",
    "        portf_dist[len(portf_dist)-1] = (1+portf_dist[len(portf_dist)-2])/2\n",
    "\n",
    "    ##############\n",
    "    k = VDB_Get_K()\n",
    "    ##############\n",
    "\n",
    "    pd_cond = [pd_uncond_new * VDB_CAP_Der(i, k) for i in portf_dist]\n",
    "\n",
    "    rez = {}\n",
    "    rez[\"lambda\"] = k\n",
    "    rez['cond_PD'] = pd_cond\n",
    "    rez['portf_cum_dist'] = portf_dist\n",
    "    rez['rating_type'] = rating_type\n",
    "    rez['portf_uncond'] = np.sum(np.multiply(np.divide(portf_uncond, sum(\n",
    "        portf_uncond)), pd_cond)) if rating_type == \"RATING\" else np.mean(pd_cond)\n",
    "    return rez"
   ]
  },
  {
   "cell_type": "markdown",
   "metadata": {},
   "source": [
    "### AR=0.9"
   ]
  },
  {
   "cell_type": "code",
   "execution_count": 21,
   "metadata": {
    "ExecuteTime": {
     "end_time": "2020-07-15T15:53:04.229088Z",
     "start_time": "2020-07-15T15:53:03.419791Z"
    }
   },
   "outputs": [
    {
     "data": {
      "text/plain": [
       "{'lambda': 15.747995588656934,\n",
       " 'cond_PD': [0.21497265628673054,\n",
       "  0.03002443023388319,\n",
       "  0.0012871265763038152,\n",
       "  7.706537436174594e-06,\n",
       "  1.5032887110278232e-07],\n",
       " 'portf_cum_dist': array([0.05 , 0.175, 0.375, 0.7  , 0.95 ]),\n",
       " 'rating_type': 'RATING',\n",
       " 'portf_uncond': 0.026325809455693065}"
      ]
     },
     "execution_count": 21,
     "metadata": {},
     "output_type": "execute_result"
    }
   ],
   "source": [
    "VDB_Calibrate_PD(portf_uncond=[10,15,25,40,10], pd_uncond_old=0.03, pd_uncond_new=0.03, AR=0.9, rating_type='RATING')"
   ]
  },
  {
   "cell_type": "markdown",
   "metadata": {},
   "source": [
    "### AR =0.75"
   ]
  },
  {
   "cell_type": "code",
   "execution_count": 22,
   "metadata": {
    "ExecuteTime": {
     "end_time": "2020-07-15T15:56:50.991893Z",
     "start_time": "2020-07-15T15:56:50.966886Z"
    }
   },
   "outputs": [
    {
     "data": {
      "text/plain": [
       "{'lambda': 7.303335255571316,\n",
       " 'cond_PD': [0.15217562222018272,\n",
       "  0.061075961274788496,\n",
       "  0.014174595388102663,\n",
       "  0.0013203110424987227,\n",
       "  0.00021268002627655702],\n",
       " 'portf_cum_dist': array([0.05 , 0.175, 0.375, 0.7  , 0.95 ]),\n",
       " 'rating_type': 'RATING',\n",
       " 'portf_uncond': 0.028471997679889356}"
      ]
     },
     "execution_count": 22,
     "metadata": {},
     "output_type": "execute_result"
    }
   ],
   "source": [
    "VDB_Calibrate_PD(portf_uncond=[10,15,25,40,10], pd_uncond_old=0.03, pd_uncond_new=0.03, AR=0.75, rating_type='RATING')"
   ]
  },
  {
   "cell_type": "markdown",
   "metadata": {},
   "source": [
    "### AR =0.5"
   ]
  },
  {
   "cell_type": "code",
   "execution_count": 23,
   "metadata": {
    "ExecuteTime": {
     "end_time": "2020-07-15T15:57:26.880573Z",
     "start_time": "2020-07-15T15:57:26.857763Z"
    }
   },
   "outputs": [
    {
     "data": {
      "text/plain": [
       "{'lambda': 3.441408057915692,\n",
       " 'cond_PD': [0.08979695737730259,\n",
       "  0.058403457116475016,\n",
       "  0.029344157801446967,\n",
       "  0.009589184558427711,\n",
       "  0.004056351159784401],\n",
       " 'portf_cum_dist': array([0.05 , 0.175, 0.375, 0.7  , 0.95 ]),\n",
       " 'rating_type': 'RATING',\n",
       " 'portf_uncond': 0.029317562694912782}"
      ]
     },
     "execution_count": 23,
     "metadata": {},
     "output_type": "execute_result"
    }
   ],
   "source": [
    "VDB_Calibrate_PD(portf_uncond=[10,15,25,40,10], pd_uncond_old=0.03, pd_uncond_new=0.03, AR=0.5, rating_type='RATING')"
   ]
  },
  {
   "cell_type": "code",
   "execution_count": null,
   "metadata": {},
   "outputs": [],
   "source": []
  }
 ],
 "metadata": {
  "kernelspec": {
   "display_name": "Python 3",
   "language": "python",
   "name": "python3"
  },
  "language_info": {
   "codemirror_mode": {
    "name": "ipython",
    "version": 3
   },
   "file_extension": ".py",
   "mimetype": "text/x-python",
   "name": "python",
   "nbconvert_exporter": "python",
   "pygments_lexer": "ipython3",
   "version": "3.7.7"
  },
  "toc": {
   "base_numbering": 1,
   "nav_menu": {},
   "number_sections": true,
   "sideBar": true,
   "skip_h1_title": false,
   "title_cell": "Table of Contents",
   "title_sidebar": "Contents",
   "toc_cell": false,
   "toc_position": {},
   "toc_section_display": true,
   "toc_window_display": false
  },
  "varInspector": {
   "cols": {
    "lenName": 16,
    "lenType": 16,
    "lenVar": 40
   },
   "kernels_config": {
    "python": {
     "delete_cmd_postfix": "",
     "delete_cmd_prefix": "del ",
     "library": "var_list.py",
     "varRefreshCmd": "print(var_dic_list())"
    },
    "r": {
     "delete_cmd_postfix": ") ",
     "delete_cmd_prefix": "rm(",
     "library": "var_list.r",
     "varRefreshCmd": "cat(var_dic_list()) "
    }
   },
   "types_to_exclude": [
    "module",
    "function",
    "builtin_function_or_method",
    "instance",
    "_Feature"
   ],
   "window_display": false
  }
 },
 "nbformat": 4,
 "nbformat_minor": 4
}
