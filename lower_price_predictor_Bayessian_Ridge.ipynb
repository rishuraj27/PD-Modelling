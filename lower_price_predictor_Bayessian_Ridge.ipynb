{
  "nbformat": 4,
  "nbformat_minor": 0,
  "metadata": {
    "kernelspec": {
      "display_name": "Python 3",
      "language": "python",
      "name": "python3"
    },
    "language_info": {
      "codemirror_mode": {
        "name": "ipython",
        "version": 3
      },
      "file_extension": ".py",
      "mimetype": "text/x-python",
      "name": "python",
      "nbconvert_exporter": "python",
      "pygments_lexer": "ipython3",
      "version": "3.7.6"
    },
    "colab": {
      "name": "lower price predictor Bayessian Ridge.ipynb",
      "provenance": [],
      "collapsed_sections": [
        "axEqcKFnioJ6"
      ],
      "toc_visible": true,
      "include_colab_link": true
    }
  },
  "cells": [
    {
      "cell_type": "markdown",
      "metadata": {
        "id": "view-in-github",
        "colab_type": "text"
      },
      "source": [
        "<a href=\"https://colab.research.google.com/github/rishuraj27/PD-Modelling/blob/master/lower_price_predictor_Bayessian_Ridge.ipynb\" target=\"_parent\"><img src=\"https://colab.research.google.com/assets/colab-badge.svg\" alt=\"Open In Colab\"/></a>"
      ]
    },
    {
      "cell_type": "code",
      "metadata": {
        "id": "9OfDDJvBioFJ",
        "colab_type": "code",
        "colab": {}
      },
      "source": [
        "import numpy as np\n",
        "import pandas as pd\n",
        "import matplotlib.pyplot as plt\n",
        "from sklearn.ensemble import RandomForestRegressor\n",
        "from sklearn.metrics import mean_squared_error as MSE\n",
        "from sklearn.model_selection import train_test_split\n",
        "from sklearn.preprocessing import KBinsDiscretizer"
      ],
      "execution_count": 1,
      "outputs": []
    },
    {
      "cell_type": "code",
      "metadata": {
        "id": "7oEsQAg8Jh-5",
        "colab_type": "code",
        "colab": {}
      },
      "source": [
        "# for var in categorical:\n",
        "#   plt.hist(train_df[var],train_df[\"Attrition_rate\"])\n",
        "#   plt.xlabel(var)\n",
        "#   plt.show()"
      ],
      "execution_count": null,
      "outputs": []
    },
    {
      "cell_type": "code",
      "metadata": {
        "id": "okJujEu4ioF7",
        "colab_type": "code",
        "colab": {}
      },
      "source": [
        "train_df = pd.read_csv(\"/content/Train.csv\")\n",
        "test_df = pd.read_csv(\"/content/Test.csv\")"
      ],
      "execution_count": 14,
      "outputs": []
    },
    {
      "cell_type": "code",
      "metadata": {
        "id": "R3fxZ4m_odVO",
        "colab_type": "code",
        "colab": {}
      },
      "source": [
        "train_df[\"Date\"]=pd.to_datetime(train_df[\"Date\"])\n",
        "test_df[\"Date\"]=pd.to_datetime(test_df[\"Date\"])"
      ],
      "execution_count": 15,
      "outputs": []
    },
    {
      "cell_type": "code",
      "metadata": {
        "id": "MUz2IyEqF4o1",
        "colab_type": "code",
        "colab": {
          "base_uri": "https://localhost:8080/",
          "height": 384
        },
        "outputId": "b66ebedf-ed16-423a-befe-c62373f844da"
      },
      "source": [
        "for i in train_df.columns:\n",
        "  print(i,len(train_df[i].unique()))\n",
        "print(\"**\")\n",
        "for i in test_df.columns:\n",
        "  print(i,len(test_df[i].unique()))"
      ],
      "execution_count": 17,
      "outputs": [
        {
          "output_type": "stream",
          "text": [
            "Item_Id 9798\n",
            "Date 1070\n",
            "State_of_Country 21\n",
            "Market_Category 275\n",
            "Product_Category 17\n",
            "Grade 4\n",
            "Demand 1207\n",
            "Low_Cap_Price 5392\n",
            "High_Cap_Price 6468\n",
            "month 12\n",
            "**\n",
            "Item_Id 5763\n",
            "Date 617\n",
            "State_of_Country 20\n",
            "Market_Category 240\n",
            "Product_Category 17\n",
            "Grade 4\n",
            "Demand 860\n",
            "High_Cap_Price 4781\n",
            "month 12\n"
          ],
          "name": "stdout"
        }
      ]
    },
    {
      "cell_type": "markdown",
      "metadata": {
        "id": "1yK4RPNuF4Mo",
        "colab_type": "text"
      },
      "source": [
        ""
      ]
    },
    {
      "cell_type": "code",
      "metadata": {
        "id": "Tfs4MI8EoxyW",
        "colab_type": "code",
        "colab": {
          "base_uri": "https://localhost:8080/",
          "height": 660
        },
        "outputId": "97c66b88-c747-46f2-9148-977e44d53463"
      },
      "source": [
        "print(train_df.info())\n",
        "print(test_df.info())"
      ],
      "execution_count": 18,
      "outputs": [
        {
          "output_type": "stream",
          "text": [
            "<class 'pandas.core.frame.DataFrame'>\n",
            "RangeIndex: 9798 entries, 0 to 9797\n",
            "Data columns (total 10 columns):\n",
            " #   Column            Non-Null Count  Dtype         \n",
            "---  ------            --------------  -----         \n",
            " 0   Item_Id           9798 non-null   object        \n",
            " 1   Date              9798 non-null   datetime64[ns]\n",
            " 2   State_of_Country  9798 non-null   int64         \n",
            " 3   Market_Category   9798 non-null   int64         \n",
            " 4   Product_Category  9798 non-null   int64         \n",
            " 5   Grade             9798 non-null   int64         \n",
            " 6   Demand            9798 non-null   float64       \n",
            " 7   Low_Cap_Price     9798 non-null   int64         \n",
            " 8   High_Cap_Price    9798 non-null   int64         \n",
            " 9   month             9798 non-null   int64         \n",
            "dtypes: datetime64[ns](1), float64(1), int64(7), object(1)\n",
            "memory usage: 765.6+ KB\n",
            "None\n",
            "<class 'pandas.core.frame.DataFrame'>\n",
            "RangeIndex: 5763 entries, 0 to 5762\n",
            "Data columns (total 9 columns):\n",
            " #   Column            Non-Null Count  Dtype         \n",
            "---  ------            --------------  -----         \n",
            " 0   Item_Id           5763 non-null   object        \n",
            " 1   Date              5763 non-null   datetime64[ns]\n",
            " 2   State_of_Country  5763 non-null   int64         \n",
            " 3   Market_Category   5763 non-null   int64         \n",
            " 4   Product_Category  5763 non-null   int64         \n",
            " 5   Grade             5763 non-null   int64         \n",
            " 6   Demand            5763 non-null   float64       \n",
            " 7   High_Cap_Price    5763 non-null   int64         \n",
            " 8   month             5763 non-null   int64         \n",
            "dtypes: datetime64[ns](1), float64(1), int64(6), object(1)\n",
            "memory usage: 405.3+ KB\n",
            "None\n"
          ],
          "name": "stdout"
        }
      ]
    },
    {
      "cell_type": "code",
      "metadata": {
        "id": "AL53yXmJm2al",
        "colab_type": "code",
        "colab": {}
      },
      "source": [
        "#train_df.loc[:,\"year\"]=train_df[\"Date\"].dt.year\n",
        "train_df.loc[:,\"month\"]=train_df[\"Date\"].dt.month\n",
        "#train_df.loc[:,\"week\"]=train_df[\"Date\"].dt.week\n",
        "#test_df.loc[:,\"year\"]=test_df[\"Date\"].dt.year\n",
        "test_df.loc[:,\"month\"]=test_df[\"Date\"].dt.month\n",
        "#test_df.loc[:,\"week\"]=test_df[\"Date\"].dt.week"
      ],
      "execution_count": 16,
      "outputs": []
    },
    {
      "cell_type": "code",
      "metadata": {
        "id": "ce57hc2ScQLy",
        "colab_type": "code",
        "colab": {
          "base_uri": "https://localhost:8080/",
          "height": 54
        },
        "outputId": "3a2664ff-3deb-4f0b-dbed-c611f0b012b1"
      },
      "source": [
        "print(train_df.shape)\n",
        "print(test_df.shape)"
      ],
      "execution_count": 12,
      "outputs": [
        {
          "output_type": "stream",
          "text": [
            "(9798, 11)\n",
            "(5763, 10)\n"
          ],
          "name": "stdout"
        }
      ]
    },
    {
      "cell_type": "code",
      "metadata": {
        "id": "txNq2QixcP_n",
        "colab_type": "code",
        "colab": {}
      },
      "source": [
        "for i in train_df.columns :\n",
        "  print(train_df[i].value_counts())"
      ],
      "execution_count": null,
      "outputs": []
    },
    {
      "cell_type": "code",
      "metadata": {
        "id": "UZ4Rpq74ioGL",
        "colab_type": "code",
        "colab": {
          "base_uri": "https://localhost:8080/",
          "height": 206
        },
        "outputId": "df8b6cd3-392c-4f40-e4bc-b3df3c4c8f78"
      },
      "source": [
        "train_df.head()"
      ],
      "execution_count": 3,
      "outputs": [
        {
          "output_type": "execute_result",
          "data": {
            "text/html": [
              "<div>\n",
              "<style scoped>\n",
              "    .dataframe tbody tr th:only-of-type {\n",
              "        vertical-align: middle;\n",
              "    }\n",
              "\n",
              "    .dataframe tbody tr th {\n",
              "        vertical-align: top;\n",
              "    }\n",
              "\n",
              "    .dataframe thead th {\n",
              "        text-align: right;\n",
              "    }\n",
              "</style>\n",
              "<table border=\"1\" class=\"dataframe\">\n",
              "  <thead>\n",
              "    <tr style=\"text-align: right;\">\n",
              "      <th></th>\n",
              "      <th>Item_Id</th>\n",
              "      <th>Date</th>\n",
              "      <th>State_of_Country</th>\n",
              "      <th>Market_Category</th>\n",
              "      <th>Product_Category</th>\n",
              "      <th>Grade</th>\n",
              "      <th>Demand</th>\n",
              "      <th>Low_Cap_Price</th>\n",
              "      <th>High_Cap_Price</th>\n",
              "    </tr>\n",
              "  </thead>\n",
              "  <tbody>\n",
              "    <tr>\n",
              "      <th>0</th>\n",
              "      <td>IT_1</td>\n",
              "      <td>2007-07-05</td>\n",
              "      <td>0</td>\n",
              "      <td>0</td>\n",
              "      <td>0</td>\n",
              "      <td>0</td>\n",
              "      <td>0.5</td>\n",
              "      <td>2785</td>\n",
              "      <td>4240</td>\n",
              "    </tr>\n",
              "    <tr>\n",
              "      <th>1</th>\n",
              "      <td>IT_2</td>\n",
              "      <td>2007-07-05</td>\n",
              "      <td>0</td>\n",
              "      <td>1</td>\n",
              "      <td>0</td>\n",
              "      <td>0</td>\n",
              "      <td>0.7</td>\n",
              "      <td>3574</td>\n",
              "      <td>4756</td>\n",
              "    </tr>\n",
              "    <tr>\n",
              "      <th>2</th>\n",
              "      <td>IT_3</td>\n",
              "      <td>2007-07-05</td>\n",
              "      <td>0</td>\n",
              "      <td>103</td>\n",
              "      <td>0</td>\n",
              "      <td>1</td>\n",
              "      <td>1.6</td>\n",
              "      <td>5978</td>\n",
              "      <td>9669</td>\n",
              "    </tr>\n",
              "    <tr>\n",
              "      <th>3</th>\n",
              "      <td>IT_4</td>\n",
              "      <td>2007-07-05</td>\n",
              "      <td>0</td>\n",
              "      <td>103</td>\n",
              "      <td>0</td>\n",
              "      <td>0</td>\n",
              "      <td>0.0</td>\n",
              "      <td>5681</td>\n",
              "      <td>8313</td>\n",
              "    </tr>\n",
              "    <tr>\n",
              "      <th>4</th>\n",
              "      <td>IT_5</td>\n",
              "      <td>2007-07-05</td>\n",
              "      <td>0</td>\n",
              "      <td>103</td>\n",
              "      <td>0</td>\n",
              "      <td>2</td>\n",
              "      <td>0.0</td>\n",
              "      <td>4924</td>\n",
              "      <td>7257</td>\n",
              "    </tr>\n",
              "  </tbody>\n",
              "</table>\n",
              "</div>"
            ],
            "text/plain": [
              "  Item_Id        Date  State_of_Country  ...  Demand  Low_Cap_Price  High_Cap_Price\n",
              "0    IT_1  2007-07-05                 0  ...     0.5           2785            4240\n",
              "1    IT_2  2007-07-05                 0  ...     0.7           3574            4756\n",
              "2    IT_3  2007-07-05                 0  ...     1.6           5978            9669\n",
              "3    IT_4  2007-07-05                 0  ...     0.0           5681            8313\n",
              "4    IT_5  2007-07-05                 0  ...     0.0           4924            7257\n",
              "\n",
              "[5 rows x 9 columns]"
            ]
          },
          "metadata": {
            "tags": []
          },
          "execution_count": 3
        }
      ]
    },
    {
      "cell_type": "code",
      "metadata": {
        "id": "8fC3NUlPzbwK",
        "colab_type": "code",
        "colab": {}
      },
      "source": [
        "# est = KBinsDiscretizer(n_bins=5, encode='ordinal', strategy='uniform')\n",
        "# b_ = [\"b\"+str(x) for x in range(10)]\n",
        "# train_df[\"Age\"] = pd.qcut(train_df[\"Age\"],q=10,labels=b_)\n",
        "# test_df[\"Age\"] = pd.qcut(test_df[\"Age\"],q= 10,labels=b_)\n",
        "# #train_df[\"Age\"].value_counts()"
      ],
      "execution_count": null,
      "outputs": []
    },
    {
      "cell_type": "code",
      "metadata": {
        "id": "V4t0oETHvnUc",
        "colab_type": "code",
        "colab": {}
      },
      "source": [
        "# train_df.groupby(\"Unit\")[\"Attrition_rate\"].agg(\"mean\")"
      ],
      "execution_count": 4,
      "outputs": []
    },
    {
      "cell_type": "code",
      "metadata": {
        "id": "Qwt0C772oMsr",
        "colab_type": "code",
        "colab": {}
      },
      "source": [
        "numerical= [\"Demand\",\"High_Cap_Price\"] \n",
        "dep = ['Low_Cap_Price']\n",
        "date_=[\"Date\"]\n",
        "integer =['High_Cap_Price']\n",
        "categorical = [\"State_of_Country\",\"Market_Category\",\"Product_Category\",\"Grade\"]\n",
        "cc=[\"Product_Category\",\"Grade\",'month']"
      ],
      "execution_count": 19,
      "outputs": []
    },
    {
      "cell_type": "code",
      "metadata": {
        "id": "hhgXtycsioGg",
        "colab_type": "code",
        "colab": {
          "base_uri": "https://localhost:8080/",
          "height": 348
        },
        "outputId": "e55c6c86-117f-44ff-e33f-eef5263a3697"
      },
      "source": [
        "train_df.info()"
      ],
      "execution_count": 22,
      "outputs": [
        {
          "output_type": "stream",
          "text": [
            "<class 'pandas.core.frame.DataFrame'>\n",
            "RangeIndex: 9798 entries, 0 to 9797\n",
            "Data columns (total 11 columns):\n",
            " #   Column            Non-Null Count  Dtype         \n",
            "---  ------            --------------  -----         \n",
            " 0   Item_Id           9798 non-null   object        \n",
            " 1   Date              9798 non-null   datetime64[ns]\n",
            " 2   State_of_Country  9798 non-null   int64         \n",
            " 3   Market_Category   9798 non-null   int64         \n",
            " 4   Product_Category  9798 non-null   int64         \n",
            " 5   Grade             9798 non-null   int64         \n",
            " 6   Demand            9798 non-null   float64       \n",
            " 7   Low_Cap_Price     9798 non-null   int64         \n",
            " 8   High_Cap_Price    9798 non-null   int64         \n",
            " 9   year              9798 non-null   int64         \n",
            " 10  month             9798 non-null   int64         \n",
            "dtypes: datetime64[ns](1), float64(1), int64(8), object(1)\n",
            "memory usage: 842.1+ KB\n"
          ],
          "name": "stdout"
        }
      ]
    },
    {
      "cell_type": "markdown",
      "metadata": {
        "id": "etbRnvZuioHB",
        "colab_type": "text"
      },
      "source": [
        "## Missing treatment"
      ]
    },
    {
      "cell_type": "code",
      "metadata": {
        "id": "LA5FV_5hioHa",
        "colab_type": "code",
        "colab": {}
      },
      "source": [
        "# train_df[numerical].isnull().sum()"
      ],
      "execution_count": null,
      "outputs": []
    },
    {
      "cell_type": "code",
      "metadata": {
        "id": "b7tuTYmgioHp",
        "colab_type": "code",
        "colab": {}
      },
      "source": [
        "# train_df[categorical].isnull().sum()"
      ],
      "execution_count": 11,
      "outputs": []
    },
    {
      "cell_type": "code",
      "metadata": {
        "id": "ASwK76gMioH2",
        "colab_type": "code",
        "colab": {}
      },
      "source": [
        "# #Train numerical data imputation\n",
        "# from sklearn.impute import KNNImputer\n",
        "# from sklearn.impute import SimpleImputer\n",
        "# #imputer = SimpleImputer(missing_values=np.nan, strategy='mean')\n",
        "# imputer = KNNImputer(n_neighbors=5,weights='distance')\n",
        "# train_df[numerical] = pd.DataFrame(imputer.fit_transform(train_df[numerical]),columns=numerical)\n",
        "# test_df[numerical] = pd.DataFrame(imputer.fit_transform(test_df[numerical]),columns=numerical)"
      ],
      "execution_count": null,
      "outputs": []
    },
    {
      "cell_type": "code",
      "metadata": {
        "id": "RNTx0C9hioIF",
        "colab_type": "code",
        "colab": {}
      },
      "source": [
        "# #Test numerical data imputation\n",
        "# from sklearn.impute import KNNImputer\n",
        "# imputer = KNNImputer(n_neighbors=5,weights='distance')\n",
        "# test_df[numerical] = pd.DataFrame(imputer.fit_transform(test_df[numerical]),columns=numerical)"
      ],
      "execution_count": null,
      "outputs": []
    },
    {
      "cell_type": "code",
      "metadata": {
        "id": "4rX24uDUioIc",
        "colab_type": "code",
        "colab": {}
      },
      "source": [
        "# for var in integer:\n",
        "#     train_df[var] = np.round(train_df[var])\n",
        "#     test_df[var] = np.round(test_df[var])"
      ],
      "execution_count": null,
      "outputs": []
    },
    {
      "cell_type": "code",
      "metadata": {
        "id": "bZfLIofBqkk2",
        "colab_type": "code",
        "colab": {}
      },
      "source": [
        "# from sklearn.impute import SimpleImputer\n",
        "# imp = SimpleImputer(missing_values=np.nan, strategy='most_frequent')\n",
        "# train_df[categorical]= imp.fit_transform(train_df[categorical])\n",
        "# test_df[categorical]= imp.fit_transform(test_df[categorical])"
      ],
      "execution_count": null,
      "outputs": []
    },
    {
      "cell_type": "code",
      "metadata": {
        "id": "HilJe7huq23w",
        "colab_type": "code",
        "colab": {}
      },
      "source": [
        "# train_df.isnull().sum()"
      ],
      "execution_count": 8,
      "outputs": []
    },
    {
      "cell_type": "code",
      "metadata": {
        "id": "tmVopba8LAxz",
        "colab_type": "code",
        "colab": {}
      },
      "source": [
        " #test_df.isnull().sum()"
      ],
      "execution_count": 10,
      "outputs": []
    },
    {
      "cell_type": "markdown",
      "metadata": {
        "id": "lBM1II1rioJb",
        "colab_type": "text"
      },
      "source": [
        "## Encoding categorical variable"
      ]
    },
    {
      "cell_type": "code",
      "metadata": {
        "id": "eTbugRmkioJd",
        "colab_type": "code",
        "colab": {}
      },
      "source": [
        "#categorical.remove(\"Employee_ID\")\n",
        "train_df= pd.get_dummies(train_df,columns= cc)\n",
        "test_df= pd.get_dummies(test_df,columns= cc)"
      ],
      "execution_count": 20,
      "outputs": []
    },
    {
      "cell_type": "code",
      "metadata": {
        "scrolled": true,
        "id": "2kn6ZfHtioJs",
        "colab_type": "code",
        "colab": {
          "base_uri": "https://localhost:8080/",
          "height": 54
        },
        "outputId": "63f65e9e-3092-494a-e04f-a838dbdfce07"
      },
      "source": [
        "print(train_df.shape)\n",
        "print(test_df.shape)"
      ],
      "execution_count": 21,
      "outputs": [
        {
          "output_type": "stream",
          "text": [
            "(9798, 40)\n",
            "(5763, 39)\n"
          ],
          "name": "stdout"
        }
      ]
    },
    {
      "cell_type": "markdown",
      "metadata": {
        "id": "0lbuPofVLz5o",
        "colab_type": "text"
      },
      "source": [
        "## Outlier Treatment"
      ]
    },
    {
      "cell_type": "code",
      "metadata": {
        "id": "lP2li9QgL9sD",
        "colab_type": "code",
        "colab": {}
      },
      "source": [
        "from sklearn.cluster import DBSCAN\n",
        "from sklearn.neighbors import NearestNeighbors\n"
      ],
      "execution_count": null,
      "outputs": []
    },
    {
      "cell_type": "code",
      "metadata": {
        "id": "-R-olKX2ioJ8",
        "colab_type": "code",
        "colab": {}
      },
      "source": [
        "data_out = train_df[numerical].copy(deep=True)\n",
        "from sklearn.preprocessing import StandardScaler\n",
        "scaler = StandardScaler()\n",
        "data_out = scaler.fit_transform(data_out)"
      ],
      "execution_count": 8,
      "outputs": []
    },
    {
      "cell_type": "code",
      "metadata": {
        "id": "L-KdkDEwMlmE",
        "colab_type": "code",
        "colab": {
          "base_uri": "https://localhost:8080/",
          "height": 35
        },
        "outputId": "3b89b455-cc5b-4965-e043-74de685e4454"
      },
      "source": [
        "len(numerical)"
      ],
      "execution_count": null,
      "outputs": [
        {
          "output_type": "execute_result",
          "data": {
            "text/plain": [
              "11"
            ]
          },
          "metadata": {
            "tags": []
          },
          "execution_count": 19
        }
      ]
    },
    {
      "cell_type": "code",
      "metadata": {
        "id": "f_0u6YLCMvbM",
        "colab_type": "code",
        "colab": {}
      },
      "source": [
        "neigh = NearestNeighbors(n_neighbors=len(numerical)-1)\n",
        "nbrs = neigh.fit(data_out)\n",
        "distances, indices =nbrs.kneighbors(data_out)"
      ],
      "execution_count": null,
      "outputs": []
    },
    {
      "cell_type": "code",
      "metadata": {
        "id": "JkbvAxQoMvY6",
        "colab_type": "code",
        "colab": {}
      },
      "source": [
        "distances = distances[:,len(numerical)-2]\n",
        "distances = np.sort(distances,axis=0)"
      ],
      "execution_count": null,
      "outputs": []
    },
    {
      "cell_type": "code",
      "metadata": {
        "id": "kb31yx-BMvNv",
        "colab_type": "code",
        "colab": {
          "base_uri": "https://localhost:8080/",
          "height": 283
        },
        "outputId": "3be4a129-a0b9-4f26-ad13-9fe8daa435b8"
      },
      "source": [
        "plt.plot(distances)"
      ],
      "execution_count": null,
      "outputs": [
        {
          "output_type": "execute_result",
          "data": {
            "text/plain": [
              "[<matplotlib.lines.Line2D at 0x7fbaa68184a8>]"
            ]
          },
          "metadata": {
            "tags": []
          },
          "execution_count": 22
        },
        {
          "output_type": "display_data",
          "data": {
            "image/png": "[encoded data removed]",
            "text/plain": [
              "<Figure size 432x288 with 1 Axes>"
            ]
          },
          "metadata": {
            "tags": [],
            "needs_background": "light"
          }
        }
      ]
    },
    {
      "cell_type": "code",
      "metadata": {
        "id": "4cgv5MPAMu8f",
        "colab_type": "code",
        "colab": {
          "base_uri": "https://localhost:8080/",
          "height": 54
        },
        "outputId": "1318d0f6-871b-45ae-a4a2-16a86c659b41"
      },
      "source": [
        "outlier_detection = DBSCAN(eps=2.8, min_samples= 12)\n",
        "clustering = outlier_detection.fit(data_out)\n",
        "unique_elements, counts_elements = np.unique(clustering.labels_,return_counts=True)\n",
        "np.asarray((unique_elements,counts_elements))"
      ],
      "execution_count": null,
      "outputs": [
        {
          "output_type": "execute_result",
          "data": {
            "text/plain": [
              "array([[  -1,    0],\n",
              "       [   8, 6992]])"
            ]
          },
          "metadata": {
            "tags": []
          },
          "execution_count": 152
        }
      ]
    },
    {
      "cell_type": "code",
      "metadata": {
        "id": "OZKj0p9YMu6h",
        "colab_type": "code",
        "colab": {}
      },
      "source": [
        "outlier_indicies= []\n",
        "for i in range(len(clustering.labels_)):\n",
        "  if clustering.labels_[i] == -1:\n",
        "    outlier_indicies.append(i)"
      ],
      "execution_count": null,
      "outputs": []
    },
    {
      "cell_type": "code",
      "metadata": {
        "id": "jMEpr5QZPJNe",
        "colab_type": "code",
        "colab": {}
      },
      "source": [
        "data_out_ind = set(train_df.index)\n",
        "inliers_indicies = data_out_ind - set(outlier_indicies)"
      ],
      "execution_count": null,
      "outputs": []
    },
    {
      "cell_type": "code",
      "metadata": {
        "id": "XDD4NknBPJKT",
        "colab_type": "code",
        "colab": {}
      },
      "source": [
        "train_df= train_df.iloc[list(inliers_indicies),:]"
      ],
      "execution_count": null,
      "outputs": []
    },
    {
      "cell_type": "markdown",
      "metadata": {
        "id": "z84YLWL3ioKe",
        "colab_type": "text"
      },
      "source": [
        "## dependent and independent variable"
      ]
    },
    {
      "cell_type": "code",
      "metadata": {
        "id": "vK1E4m2wioKh",
        "colab_type": "code",
        "colab": {
          "base_uri": "https://localhost:8080/",
          "height": 54
        },
        "outputId": "41aa4413-a376-400e-b994-54e753f2d923"
      },
      "source": [
        "item_id_id=train_df[[\"Item_Id\"]]\n",
        "X=train_df.drop([\"Item_Id\",\"Low_Cap_Price\",\"Date\"],axis=1)\n",
        "y=train_df[[\"Low_Cap_Price\"]]\n",
        "df_test = test_df.drop([\"Item_Id\",\"Date\"],axis=1) \n",
        "#X = scaler.fit_transform(X)\n",
        "print(X.shape)\n",
        "print(df_test.shape)"
      ],
      "execution_count": 22,
      "outputs": [
        {
          "output_type": "stream",
          "text": [
            "(9798, 37)\n",
            "(5763, 37)\n"
          ],
          "name": "stdout"
        }
      ]
    },
    {
      "cell_type": "code",
      "metadata": {
        "id": "BWEfYMJkioKr",
        "colab_type": "code",
        "colab": {}
      },
      "source": [
        "from sklearn.tree import DecisionTreeRegressor,DecisionTreeClassifier\n",
        "from sklearn.model_selection import GridSearchCV\n",
        "from sklearn.ensemble import AdaBoostRegressor, GradientBoostingRegressor,ExtraTreesRegressor,RandomForestClassifier,RandomForestRegressor\n",
        "from sklearn.linear_model import BayesianRidge\n",
        "#dt = DecisionTreeRegressor(random_state=3)\n",
        "#dt = DecisionTreeClassifier(random_state=3)\n",
        "#dt = RandomForestClassifier(random_state=3)\n",
        "dt = RandomForestRegressor(random_state=3)\n",
        "#dt= ExtraTreesRegressor(max_depth=2,min_samples_leaf=.22,random_state=3)\n",
        "#dt=BayesianRidge(compute_score=True)\n",
        "#abd_reg = AdaBoostRegressor(base_estimator=dt,n_estimators=100)\n",
        "#sgbt=GradientBoostingRegressor(max_depth=1,subsample=0.8,max_features=0.1,n_estimators=250,random_state=3)"
      ],
      "execution_count": 23,
      "outputs": []
    },
    {
      "cell_type": "code",
      "metadata": {
        "id": "q_iCQAFNwrGj",
        "colab_type": "code",
        "colab": {}
      },
      "source": [
        "# param_dt = {\"max_depth\":[1,2,3,8,9,10,15,20],\n",
        "#             \"min_samples_leaf\":[0.2,0.22,.24,.3,.33],\n",
        "#             \"max_features\":[0.6,0.8,1]\n",
        "#             }\n",
        "# grid_dt = GridSearchCV(estimator=dt,param_grid=param_dt,scoring='neg_root_mean_squared_error',cv=10)"
      ],
      "execution_count": null,
      "outputs": []
    },
    {
      "cell_type": "code",
      "metadata": {
        "id": "ief7tdrX8QkG",
        "colab_type": "code",
        "colab": {}
      },
      "source": [
        "# # Hyperparameter tunning for BR\n",
        "# param_dt = {\"n_iter\":[10,50,100,200,300,400,500],\n",
        "#             # \"tol\":[10**(-x) for x in range(3,7)],\n",
        "#             # \"alpha_1\":[10**(-x) for x in range(4,9)],\n",
        "#             # \"alpha_2\": [10**(-x) for x in range(4,9)],\n",
        "#             # \"lambda_1\" : [10**(-x) for x in range(4,9)],\n",
        "#             # \"lambda_2\": [10**(-x) for x in range(4,9)]\n",
        "#             }\n",
        "# grid_dt = GridSearchCV(estimator=dt,param_grid=param_dt,scoring='neg_root_mean_squared_error',cv=5)"
      ],
      "execution_count": null,
      "outputs": []
    },
    {
      "cell_type": "code",
      "metadata": {
        "id": "k6RdaLuJioMS",
        "colab_type": "code",
        "colab": {}
      },
      "source": [
        "X_train,X_test,y_train,y_test = train_test_split(X,y,test_size=0.2,random_state=3)"
      ],
      "execution_count": 150,
      "outputs": []
    },
    {
      "cell_type": "code",
      "metadata": {
        "id": "kpVC-OXNioMw",
        "colab_type": "code",
        "colab": {
          "base_uri": "https://localhost:8080/",
          "height": 202
        },
        "outputId": "e6830c7e-2f13-4dc7-f6cf-1e8cf595decf"
      },
      "source": [
        "# import warnings\n",
        "# warnings.filterwarnings(\"ignore\")\n",
        "#y_train = np.round(y_train)\n",
        "# dt.fit(X_train,y_train)\n",
        "#dt.fit(X_train,y_train)\n",
        "dt.fit(X,y)"
      ],
      "execution_count": 24,
      "outputs": [
        {
          "output_type": "stream",
          "text": [
            "/usr/local/lib/python3.6/dist-packages/ipykernel_launcher.py:6: DataConversionWarning: A column-vector y was passed when a 1d array was expected. Please change the shape of y to (n_samples,), for example using ravel().\n",
            "  \n"
          ],
          "name": "stderr"
        },
        {
          "output_type": "execute_result",
          "data": {
            "text/plain": [
              "RandomForestRegressor(bootstrap=True, ccp_alpha=0.0, criterion='mse',\n",
              "                      max_depth=None, max_features='auto', max_leaf_nodes=None,\n",
              "                      max_samples=None, min_impurity_decrease=0.0,\n",
              "                      min_impurity_split=None, min_samples_leaf=1,\n",
              "                      min_samples_split=2, min_weight_fraction_leaf=0.0,\n",
              "                      n_estimators=100, n_jobs=None, oob_score=False,\n",
              "                      random_state=3, verbose=0, warm_start=False)"
            ]
          },
          "metadata": {
            "tags": []
          },
          "execution_count": 24
        }
      ]
    },
    {
      "cell_type": "code",
      "metadata": {
        "id": "CeJL3UhSyUtG",
        "colab_type": "code",
        "colab": {}
      },
      "source": [
        "# best_param=grid_dt.best_params_\n",
        "# # best_param"
      ],
      "execution_count": 34,
      "outputs": []
    },
    {
      "cell_type": "code",
      "metadata": {
        "id": "hcIkhmYRyZmq",
        "colab_type": "code",
        "colab": {}
      },
      "source": [
        "# b_e = grid_dt.best_estimator_\n",
        "# b_e"
      ],
      "execution_count": 35,
      "outputs": []
    },
    {
      "cell_type": "code",
      "metadata": {
        "id": "OMmGNeC7z1-2",
        "colab_type": "code",
        "colab": {}
      },
      "source": [
        "# grid_dt.best_score_"
      ],
      "execution_count": 36,
      "outputs": []
    },
    {
      "cell_type": "code",
      "metadata": {
        "id": "xQ4ucssMeuxT",
        "colab_type": "code",
        "colab": {}
      },
      "source": [
        "from sklearn.metrics import mean_squared_log_error "
      ],
      "execution_count": 105,
      "outputs": []
    },
    {
      "cell_type": "code",
      "metadata": {
        "id": "5PG1_m46e0EZ",
        "colab_type": "code",
        "colab": {
          "base_uri": "https://localhost:8080/",
          "height": 35
        },
        "outputId": "b90f954d-a440-4b0f-d6b2-70b9922b98ff"
      },
      "source": [
        "score=max(0,(100-mean_squared_log_error(y_test,y_pred)))\n",
        "print(score)"
      ],
      "execution_count": 153,
      "outputs": [
        {
          "output_type": "stream",
          "text": [
            "99.90071536049157\n"
          ],
          "name": "stdout"
        }
      ]
    },
    {
      "cell_type": "code",
      "metadata": {
        "id": "azgnsKUqyqli",
        "colab_type": "code",
        "colab": {
          "base_uri": "https://localhost:8080/",
          "height": 35
        },
        "outputId": "ffb724b8-ba9c-483c-e579-720cbc4876b9"
      },
      "source": [
        "y_pred= dt.predict(X_test)\n",
        "min(y_pred)\n",
        "max(y_pred)"
      ],
      "execution_count": 152,
      "outputs": [
        {
          "output_type": "execute_result",
          "data": {
            "text/plain": [
              "12221.4"
            ]
          },
          "metadata": {
            "tags": []
          },
          "execution_count": 152
        }
      ]
    },
    {
      "cell_type": "code",
      "metadata": {
        "id": "jLcUs_AafVWa",
        "colab_type": "code",
        "colab": {
          "base_uri": "https://localhost:8080/",
          "height": 127
        },
        "outputId": "825ffe74-53f3-41f4-ae6e-c959597ece21"
      },
      "source": [
        "print(np.max(y_test))\n",
        "print(np.min(y_test))\n",
        "print(np.max(y_pred))\n",
        "print(np.min(y_pred))"
      ],
      "execution_count": 154,
      "outputs": [
        {
          "output_type": "stream",
          "text": [
            "Low_Cap_Price    17580\n",
            "dtype: int64\n",
            "Low_Cap_Price    1\n",
            "dtype: int64\n",
            "12221.4\n",
            "160.62\n"
          ],
          "name": "stdout"
        }
      ]
    },
    {
      "cell_type": "code",
      "metadata": {
        "id": "9B7P33g2zkAY",
        "colab_type": "code",
        "colab": {}
      },
      "source": [
        "# mse_dt=MSE(y_test,y_pred)\n",
        "# rmse_dt = np.sqrt(mse_dt)\n",
        "# rmse_dt"
      ],
      "execution_count": 67,
      "outputs": []
    },
    {
      "cell_type": "code",
      "metadata": {
        "id": "o0M5gNCcQxnX",
        "colab_type": "code",
        "colab": {}
      },
      "source": [
        "# score = 100* max(0, 1-rmse_dt )\n",
        "# score"
      ],
      "execution_count": 56,
      "outputs": []
    },
    {
      "cell_type": "code",
      "metadata": {
        "id": "5E0XhknQ1UWu",
        "colab_type": "code",
        "colab": {}
      },
      "source": [
        "#test_df_final = test_df.drop([\"Item_Id\",'Date'],axis =1)\n",
        "y_test_pred = dt.predict(df_test)"
      ],
      "execution_count": 25,
      "outputs": []
    },
    {
      "cell_type": "code",
      "metadata": {
        "id": "we6dnxWE1nQ8",
        "colab_type": "code",
        "colab": {
          "base_uri": "https://localhost:8080/",
          "height": 35
        },
        "outputId": "9268ef48-349d-4cce-bc22-ee3c68446f60"
      },
      "source": [
        "y_test_pred"
      ],
      "execution_count": null,
      "outputs": [
        {
          "output_type": "execute_result",
          "data": {
            "text/plain": [
              "array([0., 0., 0., ..., 0., 0., 0.])"
            ]
          },
          "metadata": {
            "tags": []
          },
          "execution_count": 81
        }
      ]
    },
    {
      "cell_type": "code",
      "metadata": {
        "id": "CM0CpwZrlY9u",
        "colab_type": "code",
        "colab": {}
      },
      "source": [
        ""
      ],
      "execution_count": null,
      "outputs": []
    },
    {
      "cell_type": "code",
      "metadata": {
        "id": "iktLnYxG2ZF_",
        "colab_type": "code",
        "colab": {}
      },
      "source": [
        "dd = {\"Item_Id\":test_df[\"Item_Id\"], \"Low_Cap_Price\":y_test_pred}\n",
        "result = pd.DataFrame(dd)\n",
        "\n",
        "result.set_index('Item_Id', inplace=True)"
      ],
      "execution_count": 26,
      "outputs": []
    },
    {
      "cell_type": "code",
      "metadata": {
        "id": "xIOi2p-E2sQD",
        "colab_type": "code",
        "colab": {
          "base_uri": "https://localhost:8080/",
          "height": 300
        },
        "outputId": "c58b67f5-b930-4bff-b6e7-e7704c57353d"
      },
      "source": [
        "result.describe()"
      ],
      "execution_count": 157,
      "outputs": [
        {
          "output_type": "execute_result",
          "data": {
            "text/html": [
              "<div>\n",
              "<style scoped>\n",
              "    .dataframe tbody tr th:only-of-type {\n",
              "        vertical-align: middle;\n",
              "    }\n",
              "\n",
              "    .dataframe tbody tr th {\n",
              "        vertical-align: top;\n",
              "    }\n",
              "\n",
              "    .dataframe thead th {\n",
              "        text-align: right;\n",
              "    }\n",
              "</style>\n",
              "<table border=\"1\" class=\"dataframe\">\n",
              "  <thead>\n",
              "    <tr style=\"text-align: right;\">\n",
              "      <th></th>\n",
              "      <th>Low_Cap_Price</th>\n",
              "    </tr>\n",
              "  </thead>\n",
              "  <tbody>\n",
              "    <tr>\n",
              "      <th>count</th>\n",
              "      <td>5763.000000</td>\n",
              "    </tr>\n",
              "    <tr>\n",
              "      <th>mean</th>\n",
              "      <td>5645.985355</td>\n",
              "    </tr>\n",
              "    <tr>\n",
              "      <th>std</th>\n",
              "      <td>2626.487103</td>\n",
              "    </tr>\n",
              "    <tr>\n",
              "      <th>min</th>\n",
              "      <td>191.580000</td>\n",
              "    </tr>\n",
              "    <tr>\n",
              "      <th>25%</th>\n",
              "      <td>3761.755000</td>\n",
              "    </tr>\n",
              "    <tr>\n",
              "      <th>50%</th>\n",
              "      <td>5586.420000</td>\n",
              "    </tr>\n",
              "    <tr>\n",
              "      <th>75%</th>\n",
              "      <td>7293.920000</td>\n",
              "    </tr>\n",
              "    <tr>\n",
              "      <th>max</th>\n",
              "      <td>15041.490000</td>\n",
              "    </tr>\n",
              "  </tbody>\n",
              "</table>\n",
              "</div>"
            ],
            "text/plain": [
              "       Low_Cap_Price\n",
              "count    5763.000000\n",
              "mean     5645.985355\n",
              "std      2626.487103\n",
              "min       191.580000\n",
              "25%      3761.755000\n",
              "50%      5586.420000\n",
              "75%      7293.920000\n",
              "max     15041.490000"
            ]
          },
          "metadata": {
            "tags": []
          },
          "execution_count": 157
        }
      ]
    },
    {
      "cell_type": "code",
      "metadata": {
        "id": "zz0lkCkB2yJb",
        "colab_type": "code",
        "colab": {}
      },
      "source": [
        "result.to_csv(\"/content/result_06.csv\")"
      ],
      "execution_count": 28,
      "outputs": []
    },
    {
      "cell_type": "code",
      "metadata": {
        "id": "Ju5Iz9zwphZc",
        "colab_type": "code",
        "colab": {}
      },
      "source": [
        ""
      ],
      "execution_count": null,
      "outputs": []
    },
    {
      "cell_type": "code",
      "metadata": {
        "id": "JvVdZqhc3CN-",
        "colab_type": "code",
        "colab": {
          "base_uri": "https://localhost:8080/",
          "height": 35
        },
        "outputId": "59690205-8f49-49be-f1e2-8ac1f79e33cb"
      },
      "source": [
        "score = 100* max(0, 1-rmse_dt )\n",
        "score"
      ],
      "execution_count": null,
      "outputs": [
        {
          "output_type": "execute_result",
          "data": {
            "text/plain": [
              "80.7505357914807"
            ]
          },
          "metadata": {
            "tags": []
          },
          "execution_count": 143
        }
      ]
    },
    {
      "cell_type": "code",
      "metadata": {
        "id": "8Rn8gVXa4dQR",
        "colab_type": "code",
        "colab": {}
      },
      "source": [
        "# # Neural Net\n",
        "# import tensorflow as tf\n",
        "# # GRADED FUNCTION: train_mnist\n",
        "# def train_mnist():\n",
        "#     # Please write your code only where you are indicated.\n",
        "#     # please do not remove # model fitting inline comments.\n",
        "\n",
        "#     # YOUR CODE SHOULD START HERE\n",
        "#     class myCallback(tf.keras.callbacks.Callback):\n",
        "#         def on_epoch_end(self,epoch,log={}):\n",
        "#             if log.get(\"acc\")>0.99:\n",
        "#                 print(\"/n Reached 99% accuracy so cancelling training/n\")\n",
        "#                 self.model.stop_training = True\n",
        "#     # YOUR CODE SHOULD END HERE\n",
        "    \n",
        "#     callbacks = myCallback()\n",
        "#     mnist = tf.keras.datasets.mnist\n",
        "\n",
        "#     (x_train, y_train),(x_test, y_test) = mnist.load_data(path=path)\n",
        "#     # YOUR CODE SHOULD START HERE\n",
        "#     x_train = x_train/255.0\n",
        "#     x_test = x_test/255.0\n",
        "#     # YOUR CODE SHOULD END HERE\n",
        "#     model = tf.keras.models.Sequential([\n",
        "#         # YOUR CODE SHOULD START HERE\n",
        "#     tf.keras.layers.Flatten(),\n",
        "#     tf.keras.layers.Dense(512,activation = tf.nn.relu),\n",
        "#     tf.keras.layers.Dense(10, activation = tf.nn.softmax)\n",
        "#         # YOUR CODE SHOULD END HERE\n",
        "#     ])\n",
        "\n",
        "#     model.compile(optimizer='adam',\n",
        "#                   loss='sparse_categorical_crossentropy',\n",
        "#                   metrics=['accuracy'])\n",
        "    \n",
        "#     # model fitting\n",
        "#     history = model.fit(# YOUR CODE SHOULD START HERE\n",
        "#         x_train,y_train,epochs=10,callbacks =[callbacks]\n",
        "#               # YOUR CODE SHOULD END HERE\n",
        "#     )\n",
        "#     # model fitting\n",
        "#     return history.epoch, history.history['acc'][-1]\n",
        "\n",
        "\n",
        "# # GRADED FUNCTION: house_model\n",
        "# def house_model(y_new):\n",
        "#     xs = np.array([float(x) for x in range(1,10)])\n",
        "#     ys = np.array([0.5+0.5*i for i in range(1,10)])\n",
        "#     model = tf.keras.Sequential([keras.layers.Dense(units=1, input_shape=[1])])\n",
        "#     model.compile(optimizer = \"sgd\", loss = \"mean_squared_error\")\n",
        "#     model.fit(xs,ys,epochs=500)\n",
        "#     return model.predict(y_new)[0]"
      ],
      "execution_count": null,
      "outputs": []
    }
  ]
}