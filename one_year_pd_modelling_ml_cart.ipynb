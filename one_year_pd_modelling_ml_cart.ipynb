{
 "cells": [
  {
   "cell_type": "markdown",
   "metadata": {},
   "source": [
    "# Data preparation"
   ]
  },
  {
   "cell_type": "markdown",
   "metadata": {},
   "source": [
    "## Library import"
   ]
  },
  {
   "cell_type": "code",
   "execution_count": 1,
   "metadata": {
    "ExecuteTime": {
     "end_time": "2020-07-13T14:23:43.068433Z",
     "start_time": "2020-07-13T14:23:27.358087Z"
    }
   },
   "outputs": [],
   "source": [
    "import random\n",
    "import pandas as pd \n",
    "import numpy as np \n",
    "from sklearn.model_selection import train_test_split"
   ]
  },
  {
   "cell_type": "markdown",
   "metadata": {},
   "source": [
    "### Data import and overview"
   ]
  },
  {
   "cell_type": "code",
   "execution_count": 2,
   "metadata": {
    "ExecuteTime": {
     "end_time": "2020-07-13T14:23:43.687511Z",
     "start_time": "2020-07-13T14:23:43.071313Z"
    }
   },
   "outputs": [],
   "source": [
    "oneypd = pd.read_csv(\"data.csv\",sep=\",\")"
   ]
  },
  {
   "cell_type": "code",
   "execution_count": 3,
   "metadata": {
    "ExecuteTime": {
     "end_time": "2020-07-13T14:23:43.829555Z",
     "start_time": "2020-07-13T14:23:43.689427Z"
    },
    "scrolled": true
   },
   "outputs": [
    {
     "data": {
      "text/html": [
       "<div>\n",
       "<style scoped>\n",
       "    .dataframe tbody tr th:only-of-type {\n",
       "        vertical-align: middle;\n",
       "    }\n",
       "\n",
       "    .dataframe tbody tr th {\n",
       "        vertical-align: top;\n",
       "    }\n",
       "\n",
       "    .dataframe thead th {\n",
       "        text-align: right;\n",
       "    }\n",
       "</style>\n",
       "<table border=\"1\" class=\"dataframe\">\n",
       "  <thead>\n",
       "    <tr style=\"text-align: right;\">\n",
       "      <th></th>\n",
       "      <th>id</th>\n",
       "      <th>vintage_year</th>\n",
       "      <th>monthly_installment</th>\n",
       "      <th>loan_balance</th>\n",
       "      <th>bureau_score</th>\n",
       "      <th>num_bankrupt_iva</th>\n",
       "      <th>time_since_bankrupt</th>\n",
       "      <th>num_ccj</th>\n",
       "      <th>time_since_ccj</th>\n",
       "      <th>ccj_amount</th>\n",
       "      <th>...</th>\n",
       "      <th>months_since_2mia</th>\n",
       "      <th>avg_mia_6m</th>\n",
       "      <th>max_arrears_bal_6m</th>\n",
       "      <th>max_mia_6m</th>\n",
       "      <th>avg_bal_6m</th>\n",
       "      <th>avg_bureau_score_6m</th>\n",
       "      <th>cc_util</th>\n",
       "      <th>annual_income</th>\n",
       "      <th>emp_length</th>\n",
       "      <th>months_since_recent_cc_delinq</th>\n",
       "    </tr>\n",
       "  </thead>\n",
       "  <tbody>\n",
       "    <tr>\n",
       "      <th>0</th>\n",
       "      <td>6670001</td>\n",
       "      <td>2005</td>\n",
       "      <td>746.70</td>\n",
       "      <td>131304.44</td>\n",
       "      <td>541.0</td>\n",
       "      <td>0.0</td>\n",
       "      <td>0.0</td>\n",
       "      <td>0.0</td>\n",
       "      <td>0.0</td>\n",
       "      <td>0.0</td>\n",
       "      <td>...</td>\n",
       "      <td>NaN</td>\n",
       "      <td>0.0</td>\n",
       "      <td>-42.0</td>\n",
       "      <td>0.0</td>\n",
       "      <td>132080.0</td>\n",
       "      <td>542.0</td>\n",
       "      <td>0.4578</td>\n",
       "      <td>76749</td>\n",
       "      <td>3</td>\n",
       "      <td>11</td>\n",
       "    </tr>\n",
       "    <tr>\n",
       "      <th>1</th>\n",
       "      <td>9131199</td>\n",
       "      <td>2006</td>\n",
       "      <td>887.40</td>\n",
       "      <td>115486.51</td>\n",
       "      <td>441.0</td>\n",
       "      <td>0.0</td>\n",
       "      <td>0.0</td>\n",
       "      <td>0.0</td>\n",
       "      <td>0.0</td>\n",
       "      <td>0.0</td>\n",
       "      <td>...</td>\n",
       "      <td>NaN</td>\n",
       "      <td>0.0</td>\n",
       "      <td>0.0</td>\n",
       "      <td>0.0</td>\n",
       "      <td>116972.0</td>\n",
       "      <td>494.0</td>\n",
       "      <td>0.6299</td>\n",
       "      <td>78451</td>\n",
       "      <td>10</td>\n",
       "      <td>7</td>\n",
       "    </tr>\n",
       "    <tr>\n",
       "      <th>2</th>\n",
       "      <td>4963167</td>\n",
       "      <td>2004</td>\n",
       "      <td>1008.50</td>\n",
       "      <td>128381.73</td>\n",
       "      <td>282.0</td>\n",
       "      <td>0.0</td>\n",
       "      <td>0.0</td>\n",
       "      <td>1.0</td>\n",
       "      <td>36.0</td>\n",
       "      <td>459.0</td>\n",
       "      <td>...</td>\n",
       "      <td>0.0</td>\n",
       "      <td>0.0</td>\n",
       "      <td>1198.0</td>\n",
       "      <td>2.0</td>\n",
       "      <td>128500.0</td>\n",
       "      <td>290.0</td>\n",
       "      <td>0.6331</td>\n",
       "      <td>31038</td>\n",
       "      <td>3</td>\n",
       "      <td>6</td>\n",
       "    </tr>\n",
       "    <tr>\n",
       "      <th>3</th>\n",
       "      <td>3918582</td>\n",
       "      <td>2005</td>\n",
       "      <td>458.23</td>\n",
       "      <td>35482.96</td>\n",
       "      <td>461.0</td>\n",
       "      <td>0.0</td>\n",
       "      <td>0.0</td>\n",
       "      <td>0.0</td>\n",
       "      <td>0.0</td>\n",
       "      <td>0.0</td>\n",
       "      <td>...</td>\n",
       "      <td>NaN</td>\n",
       "      <td>0.0</td>\n",
       "      <td>-114.0</td>\n",
       "      <td>0.0</td>\n",
       "      <td>36610.0</td>\n",
       "      <td>460.0</td>\n",
       "      <td>0.4990</td>\n",
       "      <td>56663</td>\n",
       "      <td>8</td>\n",
       "      <td>6</td>\n",
       "    </tr>\n",
       "    <tr>\n",
       "      <th>4</th>\n",
       "      <td>5949777</td>\n",
       "      <td>2006</td>\n",
       "      <td>431.20</td>\n",
       "      <td>77086.31</td>\n",
       "      <td>466.0</td>\n",
       "      <td>0.0</td>\n",
       "      <td>0.0</td>\n",
       "      <td>0.0</td>\n",
       "      <td>0.0</td>\n",
       "      <td>0.0</td>\n",
       "      <td>...</td>\n",
       "      <td>NaN</td>\n",
       "      <td>0.0</td>\n",
       "      <td>0.0</td>\n",
       "      <td>0.0</td>\n",
       "      <td>77518.0</td>\n",
       "      <td>468.0</td>\n",
       "      <td>0.9568</td>\n",
       "      <td>77014</td>\n",
       "      <td>10</td>\n",
       "      <td>3</td>\n",
       "    </tr>\n",
       "  </tbody>\n",
       "</table>\n",
       "<p>5 rows × 44 columns</p>\n",
       "</div>"
      ],
      "text/plain": [
       "        id  vintage_year  monthly_installment  loan_balance  bureau_score  \\\n",
       "0  6670001          2005               746.70     131304.44         541.0   \n",
       "1  9131199          2006               887.40     115486.51         441.0   \n",
       "2  4963167          2004              1008.50     128381.73         282.0   \n",
       "3  3918582          2005               458.23      35482.96         461.0   \n",
       "4  5949777          2006               431.20      77086.31         466.0   \n",
       "\n",
       "   num_bankrupt_iva  time_since_bankrupt  num_ccj  time_since_ccj  ccj_amount  \\\n",
       "0               0.0                  0.0      0.0             0.0         0.0   \n",
       "1               0.0                  0.0      0.0             0.0         0.0   \n",
       "2               0.0                  0.0      1.0            36.0       459.0   \n",
       "3               0.0                  0.0      0.0             0.0         0.0   \n",
       "4               0.0                  0.0      0.0             0.0         0.0   \n",
       "\n",
       "   ...  months_since_2mia  avg_mia_6m  max_arrears_bal_6m  max_mia_6m  \\\n",
       "0  ...                NaN         0.0               -42.0         0.0   \n",
       "1  ...                NaN         0.0                 0.0         0.0   \n",
       "2  ...                0.0         0.0              1198.0         2.0   \n",
       "3  ...                NaN         0.0              -114.0         0.0   \n",
       "4  ...                NaN         0.0                 0.0         0.0   \n",
       "\n",
       "  avg_bal_6m  avg_bureau_score_6m  cc_util annual_income emp_length  \\\n",
       "0   132080.0                542.0   0.4578         76749          3   \n",
       "1   116972.0                494.0   0.6299         78451         10   \n",
       "2   128500.0                290.0   0.6331         31038          3   \n",
       "3    36610.0                460.0   0.4990         56663          8   \n",
       "4    77518.0                468.0   0.9568         77014         10   \n",
       "\n",
       "  months_since_recent_cc_delinq  \n",
       "0                            11  \n",
       "1                             7  \n",
       "2                             6  \n",
       "3                             6  \n",
       "4                             3  \n",
       "\n",
       "[5 rows x 44 columns]"
      ]
     },
     "execution_count": 3,
     "metadata": {},
     "output_type": "execute_result"
    }
   ],
   "source": [
    "oneypd.head()"
   ]
  },
  {
   "cell_type": "code",
   "execution_count": 4,
   "metadata": {
    "ExecuteTime": {
     "end_time": "2020-07-13T14:23:43.901360Z",
     "start_time": "2020-07-13T14:23:43.833542Z"
    }
   },
   "outputs": [
    {
     "name": "stdout",
     "output_type": "stream",
     "text": [
      "<class 'pandas.core.frame.DataFrame'>\n",
      "RangeIndex: 25906 entries, 0 to 25905\n",
      "Data columns (total 44 columns):\n",
      " #   Column                         Non-Null Count  Dtype  \n",
      "---  ------                         --------------  -----  \n",
      " 0   id                             25906 non-null  int64  \n",
      " 1   vintage_year                   25906 non-null  int64  \n",
      " 2   monthly_installment            25906 non-null  float64\n",
      " 3   loan_balance                   25906 non-null  float64\n",
      " 4   bureau_score                   25473 non-null  float64\n",
      " 5   num_bankrupt_iva               25473 non-null  float64\n",
      " 6   time_since_bankrupt            25473 non-null  float64\n",
      " 7   num_ccj                        25473 non-null  float64\n",
      " 8   time_since_ccj                 25473 non-null  float64\n",
      " 9   ccj_amount                     25473 non-null  float64\n",
      " 10  num_bankrupt                   25473 non-null  float64\n",
      " 11  num_iva                        25473 non-null  float64\n",
      " 12  min_months_since_bankrupt      25473 non-null  float64\n",
      " 13  pl_flag                        25906 non-null  int64  \n",
      " 14  region                         25905 non-null  object \n",
      " 15  ltv                            25906 non-null  float64\n",
      " 16  arrears_months                 25906 non-null  float64\n",
      " 17  origination_date               25906 non-null  object \n",
      " 18  maturity_date                  25906 non-null  object \n",
      " 19  repayment_type                 25906 non-null  object \n",
      " 20  arrears_status                 25906 non-null  int64  \n",
      " 21  arrears_segment                25906 non-null  int64  \n",
      " 22  mob                            25906 non-null  int64  \n",
      " 23  remaining_mat                  25906 non-null  int64  \n",
      " 24  loan_term                      25906 non-null  int64  \n",
      " 25  live_status                    25906 non-null  int64  \n",
      " 26  repaid_status                  25906 non-null  int64  \n",
      " 27  month                          25906 non-null  int64  \n",
      " 28  arrears_event                  25906 non-null  int64  \n",
      " 29  bankrupt_event                 25906 non-null  int64  \n",
      " 30  term_expiry_event              25906 non-null  int64  \n",
      " 31  worst_arrears_status           25906 non-null  int64  \n",
      " 32  max_arrears_12m                25906 non-null  float64\n",
      " 33  recent_arrears_date            814 non-null    object \n",
      " 34  months_since_2mia              814 non-null    float64\n",
      " 35  avg_mia_6m                     25902 non-null  float64\n",
      " 36  max_arrears_bal_6m             25902 non-null  float64\n",
      " 37  max_mia_6m                     25902 non-null  float64\n",
      " 38  avg_bal_6m                     25902 non-null  float64\n",
      " 39  avg_bureau_score_6m            25515 non-null  float64\n",
      " 40  cc_util                        25906 non-null  float64\n",
      " 41  annual_income                  25906 non-null  int64  \n",
      " 42  emp_length                     25906 non-null  int64  \n",
      " 43  months_since_recent_cc_delinq  25906 non-null  int64  \n",
      "dtypes: float64(21), int64(18), object(5)\n",
      "memory usage: 8.7+ MB\n"
     ]
    }
   ],
   "source": [
    "oneypd.info()"
   ]
  },
  {
   "cell_type": "markdown",
   "metadata": {},
   "source": [
    "### Round arrears count fields"
   ]
  },
  {
   "cell_type": "code",
   "execution_count": 5,
   "metadata": {
    "ExecuteTime": {
     "end_time": "2020-07-13T14:23:44.077943Z",
     "start_time": "2020-07-13T14:23:43.904354Z"
    }
   },
   "outputs": [],
   "source": [
    "oneypd[\"max_arrears_12m\"] = np.round(oneypd['max_arrears_12m'],4)\n",
    "oneypd['arrears_months'] = np.round(oneypd['arrears_months'],4)"
   ]
  },
  {
   "cell_type": "markdown",
   "metadata": {},
   "source": [
    "## Default flag"
   ]
  },
  {
   "cell_type": "code",
   "execution_count": 6,
   "metadata": {
    "ExecuteTime": {
     "end_time": "2020-07-13T14:23:44.243620Z",
     "start_time": "2020-07-13T14:23:44.086889Z"
    }
   },
   "outputs": [],
   "source": [
    "# default = 1 and non-default =0\n",
    "oneypd['default_event'] = np.logical_or((np.logical_or(\n",
    "    oneypd['arrears_event'] == 1, oneypd['term_expiry_event'] == 1)), oneypd['bankrupt_event'] == 1).astype(int)"
   ]
  },
  {
   "cell_type": "markdown",
   "metadata": {},
   "source": [
    "## Selecting variables and droping missing value"
   ]
  },
  {
   "cell_type": "code",
   "execution_count": 7,
   "metadata": {
    "ExecuteTime": {
     "end_time": "2020-07-13T14:23:44.451160Z",
     "start_time": "2020-07-13T14:23:44.253448Z"
    }
   },
   "outputs": [],
   "source": [
    "var_list =['default_event','bureau_score', 'time_since_bankrupt', 'num_ccj',\n",
    "       'time_since_ccj', 'ccj_amount','ltv','mob','max_arrears_12m','max_arrears_bal_6m','avg_bal_6m', 'loan_balance',\n",
    "           'cc_util', 'annual_income', 'emp_length','months_since_recent_cc_delinq','loan_term']"
   ]
  },
  {
   "cell_type": "code",
   "execution_count": 8,
   "metadata": {
    "ExecuteTime": {
     "end_time": "2020-07-13T14:23:44.822504Z",
     "start_time": "2020-07-13T14:23:44.456146Z"
    }
   },
   "outputs": [],
   "source": [
    "df=oneypd[var_list].dropna()"
   ]
  },
  {
   "cell_type": "markdown",
   "metadata": {},
   "source": [
    "## Database split in test and train sample"
   ]
  },
  {
   "cell_type": "code",
   "execution_count": 9,
   "metadata": {
    "ExecuteTime": {
     "end_time": "2020-07-13T14:23:44.853417Z",
     "start_time": "2020-07-13T14:23:44.831477Z"
    }
   },
   "outputs": [],
   "source": [
    "# separating dependent andd independent variables\n",
    "X = df.drop('default_event',axis=1)\n",
    "y = df['default_event']"
   ]
  },
  {
   "cell_type": "code",
   "execution_count": 10,
   "metadata": {
    "ExecuteTime": {
     "end_time": "2020-07-13T14:23:44.969796Z",
     "start_time": "2020-07-13T14:23:44.856409Z"
    }
   },
   "outputs": [],
   "source": [
    "# Setting seed for split\n",
    "seed = 123"
   ]
  },
  {
   "cell_type": "code",
   "execution_count": 11,
   "metadata": {
    "ExecuteTime": {
     "end_time": "2020-07-13T14:23:45.296483Z",
     "start_time": "2020-07-13T14:23:44.973789Z"
    }
   },
   "outputs": [],
   "source": [
    "X_train, X_test, y_train, y_test = train_test_split(\n",
    "    X, y, test_size=0.3, random_state=seed,stratify = y)"
   ]
  },
  {
   "cell_type": "markdown",
   "metadata": {},
   "source": [
    "# Random Forest Analysis"
   ]
  },
  {
   "cell_type": "code",
   "execution_count": 12,
   "metadata": {
    "ExecuteTime": {
     "end_time": "2020-07-13T14:23:46.053337Z",
     "start_time": "2020-07-13T14:23:45.303453Z"
    }
   },
   "outputs": [],
   "source": [
    "from sklearn.ensemble import RandomForestClassifier"
   ]
  },
  {
   "cell_type": "code",
   "execution_count": 13,
   "metadata": {
    "ExecuteTime": {
     "end_time": "2020-07-13T14:23:46.059253Z",
     "start_time": "2020-07-13T14:23:46.055260Z"
    },
    "code_folding": []
   },
   "outputs": [],
   "source": [
    "clf = RandomForestClassifier(n_estimators=100,max_features=4,random_state=seed)"
   ]
  },
  {
   "cell_type": "code",
   "execution_count": 14,
   "metadata": {
    "ExecuteTime": {
     "end_time": "2020-07-13T14:23:49.733710Z",
     "start_time": "2020-07-13T14:23:46.063239Z"
    }
   },
   "outputs": [
    {
     "data": {
      "text/plain": [
       "RandomForestClassifier(max_features=4, random_state=123)"
      ]
     },
     "execution_count": 14,
     "metadata": {},
     "output_type": "execute_result"
    }
   ],
   "source": [
    "clf.fit(X_train,y_train)"
   ]
  },
  {
   "cell_type": "code",
   "execution_count": 15,
   "metadata": {
    "ExecuteTime": {
     "end_time": "2020-07-13T14:23:49.780553Z",
     "start_time": "2020-07-13T14:23:49.738669Z"
    }
   },
   "outputs": [
    {
     "data": {
      "text/html": [
       "<div>\n",
       "<style scoped>\n",
       "    .dataframe tbody tr th:only-of-type {\n",
       "        vertical-align: middle;\n",
       "    }\n",
       "\n",
       "    .dataframe tbody tr th {\n",
       "        vertical-align: top;\n",
       "    }\n",
       "\n",
       "    .dataframe thead th {\n",
       "        text-align: right;\n",
       "    }\n",
       "</style>\n",
       "<table border=\"1\" class=\"dataframe\">\n",
       "  <thead>\n",
       "    <tr style=\"text-align: right;\">\n",
       "      <th></th>\n",
       "      <th>Gini importance</th>\n",
       "    </tr>\n",
       "  </thead>\n",
       "  <tbody>\n",
       "    <tr>\n",
       "      <th>cc_util</th>\n",
       "      <td>0.210280</td>\n",
       "    </tr>\n",
       "    <tr>\n",
       "      <th>annual_income</th>\n",
       "      <td>0.109878</td>\n",
       "    </tr>\n",
       "    <tr>\n",
       "      <th>max_arrears_12m</th>\n",
       "      <td>0.101463</td>\n",
       "    </tr>\n",
       "    <tr>\n",
       "      <th>max_arrears_bal_6m</th>\n",
       "      <td>0.083659</td>\n",
       "    </tr>\n",
       "    <tr>\n",
       "      <th>loan_term</th>\n",
       "      <td>0.073515</td>\n",
       "    </tr>\n",
       "    <tr>\n",
       "      <th>bureau_score</th>\n",
       "      <td>0.070272</td>\n",
       "    </tr>\n",
       "    <tr>\n",
       "      <th>ltv</th>\n",
       "      <td>0.062859</td>\n",
       "    </tr>\n",
       "    <tr>\n",
       "      <th>mob</th>\n",
       "      <td>0.056415</td>\n",
       "    </tr>\n",
       "    <tr>\n",
       "      <th>avg_bal_6m</th>\n",
       "      <td>0.055917</td>\n",
       "    </tr>\n",
       "    <tr>\n",
       "      <th>loan_balance</th>\n",
       "      <td>0.053716</td>\n",
       "    </tr>\n",
       "    <tr>\n",
       "      <th>months_since_recent_cc_delinq</th>\n",
       "      <td>0.042550</td>\n",
       "    </tr>\n",
       "    <tr>\n",
       "      <th>emp_length</th>\n",
       "      <td>0.035174</td>\n",
       "    </tr>\n",
       "    <tr>\n",
       "      <th>time_since_ccj</th>\n",
       "      <td>0.015840</td>\n",
       "    </tr>\n",
       "    <tr>\n",
       "      <th>ccj_amount</th>\n",
       "      <td>0.011517</td>\n",
       "    </tr>\n",
       "    <tr>\n",
       "      <th>time_since_bankrupt</th>\n",
       "      <td>0.009609</td>\n",
       "    </tr>\n",
       "    <tr>\n",
       "      <th>num_ccj</th>\n",
       "      <td>0.007337</td>\n",
       "    </tr>\n",
       "  </tbody>\n",
       "</table>\n",
       "</div>"
      ],
      "text/plain": [
       "                                Gini importance\n",
       "cc_util                                0.210280\n",
       "annual_income                          0.109878\n",
       "max_arrears_12m                        0.101463\n",
       "max_arrears_bal_6m                     0.083659\n",
       "loan_term                              0.073515\n",
       "bureau_score                           0.070272\n",
       "ltv                                    0.062859\n",
       "mob                                    0.056415\n",
       "avg_bal_6m                             0.055917\n",
       "loan_balance                           0.053716\n",
       "months_since_recent_cc_delinq          0.042550\n",
       "emp_length                             0.035174\n",
       "time_since_ccj                         0.015840\n",
       "ccj_amount                             0.011517\n",
       "time_since_bankrupt                    0.009609\n",
       "num_ccj                                0.007337"
      ]
     },
     "execution_count": 15,
     "metadata": {},
     "output_type": "execute_result"
    }
   ],
   "source": [
    "importance = pd.DataFrame(clf.feature_importances_,index=X_train.columns,columns=[' Gini importance'])\n",
    "importance.sort_values(by=\" Gini importance\",ascending=False)"
   ]
  },
  {
   "cell_type": "markdown",
   "metadata": {},
   "source": [
    "# Boosting Analysis"
   ]
  },
  {
   "cell_type": "code",
   "execution_count": 16,
   "metadata": {
    "ExecuteTime": {
     "end_time": "2020-07-13T14:23:49.872522Z",
     "start_time": "2020-07-13T14:23:49.786538Z"
    }
   },
   "outputs": [],
   "source": [
    "from sklearn.ensemble import GradientBoostingRegressor"
   ]
  },
  {
   "cell_type": "code",
   "execution_count": 17,
   "metadata": {
    "ExecuteTime": {
     "end_time": "2020-07-13T14:23:49.988215Z",
     "start_time": "2020-07-13T14:23:49.880503Z"
    }
   },
   "outputs": [],
   "source": [
    "reg = GradientBoostingRegressor(n_estimators=100,max_depth=4,random_state=seed)"
   ]
  },
  {
   "cell_type": "code",
   "execution_count": 18,
   "metadata": {
    "ExecuteTime": {
     "end_time": "2020-07-13T14:23:56.885955Z",
     "start_time": "2020-07-13T14:23:49.993200Z"
    }
   },
   "outputs": [
    {
     "data": {
      "text/plain": [
       "GradientBoostingRegressor(max_depth=4, random_state=123)"
      ]
     },
     "execution_count": 18,
     "metadata": {},
     "output_type": "execute_result"
    }
   ],
   "source": [
    "reg.fit(X_train,y_train)"
   ]
  },
  {
   "cell_type": "code",
   "execution_count": 19,
   "metadata": {
    "ExecuteTime": {
     "end_time": "2020-07-13T14:23:56.908924Z",
     "start_time": "2020-07-13T14:23:56.888948Z"
    }
   },
   "outputs": [
    {
     "data": {
      "text/html": [
       "<div>\n",
       "<style scoped>\n",
       "    .dataframe tbody tr th:only-of-type {\n",
       "        vertical-align: middle;\n",
       "    }\n",
       "\n",
       "    .dataframe tbody tr th {\n",
       "        vertical-align: top;\n",
       "    }\n",
       "\n",
       "    .dataframe thead th {\n",
       "        text-align: right;\n",
       "    }\n",
       "</style>\n",
       "<table border=\"1\" class=\"dataframe\">\n",
       "  <thead>\n",
       "    <tr style=\"text-align: right;\">\n",
       "      <th></th>\n",
       "      <th>Gini importance</th>\n",
       "    </tr>\n",
       "  </thead>\n",
       "  <tbody>\n",
       "    <tr>\n",
       "      <th>cc_util</th>\n",
       "      <td>0.367809</td>\n",
       "    </tr>\n",
       "    <tr>\n",
       "      <th>max_arrears_12m</th>\n",
       "      <td>0.226487</td>\n",
       "    </tr>\n",
       "    <tr>\n",
       "      <th>annual_income</th>\n",
       "      <td>0.128804</td>\n",
       "    </tr>\n",
       "    <tr>\n",
       "      <th>loan_term</th>\n",
       "      <td>0.108224</td>\n",
       "    </tr>\n",
       "    <tr>\n",
       "      <th>mob</th>\n",
       "      <td>0.041719</td>\n",
       "    </tr>\n",
       "    <tr>\n",
       "      <th>bureau_score</th>\n",
       "      <td>0.031555</td>\n",
       "    </tr>\n",
       "    <tr>\n",
       "      <th>max_arrears_bal_6m</th>\n",
       "      <td>0.029916</td>\n",
       "    </tr>\n",
       "    <tr>\n",
       "      <th>ltv</th>\n",
       "      <td>0.021042</td>\n",
       "    </tr>\n",
       "    <tr>\n",
       "      <th>loan_balance</th>\n",
       "      <td>0.009348</td>\n",
       "    </tr>\n",
       "    <tr>\n",
       "      <th>time_since_ccj</th>\n",
       "      <td>0.007278</td>\n",
       "    </tr>\n",
       "    <tr>\n",
       "      <th>emp_length</th>\n",
       "      <td>0.006938</td>\n",
       "    </tr>\n",
       "    <tr>\n",
       "      <th>months_since_recent_cc_delinq</th>\n",
       "      <td>0.005832</td>\n",
       "    </tr>\n",
       "    <tr>\n",
       "      <th>ccj_amount</th>\n",
       "      <td>0.004855</td>\n",
       "    </tr>\n",
       "    <tr>\n",
       "      <th>avg_bal_6m</th>\n",
       "      <td>0.004742</td>\n",
       "    </tr>\n",
       "    <tr>\n",
       "      <th>time_since_bankrupt</th>\n",
       "      <td>0.004552</td>\n",
       "    </tr>\n",
       "    <tr>\n",
       "      <th>num_ccj</th>\n",
       "      <td>0.000897</td>\n",
       "    </tr>\n",
       "  </tbody>\n",
       "</table>\n",
       "</div>"
      ],
      "text/plain": [
       "                                Gini importance\n",
       "cc_util                                0.367809\n",
       "max_arrears_12m                        0.226487\n",
       "annual_income                          0.128804\n",
       "loan_term                              0.108224\n",
       "mob                                    0.041719\n",
       "bureau_score                           0.031555\n",
       "max_arrears_bal_6m                     0.029916\n",
       "ltv                                    0.021042\n",
       "loan_balance                           0.009348\n",
       "time_since_ccj                         0.007278\n",
       "emp_length                             0.006938\n",
       "months_since_recent_cc_delinq          0.005832\n",
       "ccj_amount                             0.004855\n",
       "avg_bal_6m                             0.004742\n",
       "time_since_bankrupt                    0.004552\n",
       "num_ccj                                0.000897"
      ]
     },
     "execution_count": 19,
     "metadata": {},
     "output_type": "execute_result"
    }
   ],
   "source": [
    "importance_reg = pd.DataFrame(reg.feature_importances_,index=X_train.columns,columns=[' Gini importance'])\n",
    "importance_reg.sort_values(by=\" Gini importance\",ascending=False)"
   ]
  },
  {
   "cell_type": "markdown",
   "metadata": {
    "ExecuteTime": {
     "end_time": "2020-07-11T21:42:38.677293Z",
     "start_time": "2020-07-11T21:42:38.661878Z"
    }
   },
   "source": [
    "# Test sample Analysis"
   ]
  },
  {
   "cell_type": "code",
   "execution_count": 20,
   "metadata": {
    "ExecuteTime": {
     "end_time": "2020-07-13T14:23:57.094396Z",
     "start_time": "2020-07-13T14:23:56.911888Z"
    }
   },
   "outputs": [],
   "source": [
    "y_pred = reg.predict(X_test)"
   ]
  },
  {
   "cell_type": "code",
   "execution_count": 21,
   "metadata": {
    "ExecuteTime": {
     "end_time": "2020-07-13T14:23:57.174329Z",
     "start_time": "2020-07-13T14:23:57.097391Z"
    }
   },
   "outputs": [
    {
     "data": {
      "text/plain": [
       "0.029275725493248615"
      ]
     },
     "execution_count": 21,
     "metadata": {},
     "output_type": "execute_result"
    }
   ],
   "source": [
    "from sklearn.metrics import mean_squared_error as MSE\n",
    "MSE(y_test,y_pred)"
   ]
  },
  {
   "cell_type": "markdown",
   "metadata": {},
   "source": [
    "# Boosting with shrinkage"
   ]
  },
  {
   "cell_type": "code",
   "execution_count": 22,
   "metadata": {
    "ExecuteTime": {
     "end_time": "2020-07-13T14:23:57.287391Z",
     "start_time": "2020-07-13T14:23:57.177324Z"
    }
   },
   "outputs": [],
   "source": [
    "reg_shrink = GradientBoostingRegressor(n_estimators=100,max_depth=4,learning_rate=0.05,random_state=seed)"
   ]
  },
  {
   "cell_type": "code",
   "execution_count": 23,
   "metadata": {
    "ExecuteTime": {
     "end_time": "2020-07-13T14:24:05.372992Z",
     "start_time": "2020-07-13T14:23:57.291379Z"
    },
    "scrolled": false
   },
   "outputs": [
    {
     "data": {
      "text/plain": [
       "GradientBoostingRegressor(learning_rate=0.05, max_depth=4, random_state=123)"
      ]
     },
     "execution_count": 23,
     "metadata": {},
     "output_type": "execute_result"
    }
   ],
   "source": [
    "reg_shrink.fit(X_train,y_train)"
   ]
  },
  {
   "cell_type": "code",
   "execution_count": 24,
   "metadata": {
    "ExecuteTime": {
     "end_time": "2020-07-13T14:24:05.417873Z",
     "start_time": "2020-07-13T14:24:05.375986Z"
    }
   },
   "outputs": [],
   "source": [
    "y_pred_shrink = reg_shrink.predict(X_test)"
   ]
  },
  {
   "cell_type": "code",
   "execution_count": 25,
   "metadata": {
    "ExecuteTime": {
     "end_time": "2020-07-13T14:24:06.016966Z",
     "start_time": "2020-07-13T14:24:05.424855Z"
    }
   },
   "outputs": [
    {
     "data": {
      "text/plain": [
       "0.029260565279671594"
      ]
     },
     "execution_count": 25,
     "metadata": {},
     "output_type": "execute_result"
    }
   ],
   "source": [
    "MSE(y_test,y_pred_shrink)"
   ]
  },
  {
   "cell_type": "markdown",
   "metadata": {},
   "source": [
    "# ML model Calibration"
   ]
  },
  {
   "cell_type": "code",
   "execution_count": 27,
   "metadata": {
    "ExecuteTime": {
     "end_time": "2020-07-13T14:24:21.615816Z",
     "start_time": "2020-07-13T14:24:21.555900Z"
    }
   },
   "outputs": [],
   "source": [
    "# Random forest regressor prediction on X \n",
    "rf_pred = reg.predict(X)"
   ]
  },
  {
   "cell_type": "code",
   "execution_count": 28,
   "metadata": {
    "ExecuteTime": {
     "end_time": "2020-07-13T14:24:24.502252Z",
     "start_time": "2020-07-13T14:24:24.495270Z"
    }
   },
   "outputs": [],
   "source": [
    "rf_pred = pd.DataFrame(rf_pred,index=y.index,columns=['Prediction'])"
   ]
  },
  {
   "cell_type": "code",
   "execution_count": 29,
   "metadata": {
    "ExecuteTime": {
     "end_time": "2020-07-13T14:24:41.644265Z",
     "start_time": "2020-07-13T14:24:33.470188Z"
    }
   },
   "outputs": [],
   "source": [
    "import statsmodels.api as sm\n",
    "pd_model = sm.GLM(y, sm.add_constant(pd.DataFrame(rf_pred)),\n",
    "                  family=sm.families.Binomial()).fit()"
   ]
  },
  {
   "cell_type": "code",
   "execution_count": 30,
   "metadata": {
    "ExecuteTime": {
     "end_time": "2020-07-13T14:24:44.615519Z",
     "start_time": "2020-07-13T14:24:44.588594Z"
    }
   },
   "outputs": [
    {
     "data": {
      "text/html": [
       "<table class=\"simpletable\">\n",
       "<caption>Generalized Linear Model Regression Results</caption>\n",
       "<tr>\n",
       "  <th>Dep. Variable:</th>     <td>default_event</td>  <th>  No. Observations:  </th>  <td> 25469</td> \n",
       "</tr>\n",
       "<tr>\n",
       "  <th>Model:</th>                  <td>GLM</td>       <th>  Df Residuals:      </th>  <td> 25467</td> \n",
       "</tr>\n",
       "<tr>\n",
       "  <th>Model Family:</th>        <td>Binomial</td>     <th>  Df Model:          </th>  <td>     1</td> \n",
       "</tr>\n",
       "<tr>\n",
       "  <th>Link Function:</th>         <td>logit</td>      <th>  Scale:             </th> <td>  1.0000</td>\n",
       "</tr>\n",
       "<tr>\n",
       "  <th>Method:</th>                <td>IRLS</td>       <th>  Log-Likelihood:    </th> <td> -2496.9</td>\n",
       "</tr>\n",
       "<tr>\n",
       "  <th>Date:</th>            <td>Mon, 13 Jul 2020</td> <th>  Deviance:          </th> <td>  4993.8</td>\n",
       "</tr>\n",
       "<tr>\n",
       "  <th>Time:</th>                <td>19:54:44</td>     <th>  Pearson chi2:      </th> <td>1.70e+04</td>\n",
       "</tr>\n",
       "<tr>\n",
       "  <th>No. Iterations:</th>          <td>7</td>        <th>                     </th>     <td> </td>   \n",
       "</tr>\n",
       "<tr>\n",
       "  <th>Covariance Type:</th>     <td>nonrobust</td>    <th>                     </th>     <td> </td>   \n",
       "</tr>\n",
       "</table>\n",
       "<table class=\"simpletable\">\n",
       "<tr>\n",
       "       <td></td>         <th>coef</th>     <th>std err</th>      <th>z</th>      <th>P>|z|</th>  <th>[0.025</th>    <th>0.975]</th>  \n",
       "</tr>\n",
       "<tr>\n",
       "  <th>const</th>      <td>   -4.4893</td> <td>    0.057</td> <td>  -79.049</td> <td> 0.000</td> <td>   -4.601</td> <td>   -4.378</td>\n",
       "</tr>\n",
       "<tr>\n",
       "  <th>Prediction</th> <td>   10.3712</td> <td>    0.202</td> <td>   51.450</td> <td> 0.000</td> <td>    9.976</td> <td>   10.766</td>\n",
       "</tr>\n",
       "</table>"
      ],
      "text/plain": [
       "<class 'statsmodels.iolib.summary.Summary'>\n",
       "\"\"\"\n",
       "                 Generalized Linear Model Regression Results                  \n",
       "==============================================================================\n",
       "Dep. Variable:          default_event   No. Observations:                25469\n",
       "Model:                            GLM   Df Residuals:                    25467\n",
       "Model Family:                Binomial   Df Model:                            1\n",
       "Link Function:                  logit   Scale:                          1.0000\n",
       "Method:                          IRLS   Log-Likelihood:                -2496.9\n",
       "Date:                Mon, 13 Jul 2020   Deviance:                       4993.8\n",
       "Time:                        19:54:44   Pearson chi2:                 1.70e+04\n",
       "No. Iterations:                     7                                         \n",
       "Covariance Type:            nonrobust                                         \n",
       "==============================================================================\n",
       "                 coef    std err          z      P>|z|      [0.025      0.975]\n",
       "------------------------------------------------------------------------------\n",
       "const         -4.4893      0.057    -79.049      0.000      -4.601      -4.378\n",
       "Prediction    10.3712      0.202     51.450      0.000       9.976      10.766\n",
       "==============================================================================\n",
       "\"\"\""
      ]
     },
     "execution_count": 30,
     "metadata": {},
     "output_type": "execute_result"
    }
   ],
   "source": [
    "pd_model.summary()"
   ]
  },
  {
   "cell_type": "markdown",
   "metadata": {},
   "source": [
    "# ML Discriminatory Power Assessment"
   ]
  },
  {
   "cell_type": "code",
   "execution_count": 31,
   "metadata": {
    "ExecuteTime": {
     "end_time": "2020-07-13T17:10:47.647679Z",
     "start_time": "2020-07-13T17:10:26.634117Z"
    }
   },
   "outputs": [],
   "source": [
    "from sklearn.metrics import roc_curve as roc\n",
    "from sklearn.metrics import auc\n",
    "import matplotlib.pyplot as plt"
   ]
  },
  {
   "cell_type": "markdown",
   "metadata": {},
   "source": [
    "## ROC"
   ]
  },
  {
   "cell_type": "code",
   "execution_count": 32,
   "metadata": {
    "ExecuteTime": {
     "end_time": "2020-07-13T17:11:08.083399Z",
     "start_time": "2020-07-13T17:11:07.798304Z"
    }
   },
   "outputs": [],
   "source": [
    "fper, tper, thresholds=roc(y_test,y_pred)"
   ]
  },
  {
   "cell_type": "code",
   "execution_count": 33,
   "metadata": {
    "ExecuteTime": {
     "end_time": "2020-07-13T17:11:17.350936Z",
     "start_time": "2020-07-13T17:11:17.319531Z"
    }
   },
   "outputs": [],
   "source": [
    "def plot_roc_cur(fper, tper):  \n",
    "    plt.plot(fper, tper, color='orange', label='ROC')\n",
    "    plt.plot([0, 1], [0, 1], color='darkblue', linestyle='--')\n",
    "    plt.xlabel('False Positive Rate')\n",
    "    plt.ylabel('True Positive Rate')\n",
    "    plt.title('Receiver Operating Characteristic (ROC) Curve')\n",
    "    plt.legend()\n",
    "    plt.show()"
   ]
  },
  {
   "cell_type": "code",
   "execution_count": 34,
   "metadata": {
    "ExecuteTime": {
     "end_time": "2020-07-13T17:11:28.973517Z",
     "start_time": "2020-07-13T17:11:27.485376Z"
    }
   },
   "outputs": [
    {
     "data": {
      "image/png": "[encoded data removed]",
      "text/plain": [
       "<Figure size 432x288 with 1 Axes>"
      ]
     },
     "metadata": {
      "needs_background": "light"
     },
     "output_type": "display_data"
    }
   ],
   "source": [
    "plot_roc_cur(fper,tper)"
   ]
  },
  {
   "cell_type": "markdown",
   "metadata": {},
   "source": [
    "## Gini"
   ]
  },
  {
   "cell_type": "code",
   "execution_count": 35,
   "metadata": {
    "ExecuteTime": {
     "end_time": "2020-07-13T17:11:58.934390Z",
     "start_time": "2020-07-13T17:11:58.902973Z"
    }
   },
   "outputs": [
    {
     "data": {
      "text/plain": [
       "0.9525593819319106"
      ]
     },
     "execution_count": 35,
     "metadata": {},
     "output_type": "execute_result"
    }
   ],
   "source": [
    "AUC=auc(fper,tper)\n",
    "AUC"
   ]
  },
  {
   "cell_type": "code",
   "execution_count": 36,
   "metadata": {
    "ExecuteTime": {
     "end_time": "2020-07-13T17:12:16.472367Z",
     "start_time": "2020-07-13T17:12:16.456775Z"
    }
   },
   "outputs": [
    {
     "data": {
      "text/plain": [
       "0.9051187638638212"
      ]
     },
     "execution_count": 36,
     "metadata": {},
     "output_type": "execute_result"
    }
   ],
   "source": [
    "gini = 2*AUC -1\n",
    "gini"
   ]
  },
  {
   "cell_type": "code",
   "execution_count": null,
   "metadata": {},
   "outputs": [],
   "source": []
  }
 ],
 "metadata": {
  "kernelspec": {
   "display_name": "Python 3",
   "language": "python",
   "name": "python3"
  },
  "language_info": {
   "codemirror_mode": {
    "name": "ipython",
    "version": 3
   },
   "file_extension": ".py",
   "mimetype": "text/x-python",
   "name": "python",
   "nbconvert_exporter": "python",
   "pygments_lexer": "ipython3",
   "version": "3.7.7"
  },
  "toc": {
   "base_numbering": 1,
   "nav_menu": {},
   "number_sections": true,
   "sideBar": true,
   "skip_h1_title": false,
   "title_cell": "Table of Contents",
   "title_sidebar": "Contents",
   "toc_cell": false,
   "toc_position": {},
   "toc_section_display": true,
   "toc_window_display": false
  },
  "varInspector": {
   "cols": {
    "lenName": 16,
    "lenType": 16,
    "lenVar": 40
   },
   "kernels_config": {
    "python": {
     "delete_cmd_postfix": "",
     "delete_cmd_prefix": "del ",
     "library": "var_list.py",
     "varRefreshCmd": "print(var_dic_list())"
    },
    "r": {
     "delete_cmd_postfix": ") ",
     "delete_cmd_prefix": "rm(",
     "library": "var_list.r",
     "varRefreshCmd": "cat(var_dic_list()) "
    }
   },
   "types_to_exclude": [
    "module",
    "function",
    "builtin_function_or_method",
    "instance",
    "_Feature"
   ],
   "window_display": false
  }
 },
 "nbformat": 4,
 "nbformat_minor": 4
}
