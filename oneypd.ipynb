{
 "cells": [
  {
   "cell_type": "markdown",
   "metadata": {},
   "source": [
    "# Data preparation"
   ]
  },
  {
   "cell_type": "markdown",
   "metadata": {},
   "source": [
    "## Library import"
   ]
  },
  {
   "cell_type": "code",
   "execution_count": 1,
   "metadata": {
    "ExecuteTime": {
     "end_time": "2020-07-11T21:42:27.164669Z",
     "start_time": "2020-07-11T21:41:03.183766Z"
    }
   },
   "outputs": [],
   "source": [
    "import random\n",
    "import pandas as pd \n",
    "import numpy as np \n",
    "from sklearn.model_selection import train_test_split\n",
    "from optbinning import BinningProcess, OptimalBinning\n",
    "import statsmodels.api as sm"
   ]
  },
  {
   "cell_type": "markdown",
   "metadata": {},
   "source": [
    "### Data import and overview"
   ]
  },
  {
   "cell_type": "code",
   "execution_count": 2,
   "metadata": {
    "ExecuteTime": {
     "end_time": "2020-07-11T21:42:27.703751Z",
     "start_time": "2020-07-11T21:42:27.164669Z"
    }
   },
   "outputs": [],
   "source": [
    "oneypd = pd.read_csv(\"data.csv\",sep=\",\")"
   ]
  },
  {
   "cell_type": "code",
   "execution_count": 3,
   "metadata": {
    "ExecuteTime": {
     "end_time": "2020-07-11T21:42:27.750613Z",
     "start_time": "2020-07-11T21:42:27.703751Z"
    },
    "scrolled": true
   },
   "outputs": [
    {
     "data": {
      "text/html": [
       "<div>\n",
       "<style scoped>\n",
       "    .dataframe tbody tr th:only-of-type {\n",
       "        vertical-align: middle;\n",
       "    }\n",
       "\n",
       "    .dataframe tbody tr th {\n",
       "        vertical-align: top;\n",
       "    }\n",
       "\n",
       "    .dataframe thead th {\n",
       "        text-align: right;\n",
       "    }\n",
       "</style>\n",
       "<table border=\"1\" class=\"dataframe\">\n",
       "  <thead>\n",
       "    <tr style=\"text-align: right;\">\n",
       "      <th></th>\n",
       "      <th>id</th>\n",
       "      <th>vintage_year</th>\n",
       "      <th>monthly_installment</th>\n",
       "      <th>loan_balance</th>\n",
       "      <th>bureau_score</th>\n",
       "      <th>num_bankrupt_iva</th>\n",
       "      <th>time_since_bankrupt</th>\n",
       "      <th>num_ccj</th>\n",
       "      <th>time_since_ccj</th>\n",
       "      <th>ccj_amount</th>\n",
       "      <th>...</th>\n",
       "      <th>months_since_2mia</th>\n",
       "      <th>avg_mia_6m</th>\n",
       "      <th>max_arrears_bal_6m</th>\n",
       "      <th>max_mia_6m</th>\n",
       "      <th>avg_bal_6m</th>\n",
       "      <th>avg_bureau_score_6m</th>\n",
       "      <th>cc_util</th>\n",
       "      <th>annual_income</th>\n",
       "      <th>emp_length</th>\n",
       "      <th>months_since_recent_cc_delinq</th>\n",
       "    </tr>\n",
       "  </thead>\n",
       "  <tbody>\n",
       "    <tr>\n",
       "      <th>0</th>\n",
       "      <td>6670001</td>\n",
       "      <td>2005</td>\n",
       "      <td>746.70</td>\n",
       "      <td>131304.44</td>\n",
       "      <td>541.0</td>\n",
       "      <td>0.0</td>\n",
       "      <td>0.0</td>\n",
       "      <td>0.0</td>\n",
       "      <td>0.0</td>\n",
       "      <td>0.0</td>\n",
       "      <td>...</td>\n",
       "      <td>NaN</td>\n",
       "      <td>0.0</td>\n",
       "      <td>-42.0</td>\n",
       "      <td>0.0</td>\n",
       "      <td>132080.0</td>\n",
       "      <td>542.0</td>\n",
       "      <td>0.4578</td>\n",
       "      <td>76749</td>\n",
       "      <td>3</td>\n",
       "      <td>11</td>\n",
       "    </tr>\n",
       "    <tr>\n",
       "      <th>1</th>\n",
       "      <td>9131199</td>\n",
       "      <td>2006</td>\n",
       "      <td>887.40</td>\n",
       "      <td>115486.51</td>\n",
       "      <td>441.0</td>\n",
       "      <td>0.0</td>\n",
       "      <td>0.0</td>\n",
       "      <td>0.0</td>\n",
       "      <td>0.0</td>\n",
       "      <td>0.0</td>\n",
       "      <td>...</td>\n",
       "      <td>NaN</td>\n",
       "      <td>0.0</td>\n",
       "      <td>0.0</td>\n",
       "      <td>0.0</td>\n",
       "      <td>116972.0</td>\n",
       "      <td>494.0</td>\n",
       "      <td>0.6299</td>\n",
       "      <td>78451</td>\n",
       "      <td>10</td>\n",
       "      <td>7</td>\n",
       "    </tr>\n",
       "    <tr>\n",
       "      <th>2</th>\n",
       "      <td>4963167</td>\n",
       "      <td>2004</td>\n",
       "      <td>1008.50</td>\n",
       "      <td>128381.73</td>\n",
       "      <td>282.0</td>\n",
       "      <td>0.0</td>\n",
       "      <td>0.0</td>\n",
       "      <td>1.0</td>\n",
       "      <td>36.0</td>\n",
       "      <td>459.0</td>\n",
       "      <td>...</td>\n",
       "      <td>0.0</td>\n",
       "      <td>0.0</td>\n",
       "      <td>1198.0</td>\n",
       "      <td>2.0</td>\n",
       "      <td>128500.0</td>\n",
       "      <td>290.0</td>\n",
       "      <td>0.6331</td>\n",
       "      <td>31038</td>\n",
       "      <td>3</td>\n",
       "      <td>6</td>\n",
       "    </tr>\n",
       "    <tr>\n",
       "      <th>3</th>\n",
       "      <td>3918582</td>\n",
       "      <td>2005</td>\n",
       "      <td>458.23</td>\n",
       "      <td>35482.96</td>\n",
       "      <td>461.0</td>\n",
       "      <td>0.0</td>\n",
       "      <td>0.0</td>\n",
       "      <td>0.0</td>\n",
       "      <td>0.0</td>\n",
       "      <td>0.0</td>\n",
       "      <td>...</td>\n",
       "      <td>NaN</td>\n",
       "      <td>0.0</td>\n",
       "      <td>-114.0</td>\n",
       "      <td>0.0</td>\n",
       "      <td>36610.0</td>\n",
       "      <td>460.0</td>\n",
       "      <td>0.4990</td>\n",
       "      <td>56663</td>\n",
       "      <td>8</td>\n",
       "      <td>6</td>\n",
       "    </tr>\n",
       "    <tr>\n",
       "      <th>4</th>\n",
       "      <td>5949777</td>\n",
       "      <td>2006</td>\n",
       "      <td>431.20</td>\n",
       "      <td>77086.31</td>\n",
       "      <td>466.0</td>\n",
       "      <td>0.0</td>\n",
       "      <td>0.0</td>\n",
       "      <td>0.0</td>\n",
       "      <td>0.0</td>\n",
       "      <td>0.0</td>\n",
       "      <td>...</td>\n",
       "      <td>NaN</td>\n",
       "      <td>0.0</td>\n",
       "      <td>0.0</td>\n",
       "      <td>0.0</td>\n",
       "      <td>77518.0</td>\n",
       "      <td>468.0</td>\n",
       "      <td>0.9568</td>\n",
       "      <td>77014</td>\n",
       "      <td>10</td>\n",
       "      <td>3</td>\n",
       "    </tr>\n",
       "  </tbody>\n",
       "</table>\n",
       "<p>5 rows × 44 columns</p>\n",
       "</div>"
      ],
      "text/plain": [
       "        id  vintage_year  monthly_installment  loan_balance  bureau_score  \\\n",
       "0  6670001          2005               746.70     131304.44         541.0   \n",
       "1  9131199          2006               887.40     115486.51         441.0   \n",
       "2  4963167          2004              1008.50     128381.73         282.0   \n",
       "3  3918582          2005               458.23      35482.96         461.0   \n",
       "4  5949777          2006               431.20      77086.31         466.0   \n",
       "\n",
       "   num_bankrupt_iva  time_since_bankrupt  num_ccj  time_since_ccj  ccj_amount  \\\n",
       "0               0.0                  0.0      0.0             0.0         0.0   \n",
       "1               0.0                  0.0      0.0             0.0         0.0   \n",
       "2               0.0                  0.0      1.0            36.0       459.0   \n",
       "3               0.0                  0.0      0.0             0.0         0.0   \n",
       "4               0.0                  0.0      0.0             0.0         0.0   \n",
       "\n",
       "   ...  months_since_2mia  avg_mia_6m  max_arrears_bal_6m  max_mia_6m  \\\n",
       "0  ...                NaN         0.0               -42.0         0.0   \n",
       "1  ...                NaN         0.0                 0.0         0.0   \n",
       "2  ...                0.0         0.0              1198.0         2.0   \n",
       "3  ...                NaN         0.0              -114.0         0.0   \n",
       "4  ...                NaN         0.0                 0.0         0.0   \n",
       "\n",
       "  avg_bal_6m  avg_bureau_score_6m  cc_util annual_income emp_length  \\\n",
       "0   132080.0                542.0   0.4578         76749          3   \n",
       "1   116972.0                494.0   0.6299         78451         10   \n",
       "2   128500.0                290.0   0.6331         31038          3   \n",
       "3    36610.0                460.0   0.4990         56663          8   \n",
       "4    77518.0                468.0   0.9568         77014         10   \n",
       "\n",
       "  months_since_recent_cc_delinq  \n",
       "0                            11  \n",
       "1                             7  \n",
       "2                             6  \n",
       "3                             6  \n",
       "4                             3  \n",
       "\n",
       "[5 rows x 44 columns]"
      ]
     },
     "execution_count": 3,
     "metadata": {},
     "output_type": "execute_result"
    }
   ],
   "source": [
    "oneypd.head()"
   ]
  },
  {
   "cell_type": "code",
   "execution_count": 4,
   "metadata": {
    "ExecuteTime": {
     "end_time": "2020-07-11T21:42:28.104541Z",
     "start_time": "2020-07-11T21:42:27.750613Z"
    }
   },
   "outputs": [
    {
     "name": "stdout",
     "output_type": "stream",
     "text": [
      "<class 'pandas.core.frame.DataFrame'>\n",
      "RangeIndex: 25906 entries, 0 to 25905\n",
      "Data columns (total 44 columns):\n",
      " #   Column                         Non-Null Count  Dtype  \n",
      "---  ------                         --------------  -----  \n",
      " 0   id                             25906 non-null  int64  \n",
      " 1   vintage_year                   25906 non-null  int64  \n",
      " 2   monthly_installment            25906 non-null  float64\n",
      " 3   loan_balance                   25906 non-null  float64\n",
      " 4   bureau_score                   25473 non-null  float64\n",
      " 5   num_bankrupt_iva               25473 non-null  float64\n",
      " 6   time_since_bankrupt            25473 non-null  float64\n",
      " 7   num_ccj                        25473 non-null  float64\n",
      " 8   time_since_ccj                 25473 non-null  float64\n",
      " 9   ccj_amount                     25473 non-null  float64\n",
      " 10  num_bankrupt                   25473 non-null  float64\n",
      " 11  num_iva                        25473 non-null  float64\n",
      " 12  min_months_since_bankrupt      25473 non-null  float64\n",
      " 13  pl_flag                        25906 non-null  int64  \n",
      " 14  region                         25905 non-null  object \n",
      " 15  ltv                            25906 non-null  float64\n",
      " 16  arrears_months                 25906 non-null  float64\n",
      " 17  origination_date               25906 non-null  object \n",
      " 18  maturity_date                  25906 non-null  object \n",
      " 19  repayment_type                 25906 non-null  object \n",
      " 20  arrears_status                 25906 non-null  int64  \n",
      " 21  arrears_segment                25906 non-null  int64  \n",
      " 22  mob                            25906 non-null  int64  \n",
      " 23  remaining_mat                  25906 non-null  int64  \n",
      " 24  loan_term                      25906 non-null  int64  \n",
      " 25  live_status                    25906 non-null  int64  \n",
      " 26  repaid_status                  25906 non-null  int64  \n",
      " 27  month                          25906 non-null  int64  \n",
      " 28  arrears_event                  25906 non-null  int64  \n",
      " 29  bankrupt_event                 25906 non-null  int64  \n",
      " 30  term_expiry_event              25906 non-null  int64  \n",
      " 31  worst_arrears_status           25906 non-null  int64  \n",
      " 32  max_arrears_12m                25906 non-null  float64\n",
      " 33  recent_arrears_date            814 non-null    object \n",
      " 34  months_since_2mia              814 non-null    float64\n",
      " 35  avg_mia_6m                     25902 non-null  float64\n",
      " 36  max_arrears_bal_6m             25902 non-null  float64\n",
      " 37  max_mia_6m                     25902 non-null  float64\n",
      " 38  avg_bal_6m                     25902 non-null  float64\n",
      " 39  avg_bureau_score_6m            25515 non-null  float64\n",
      " 40  cc_util                        25906 non-null  float64\n",
      " 41  annual_income                  25906 non-null  int64  \n",
      " 42  emp_length                     25906 non-null  int64  \n",
      " 43  months_since_recent_cc_delinq  25906 non-null  int64  \n",
      "dtypes: float64(21), int64(18), object(5)\n",
      "memory usage: 8.7+ MB\n"
     ]
    }
   ],
   "source": [
    "oneypd.info()"
   ]
  },
  {
   "cell_type": "markdown",
   "metadata": {},
   "source": [
    "### Round arrears count fields"
   ]
  },
  {
   "cell_type": "code",
   "execution_count": 5,
   "metadata": {
    "ExecuteTime": {
     "end_time": "2020-07-11T21:42:28.320727Z",
     "start_time": "2020-07-11T21:42:28.104541Z"
    }
   },
   "outputs": [],
   "source": [
    "oneypd[\"max_arrears_12m\"] = np.round(oneypd['max_arrears_12m'],4)\n",
    "oneypd['arrears_months'] = np.round(oneypd['arrears_months'],4)"
   ]
  },
  {
   "cell_type": "markdown",
   "metadata": {},
   "source": [
    "## Default flag"
   ]
  },
  {
   "cell_type": "code",
   "execution_count": 6,
   "metadata": {
    "ExecuteTime": {
     "end_time": "2020-07-11T21:42:28.552714Z",
     "start_time": "2020-07-11T21:42:28.320727Z"
    }
   },
   "outputs": [],
   "source": [
    "# default = 1 and non-default =0\n",
    "oneypd['default_event'] = np.logical_or((np.logical_or(\n",
    "    oneypd['arrears_event'] == 1, oneypd['term_expiry_event'] == 1)), oneypd['bankrupt_event'] == 1).astype(int)"
   ]
  },
  {
   "cell_type": "code",
   "execution_count": 7,
   "metadata": {
    "ExecuteTime": {
     "end_time": "2020-07-11T21:42:28.706135Z",
     "start_time": "2020-07-11T21:42:28.552714Z"
    }
   },
   "outputs": [
    {
     "data": {
      "text/plain": [
       "0    0\n",
       "1    0\n",
       "2    1\n",
       "3    0\n",
       "4    0\n",
       "5    1\n",
       "6    0\n",
       "7    0\n",
       "8    1\n",
       "9    0\n",
       "Name: default_event, dtype: int32"
      ]
     },
     "execution_count": 7,
     "metadata": {},
     "output_type": "execute_result"
    }
   ],
   "source": [
    "oneypd[\"default_event\"].head(10)"
   ]
  },
  {
   "cell_type": "markdown",
   "metadata": {
    "heading_collapsed": true
   },
   "source": [
    "## Database split in test and train sample"
   ]
  },
  {
   "cell_type": "code",
   "execution_count": 8,
   "metadata": {
    "ExecuteTime": {
     "end_time": "2020-07-11T21:42:28.953307Z",
     "start_time": "2020-07-11T21:42:28.706135Z"
    },
    "hidden": true
   },
   "outputs": [],
   "source": [
    "# Setting seed for split\n",
    "seed = 123"
   ]
  },
  {
   "cell_type": "code",
   "execution_count": 9,
   "metadata": {
    "ExecuteTime": {
     "end_time": "2020-07-11T21:42:29.138243Z",
     "start_time": "2020-07-11T21:42:28.953307Z"
    },
    "hidden": true
   },
   "outputs": [],
   "source": [
    "# separating dependent andd independent variables\n",
    "X = oneypd.drop('default_event', axis=1)\n",
    "y = oneypd['default_event']"
   ]
  },
  {
   "cell_type": "code",
   "execution_count": 10,
   "metadata": {
    "ExecuteTime": {
     "end_time": "2020-07-11T21:42:29.407734Z",
     "start_time": "2020-07-11T21:42:29.138243Z"
    },
    "hidden": true
   },
   "outputs": [],
   "source": [
    "X_train, X_test, y_train, y_test = train_test_split(\n",
    "    X, y, test_size=0.3, random_state=seed,stratify = y)"
   ]
  },
  {
   "cell_type": "markdown",
   "metadata": {},
   "source": [
    "# Univariate analysis"
   ]
  },
  {
   "cell_type": "markdown",
   "metadata": {},
   "source": [
    "## IV assessment"
   ]
  },
  {
   "cell_type": "code",
   "execution_count": 11,
   "metadata": {
    "ExecuteTime": {
     "end_time": "2020-07-11T21:42:29.723726Z",
     "start_time": "2020-07-11T21:42:29.407734Z"
    }
   },
   "outputs": [],
   "source": [
    "# list of numerical columns\n",
    "num_list = [\"max_arrears_12m\",\"arrears_months\",\"max_arrears_bal_6m\",\"cc_util\",\"bureau_score\",\n",
    "            \"annual_income\",\"avg_bureau_score_6m\",\"emp_length\",'remaining_mat',\"num_ccj\",\"time_since_ccj\",\n",
    "            \"months_since_recent_cc_delinq\",\"loan_term\",\"ltv\",\"avg_bal_6m\",\"loan_balance\",\n",
    "            \"monthly_installment\"]"
   ]
  },
  {
   "cell_type": "code",
   "execution_count": 12,
   "metadata": {
    "ExecuteTime": {
     "end_time": "2020-07-11T21:42:36.356147Z",
     "start_time": "2020-07-11T21:42:29.723726Z"
    },
    "code_folding": []
   },
   "outputs": [],
   "source": [
    "# Getting IV value for numerical variables \n",
    "iv_list = []\n",
    "\n",
    "for val in num_list:\n",
    "\n",
    "    x = oneypd[val].values\n",
    "    y = oneypd[\"default_event\"].values\n",
    "    optb = OptimalBinning(name=val, dtype=\"numerical\", solver=\"cp\")\n",
    "    optb.fit(x, y)\n",
    "    binning_table = optb.binning_table\n",
    "    iv_list.append(binning_table.build().loc[\"Totals\", \"IV\"])"
   ]
  },
  {
   "cell_type": "code",
   "execution_count": 13,
   "metadata": {
    "ExecuteTime": {
     "end_time": "2020-07-11T21:42:36.387567Z",
     "start_time": "2020-07-11T21:42:36.356147Z"
    }
   },
   "outputs": [
    {
     "data": {
      "text/html": [
       "<div>\n",
       "<style scoped>\n",
       "    .dataframe tbody tr th:only-of-type {\n",
       "        vertical-align: middle;\n",
       "    }\n",
       "\n",
       "    .dataframe tbody tr th {\n",
       "        vertical-align: top;\n",
       "    }\n",
       "\n",
       "    .dataframe thead th {\n",
       "        text-align: right;\n",
       "    }\n",
       "</style>\n",
       "<table border=\"1\" class=\"dataframe\">\n",
       "  <thead>\n",
       "    <tr style=\"text-align: right;\">\n",
       "      <th></th>\n",
       "      <th>Variable</th>\n",
       "      <th>IV</th>\n",
       "    </tr>\n",
       "  </thead>\n",
       "  <tbody>\n",
       "    <tr>\n",
       "      <th>3</th>\n",
       "      <td>cc_util</td>\n",
       "      <td>2.290492</td>\n",
       "    </tr>\n",
       "    <tr>\n",
       "      <th>0</th>\n",
       "      <td>max_arrears_12m</td>\n",
       "      <td>1.066055</td>\n",
       "    </tr>\n",
       "    <tr>\n",
       "      <th>1</th>\n",
       "      <td>arrears_months</td>\n",
       "      <td>0.997844</td>\n",
       "    </tr>\n",
       "    <tr>\n",
       "      <th>2</th>\n",
       "      <td>max_arrears_bal_6m</td>\n",
       "      <td>0.843924</td>\n",
       "    </tr>\n",
       "    <tr>\n",
       "      <th>4</th>\n",
       "      <td>bureau_score</td>\n",
       "      <td>0.575394</td>\n",
       "    </tr>\n",
       "    <tr>\n",
       "      <th>6</th>\n",
       "      <td>avg_bureau_score_6m</td>\n",
       "      <td>0.572484</td>\n",
       "    </tr>\n",
       "    <tr>\n",
       "      <th>5</th>\n",
       "      <td>annual_income</td>\n",
       "      <td>0.561323</td>\n",
       "    </tr>\n",
       "    <tr>\n",
       "      <th>11</th>\n",
       "      <td>months_since_recent_cc_delinq</td>\n",
       "      <td>0.530156</td>\n",
       "    </tr>\n",
       "    <tr>\n",
       "      <th>7</th>\n",
       "      <td>emp_length</td>\n",
       "      <td>0.227386</td>\n",
       "    </tr>\n",
       "    <tr>\n",
       "      <th>9</th>\n",
       "      <td>num_ccj</td>\n",
       "      <td>0.160292</td>\n",
       "    </tr>\n",
       "    <tr>\n",
       "      <th>10</th>\n",
       "      <td>time_since_ccj</td>\n",
       "      <td>0.155246</td>\n",
       "    </tr>\n",
       "    <tr>\n",
       "      <th>12</th>\n",
       "      <td>loan_term</td>\n",
       "      <td>0.143089</td>\n",
       "    </tr>\n",
       "    <tr>\n",
       "      <th>13</th>\n",
       "      <td>ltv</td>\n",
       "      <td>0.036441</td>\n",
       "    </tr>\n",
       "    <tr>\n",
       "      <th>15</th>\n",
       "      <td>loan_balance</td>\n",
       "      <td>0.026256</td>\n",
       "    </tr>\n",
       "    <tr>\n",
       "      <th>14</th>\n",
       "      <td>avg_bal_6m</td>\n",
       "      <td>0.025250</td>\n",
       "    </tr>\n",
       "    <tr>\n",
       "      <th>16</th>\n",
       "      <td>monthly_installment</td>\n",
       "      <td>0.017511</td>\n",
       "    </tr>\n",
       "    <tr>\n",
       "      <th>8</th>\n",
       "      <td>remaining_mat</td>\n",
       "      <td>0.000000</td>\n",
       "    </tr>\n",
       "  </tbody>\n",
       "</table>\n",
       "</div>"
      ],
      "text/plain": [
       "                         Variable        IV\n",
       "3                         cc_util  2.290492\n",
       "0                 max_arrears_12m  1.066055\n",
       "1                  arrears_months  0.997844\n",
       "2              max_arrears_bal_6m  0.843924\n",
       "4                    bureau_score  0.575394\n",
       "6             avg_bureau_score_6m  0.572484\n",
       "5                   annual_income  0.561323\n",
       "11  months_since_recent_cc_delinq  0.530156\n",
       "7                      emp_length  0.227386\n",
       "9                         num_ccj  0.160292\n",
       "10                 time_since_ccj  0.155246\n",
       "12                      loan_term  0.143089\n",
       "13                            ltv  0.036441\n",
       "15                   loan_balance  0.026256\n",
       "14                     avg_bal_6m  0.025250\n",
       "16            monthly_installment  0.017511\n",
       "8                   remaining_mat  0.000000"
      ]
     },
     "execution_count": 13,
     "metadata": {},
     "output_type": "execute_result"
    }
   ],
   "source": [
    "iv_dict = {\"Variable\": num_list, \"IV\": iv_list}\n",
    "iv_df = pd.DataFrame.from_dict(iv_dict)\n",
    "iv_df = iv_df.sort_values(by=\"IV\", ascending=False)\n",
    "iv_df"
   ]
  },
  {
   "cell_type": "markdown",
   "metadata": {},
   "source": [
    "## Binning WOE"
   ]
  },
  {
   "cell_type": "code",
   "execution_count": 14,
   "metadata": {
    "ExecuteTime": {
     "end_time": "2020-07-11T21:42:36.571944Z",
     "start_time": "2020-07-11T21:42:36.387567Z"
    }
   },
   "outputs": [],
   "source": [
    "# Discarding the variables low IV\n",
    "# Discarding variables which has similar charcteristics with other variable\n",
    "num_list_final = [\"max_arrears_12m\", \"cc_util\", \"bureau_score\",\n",
    "                  \"annual_income\", \"emp_length\", \"num_ccj\", \"months_since_recent_cc_delinq\"]"
   ]
  },
  {
   "cell_type": "code",
   "execution_count": 15,
   "metadata": {
    "ExecuteTime": {
     "end_time": "2020-07-11T21:42:36.788068Z",
     "start_time": "2020-07-11T21:42:36.571944Z"
    }
   },
   "outputs": [],
   "source": [
    "binning_process = BinningProcess(num_list_final)"
   ]
  },
  {
   "cell_type": "code",
   "execution_count": 16,
   "metadata": {
    "ExecuteTime": {
     "end_time": "2020-07-11T21:42:36.988132Z",
     "start_time": "2020-07-11T21:42:36.788068Z"
    }
   },
   "outputs": [],
   "source": [
    "x_final= X_train[num_list_final]\n",
    "x_final_test= X_test[num_list_final]"
   ]
  },
  {
   "cell_type": "code",
   "execution_count": 17,
   "metadata": {
    "ExecuteTime": {
     "end_time": "2020-07-11T21:42:38.661878Z",
     "start_time": "2020-07-11T21:42:36.988132Z"
    }
   },
   "outputs": [],
   "source": [
    "# replacing values of variables with woe\n",
    "x_woe=binning_process.fit_transform(x_final,y_train)\n",
    "x_woe_test=binning_process.fit_transform(x_final_test,y_test)"
   ]
  },
  {
   "cell_type": "code",
   "execution_count": 18,
   "metadata": {
    "ExecuteTime": {
     "end_time": "2020-07-11T21:42:38.677293Z",
     "start_time": "2020-07-11T21:42:38.661878Z"
    }
   },
   "outputs": [],
   "source": [
    "# setting index of independent variables\n",
    "x_woe.set_index(y_train.index,inplace=True)\n",
    "x_woe_test.set_index(y_test.index,inplace=True)"
   ]
  },
  {
   "cell_type": "code",
   "execution_count": 19,
   "metadata": {
    "ExecuteTime": {
     "end_time": "2020-07-11T21:42:38.893185Z",
     "start_time": "2020-07-11T21:42:38.677293Z"
    }
   },
   "outputs": [
    {
     "data": {
      "text/html": [
       "<div>\n",
       "<style scoped>\n",
       "    .dataframe tbody tr th:only-of-type {\n",
       "        vertical-align: middle;\n",
       "    }\n",
       "\n",
       "    .dataframe tbody tr th {\n",
       "        vertical-align: top;\n",
       "    }\n",
       "\n",
       "    .dataframe thead th {\n",
       "        text-align: right;\n",
       "    }\n",
       "</style>\n",
       "<table border=\"1\" class=\"dataframe\">\n",
       "  <thead>\n",
       "    <tr style=\"text-align: right;\">\n",
       "      <th></th>\n",
       "      <th>max_arrears_12m</th>\n",
       "      <th>cc_util</th>\n",
       "      <th>bureau_score</th>\n",
       "      <th>annual_income</th>\n",
       "      <th>emp_length</th>\n",
       "      <th>num_ccj</th>\n",
       "      <th>months_since_recent_cc_delinq</th>\n",
       "    </tr>\n",
       "  </thead>\n",
       "  <tbody>\n",
       "    <tr>\n",
       "      <th>max_arrears_12m</th>\n",
       "      <td>1.000000</td>\n",
       "      <td>0.104134</td>\n",
       "      <td>0.356772</td>\n",
       "      <td>0.060610</td>\n",
       "      <td>0.022744</td>\n",
       "      <td>0.254137</td>\n",
       "      <td>0.039275</td>\n",
       "    </tr>\n",
       "    <tr>\n",
       "      <th>cc_util</th>\n",
       "      <td>0.104134</td>\n",
       "      <td>1.000000</td>\n",
       "      <td>0.047780</td>\n",
       "      <td>0.061998</td>\n",
       "      <td>0.029193</td>\n",
       "      <td>0.038907</td>\n",
       "      <td>0.441388</td>\n",
       "    </tr>\n",
       "    <tr>\n",
       "      <th>bureau_score</th>\n",
       "      <td>0.356772</td>\n",
       "      <td>0.047780</td>\n",
       "      <td>1.000000</td>\n",
       "      <td>0.021213</td>\n",
       "      <td>0.010412</td>\n",
       "      <td>0.356329</td>\n",
       "      <td>0.011080</td>\n",
       "    </tr>\n",
       "    <tr>\n",
       "      <th>annual_income</th>\n",
       "      <td>0.060610</td>\n",
       "      <td>0.061998</td>\n",
       "      <td>0.021213</td>\n",
       "      <td>1.000000</td>\n",
       "      <td>0.534918</td>\n",
       "      <td>0.030123</td>\n",
       "      <td>0.034242</td>\n",
       "    </tr>\n",
       "    <tr>\n",
       "      <th>emp_length</th>\n",
       "      <td>0.022744</td>\n",
       "      <td>0.029193</td>\n",
       "      <td>0.010412</td>\n",
       "      <td>0.534918</td>\n",
       "      <td>1.000000</td>\n",
       "      <td>0.026148</td>\n",
       "      <td>0.007881</td>\n",
       "    </tr>\n",
       "    <tr>\n",
       "      <th>num_ccj</th>\n",
       "      <td>0.254137</td>\n",
       "      <td>0.038907</td>\n",
       "      <td>0.356329</td>\n",
       "      <td>0.030123</td>\n",
       "      <td>0.026148</td>\n",
       "      <td>1.000000</td>\n",
       "      <td>0.011678</td>\n",
       "    </tr>\n",
       "    <tr>\n",
       "      <th>months_since_recent_cc_delinq</th>\n",
       "      <td>0.039275</td>\n",
       "      <td>0.441388</td>\n",
       "      <td>0.011080</td>\n",
       "      <td>0.034242</td>\n",
       "      <td>0.007881</td>\n",
       "      <td>0.011678</td>\n",
       "      <td>1.000000</td>\n",
       "    </tr>\n",
       "  </tbody>\n",
       "</table>\n",
       "</div>"
      ],
      "text/plain": [
       "                               max_arrears_12m   cc_util  bureau_score  \\\n",
       "max_arrears_12m                       1.000000  0.104134      0.356772   \n",
       "cc_util                               0.104134  1.000000      0.047780   \n",
       "bureau_score                          0.356772  0.047780      1.000000   \n",
       "annual_income                         0.060610  0.061998      0.021213   \n",
       "emp_length                            0.022744  0.029193      0.010412   \n",
       "num_ccj                               0.254137  0.038907      0.356329   \n",
       "months_since_recent_cc_delinq         0.039275  0.441388      0.011080   \n",
       "\n",
       "                               annual_income  emp_length   num_ccj  \\\n",
       "max_arrears_12m                     0.060610    0.022744  0.254137   \n",
       "cc_util                             0.061998    0.029193  0.038907   \n",
       "bureau_score                        0.021213    0.010412  0.356329   \n",
       "annual_income                       1.000000    0.534918  0.030123   \n",
       "emp_length                          0.534918    1.000000  0.026148   \n",
       "num_ccj                             0.030123    0.026148  1.000000   \n",
       "months_since_recent_cc_delinq       0.034242    0.007881  0.011678   \n",
       "\n",
       "                               months_since_recent_cc_delinq  \n",
       "max_arrears_12m                                     0.039275  \n",
       "cc_util                                             0.441388  \n",
       "bureau_score                                        0.011080  \n",
       "annual_income                                       0.034242  \n",
       "emp_length                                          0.007881  \n",
       "num_ccj                                             0.011678  \n",
       "months_since_recent_cc_delinq                       1.000000  "
      ]
     },
     "execution_count": 19,
     "metadata": {},
     "output_type": "execute_result"
    }
   ],
   "source": [
    "x_woe.corr()"
   ]
  },
  {
   "cell_type": "markdown",
   "metadata": {},
   "source": [
    "# Stepwise regression"
   ]
  },
  {
   "cell_type": "code",
   "execution_count": 20,
   "metadata": {
    "ExecuteTime": {
     "end_time": "2020-07-11T21:42:39.093900Z",
     "start_time": "2020-07-11T21:42:38.893185Z"
    }
   },
   "outputs": [],
   "source": [
    "def forward_regression(X, y,\n",
    "                       threshold_in,\n",
    "                       verbose=False):\n",
    "    \"\"\"\n",
    "    args:\n",
    "    ---------\n",
    "    X : dataframe of independent variable\n",
    "    y: dataframe of independent variable\n",
    "    threshold_in : threshold for p value \n",
    "    \"\"\"\n",
    "    initial_list = []\n",
    "    included = list(initial_list)\n",
    "    while True:\n",
    "        changed = False\n",
    "        excluded = list(set(X.columns)-set(included))\n",
    "        new_pval = pd.Series(index=excluded)\n",
    "\n",
    "        for new_column in excluded:\n",
    "            glm_binom = sm.GLM(y, sm.add_constant(pd.DataFrame(\n",
    "                X[included+[new_column]])), family=sm.families.Binomial())\n",
    "            model = glm_binom.fit()\n",
    "            new_pval[new_column] = model.pvalues[new_column]\n",
    "\n",
    "        best_pval = new_pval.min()\n",
    "\n",
    "        if best_pval < threshold_in:\n",
    "            best_feature = new_pval.idxmin()\n",
    "\n",
    "            included.append(best_feature)\n",
    "            changed = True\n",
    "            if verbose:\n",
    "                print(\n",
    "                    'Add  {:30} with p-value {:.6}'.format(best_feature, best_pval))\n",
    "\n",
    "        if not changed:\n",
    "\n",
    "            break\n",
    "\n",
    "    return included"
   ]
  },
  {
   "cell_type": "code",
   "execution_count": 21,
   "metadata": {
    "ExecuteTime": {
     "end_time": "2020-07-11T21:42:41.525783Z",
     "start_time": "2020-07-11T21:42:39.093900Z"
    },
    "scrolled": false
   },
   "outputs": [
    {
     "name": "stderr",
     "output_type": "stream",
     "text": [
      "C:\\Applications\\lib\\site-packages\\ipykernel_launcher.py:16: DeprecationWarning: The default dtype for empty Series will be 'object' instead of 'float64' in a future version. Specify a dtype explicitly to silence this warning.\n",
      "  app.launch_new_instance()\n"
     ]
    }
   ],
   "source": [
    "# Variable list based on stepwise regression\n",
    "var_list = forward_regression(x_woe, y_train, threshold_in=0.05)"
   ]
  },
  {
   "cell_type": "code",
   "execution_count": 22,
   "metadata": {
    "ExecuteTime": {
     "end_time": "2020-07-11T21:42:41.606427Z",
     "start_time": "2020-07-11T21:42:41.527807Z"
    }
   },
   "outputs": [],
   "source": [
    "# Model based on var_list\n",
    "glm_binom = sm.GLM(y_train, sm.add_constant(pd.DataFrame(\n",
    "                x_woe[var_list])), family=sm.families.Binomial()).fit()"
   ]
  },
  {
   "cell_type": "code",
   "execution_count": 23,
   "metadata": {
    "ExecuteTime": {
     "end_time": "2020-07-11T21:42:41.727320Z",
     "start_time": "2020-07-11T21:42:41.608454Z"
    }
   },
   "outputs": [
    {
     "data": {
      "text/html": [
       "<table class=\"simpletable\">\n",
       "<caption>Generalized Linear Model Regression Results</caption>\n",
       "<tr>\n",
       "  <th>Dep. Variable:</th>     <td>default_event</td>  <th>  No. Observations:  </th>  <td> 18134</td> \n",
       "</tr>\n",
       "<tr>\n",
       "  <th>Model:</th>                  <td>GLM</td>       <th>  Df Residuals:      </th>  <td> 18129</td> \n",
       "</tr>\n",
       "<tr>\n",
       "  <th>Model Family:</th>        <td>Binomial</td>     <th>  Df Model:          </th>  <td>     4</td> \n",
       "</tr>\n",
       "<tr>\n",
       "  <th>Link Function:</th>         <td>logit</td>      <th>  Scale:             </th> <td>  1.0000</td>\n",
       "</tr>\n",
       "<tr>\n",
       "  <th>Method:</th>                <td>IRLS</td>       <th>  Log-Likelihood:    </th> <td> -2194.0</td>\n",
       "</tr>\n",
       "<tr>\n",
       "  <th>Date:</th>            <td>Sun, 12 Jul 2020</td> <th>  Deviance:          </th> <td>  4388.0</td>\n",
       "</tr>\n",
       "<tr>\n",
       "  <th>Time:</th>                <td>03:12:41</td>     <th>  Pearson chi2:      </th> <td>2.14e+04</td>\n",
       "</tr>\n",
       "<tr>\n",
       "  <th>No. Iterations:</th>          <td>8</td>        <th>                     </th>     <td> </td>   \n",
       "</tr>\n",
       "<tr>\n",
       "  <th>Covariance Type:</th>     <td>nonrobust</td>    <th>                     </th>     <td> </td>   \n",
       "</tr>\n",
       "</table>\n",
       "<table class=\"simpletable\">\n",
       "<tr>\n",
       "         <td></td>            <th>coef</th>     <th>std err</th>      <th>z</th>      <th>P>|z|</th>  <th>[0.025</th>    <th>0.975]</th>  \n",
       "</tr>\n",
       "<tr>\n",
       "  <th>const</th>           <td>   -2.8782</td> <td>    0.051</td> <td>  -56.222</td> <td> 0.000</td> <td>   -2.979</td> <td>   -2.778</td>\n",
       "</tr>\n",
       "<tr>\n",
       "  <th>max_arrears_12m</th> <td>   -0.8008</td> <td>    0.038</td> <td>  -20.831</td> <td> 0.000</td> <td>   -0.876</td> <td>   -0.725</td>\n",
       "</tr>\n",
       "<tr>\n",
       "  <th>cc_util</th>         <td>   -0.9922</td> <td>    0.035</td> <td>  -27.954</td> <td> 0.000</td> <td>   -1.062</td> <td>   -0.923</td>\n",
       "</tr>\n",
       "<tr>\n",
       "  <th>annual_income</th>   <td>   -1.0244</td> <td>    0.050</td> <td>  -20.435</td> <td> 0.000</td> <td>   -1.123</td> <td>   -0.926</td>\n",
       "</tr>\n",
       "<tr>\n",
       "  <th>bureau_score</th>    <td>   -0.5643</td> <td>    0.060</td> <td>   -9.465</td> <td> 0.000</td> <td>   -0.681</td> <td>   -0.447</td>\n",
       "</tr>\n",
       "</table>"
      ],
      "text/plain": [
       "<class 'statsmodels.iolib.summary.Summary'>\n",
       "\"\"\"\n",
       "                 Generalized Linear Model Regression Results                  \n",
       "==============================================================================\n",
       "Dep. Variable:          default_event   No. Observations:                18134\n",
       "Model:                            GLM   Df Residuals:                    18129\n",
       "Model Family:                Binomial   Df Model:                            4\n",
       "Link Function:                  logit   Scale:                          1.0000\n",
       "Method:                          IRLS   Log-Likelihood:                -2194.0\n",
       "Date:                Sun, 12 Jul 2020   Deviance:                       4388.0\n",
       "Time:                        03:12:41   Pearson chi2:                 2.14e+04\n",
       "No. Iterations:                     8                                         \n",
       "Covariance Type:            nonrobust                                         \n",
       "===================================================================================\n",
       "                      coef    std err          z      P>|z|      [0.025      0.975]\n",
       "-----------------------------------------------------------------------------------\n",
       "const              -2.8782      0.051    -56.222      0.000      -2.979      -2.778\n",
       "max_arrears_12m    -0.8008      0.038    -20.831      0.000      -0.876      -0.725\n",
       "cc_util            -0.9922      0.035    -27.954      0.000      -1.062      -0.923\n",
       "annual_income      -1.0244      0.050    -20.435      0.000      -1.123      -0.926\n",
       "bureau_score       -0.5643      0.060     -9.465      0.000      -0.681      -0.447\n",
       "===================================================================================\n",
       "\"\"\""
      ]
     },
     "execution_count": 23,
     "metadata": {},
     "output_type": "execute_result"
    }
   ],
   "source": [
    "# Summary of the model\n",
    "glm_binom.summary()"
   ]
  },
  {
   "cell_type": "markdown",
   "metadata": {},
   "source": [
    "# GLM Calibration"
   ]
  },
  {
   "cell_type": "markdown",
   "metadata": {},
   "source": [
    "## Score Normalisation"
   ]
  },
  {
   "cell_type": "code",
   "execution_count": 24,
   "metadata": {
    "ExecuteTime": {
     "end_time": "2020-07-11T21:42:41.868337Z",
     "start_time": "2020-07-11T21:42:41.739411Z"
    }
   },
   "outputs": [],
   "source": [
    "#New scale with anchor set at 660 points and log-odds doubling each 40 points and 72:1 odds ratio.\n",
    "def scaled_score(logit,odds,offset=500,pdo=20):\n",
    "    b=pdo/np.log(2)\n",
    "    a = offset - b* np.log(odds)\n",
    "    \n",
    "    return round(a+b*(np.log((1-logit)/logit)))"
   ]
  },
  {
   "cell_type": "code",
   "execution_count": 25,
   "metadata": {
    "ExecuteTime": {
     "end_time": "2020-07-11T21:42:42.089663Z",
     "start_time": "2020-07-11T21:42:41.870429Z"
    }
   },
   "outputs": [],
   "source": [
    "x_woe[\"logit\"] = glm_binom.predict(sm.add_constant(pd.DataFrame(x_woe[var_list])))\n",
    "x_woe_test[\"logit\"] = glm_binom.predict(sm.add_constant(pd.DataFrame(x_woe_test[var_list])))"
   ]
  },
  {
   "cell_type": "code",
   "execution_count": 26,
   "metadata": {
    "ExecuteTime": {
     "end_time": "2020-07-11T21:42:43.006275Z",
     "start_time": "2020-07-11T21:42:42.089663Z"
    }
   },
   "outputs": [],
   "source": [
    "x_woe[\"score\"]=scaled_score(x_woe[\"logit\"],odds=72,offset=660,pdo=40)\n",
    "x_woe_test[\"score\"]=scaled_score(x_woe_test[\"logit\"],odds=72,offset=660,pdo=40)"
   ]
  },
  {
   "cell_type": "markdown",
   "metadata": {},
   "source": [
    "## PD Calibration"
   ]
  },
  {
   "cell_type": "code",
   "execution_count": 28,
   "metadata": {
    "ExecuteTime": {
     "end_time": "2020-07-11T21:47:55.860165Z",
     "start_time": "2020-07-11T21:47:55.797644Z"
    }
   },
   "outputs": [],
   "source": [
    "pd_model = sm.GLM(y_train, sm.add_constant(pd.DataFrame(\n",
    "                x_woe['score'])), family=sm.families.Binomial()).fit()"
   ]
  },
  {
   "cell_type": "code",
   "execution_count": 29,
   "metadata": {
    "ExecuteTime": {
     "end_time": "2020-07-11T21:48:17.756885Z",
     "start_time": "2020-07-11T21:48:17.703570Z"
    }
   },
   "outputs": [
    {
     "data": {
      "text/html": [
       "<table class=\"simpletable\">\n",
       "<caption>Generalized Linear Model Regression Results</caption>\n",
       "<tr>\n",
       "  <th>Dep. Variable:</th>     <td>default_event</td>  <th>  No. Observations:  </th>  <td> 18134</td> \n",
       "</tr>\n",
       "<tr>\n",
       "  <th>Model:</th>                  <td>GLM</td>       <th>  Df Residuals:      </th>  <td> 18132</td> \n",
       "</tr>\n",
       "<tr>\n",
       "  <th>Model Family:</th>        <td>Binomial</td>     <th>  Df Model:          </th>  <td>     1</td> \n",
       "</tr>\n",
       "<tr>\n",
       "  <th>Link Function:</th>         <td>logit</td>      <th>  Scale:             </th> <td>  1.0000</td>\n",
       "</tr>\n",
       "<tr>\n",
       "  <th>Method:</th>                <td>IRLS</td>       <th>  Log-Likelihood:    </th> <td> -2194.0</td>\n",
       "</tr>\n",
       "<tr>\n",
       "  <th>Date:</th>            <td>Sun, 12 Jul 2020</td> <th>  Deviance:          </th> <td>  4388.0</td>\n",
       "</tr>\n",
       "<tr>\n",
       "  <th>Time:</th>                <td>03:18:17</td>     <th>  Pearson chi2:      </th> <td>2.14e+04</td>\n",
       "</tr>\n",
       "<tr>\n",
       "  <th>No. Iterations:</th>          <td>8</td>        <th>                     </th>     <td> </td>   \n",
       "</tr>\n",
       "<tr>\n",
       "  <th>Covariance Type:</th>     <td>nonrobust</td>    <th>                     </th>     <td> </td>   \n",
       "</tr>\n",
       "</table>\n",
       "<table class=\"simpletable\">\n",
       "<tr>\n",
       "    <td></td>       <th>coef</th>     <th>std err</th>      <th>z</th>      <th>P>|z|</th>  <th>[0.025</th>    <th>0.975]</th>  \n",
       "</tr>\n",
       "<tr>\n",
       "  <th>const</th> <td>    7.1602</td> <td>    0.225</td> <td>   31.760</td> <td> 0.000</td> <td>    6.718</td> <td>    7.602</td>\n",
       "</tr>\n",
       "<tr>\n",
       "  <th>score</th> <td>   -0.0173</td> <td>    0.000</td> <td>  -40.138</td> <td> 0.000</td> <td>   -0.018</td> <td>   -0.016</td>\n",
       "</tr>\n",
       "</table>"
      ],
      "text/plain": [
       "<class 'statsmodels.iolib.summary.Summary'>\n",
       "\"\"\"\n",
       "                 Generalized Linear Model Regression Results                  \n",
       "==============================================================================\n",
       "Dep. Variable:          default_event   No. Observations:                18134\n",
       "Model:                            GLM   Df Residuals:                    18132\n",
       "Model Family:                Binomial   Df Model:                            1\n",
       "Link Function:                  logit   Scale:                          1.0000\n",
       "Method:                          IRLS   Log-Likelihood:                -2194.0\n",
       "Date:                Sun, 12 Jul 2020   Deviance:                       4388.0\n",
       "Time:                        03:18:17   Pearson chi2:                 2.14e+04\n",
       "No. Iterations:                     8                                         \n",
       "Covariance Type:            nonrobust                                         \n",
       "==============================================================================\n",
       "                 coef    std err          z      P>|z|      [0.025      0.975]\n",
       "------------------------------------------------------------------------------\n",
       "const          7.1602      0.225     31.760      0.000       6.718       7.602\n",
       "score         -0.0173      0.000    -40.138      0.000      -0.018      -0.016\n",
       "==============================================================================\n",
       "\"\"\""
      ]
     },
     "execution_count": 29,
     "metadata": {},
     "output_type": "execute_result"
    }
   ],
   "source": [
    "pd_model.summary()"
   ]
  },
  {
   "cell_type": "code",
   "execution_count": 31,
   "metadata": {
    "ExecuteTime": {
     "end_time": "2020-07-11T21:48:51.870036Z",
     "start_time": "2020-07-11T21:48:51.838821Z"
    }
   },
   "outputs": [],
   "source": [
    "x_woe['pd'] = pd_model.predict(sm.add_constant(pd.DataFrame(\n",
    "    x_woe['score'])))"
   ]
  },
  {
   "cell_type": "code",
   "execution_count": 32,
   "metadata": {
    "ExecuteTime": {
     "end_time": "2020-07-11T21:49:02.776802Z",
     "start_time": "2020-07-11T21:49:02.729893Z"
    }
   },
   "outputs": [
    {
     "data": {
      "text/html": [
       "<div>\n",
       "<style scoped>\n",
       "    .dataframe tbody tr th:only-of-type {\n",
       "        vertical-align: middle;\n",
       "    }\n",
       "\n",
       "    .dataframe tbody tr th {\n",
       "        vertical-align: top;\n",
       "    }\n",
       "\n",
       "    .dataframe thead th {\n",
       "        text-align: right;\n",
       "    }\n",
       "</style>\n",
       "<table border=\"1\" class=\"dataframe\">\n",
       "  <thead>\n",
       "    <tr style=\"text-align: right;\">\n",
       "      <th></th>\n",
       "      <th>max_arrears_12m</th>\n",
       "      <th>cc_util</th>\n",
       "      <th>bureau_score</th>\n",
       "      <th>annual_income</th>\n",
       "      <th>emp_length</th>\n",
       "      <th>num_ccj</th>\n",
       "      <th>months_since_recent_cc_delinq</th>\n",
       "      <th>logit</th>\n",
       "      <th>score</th>\n",
       "      <th>pd</th>\n",
       "    </tr>\n",
       "  </thead>\n",
       "  <tbody>\n",
       "    <tr>\n",
       "      <th>10646</th>\n",
       "      <td>0.645277</td>\n",
       "      <td>-0.372116</td>\n",
       "      <td>0.059692</td>\n",
       "      <td>-0.029744</td>\n",
       "      <td>-0.386232</td>\n",
       "      <td>0.190424</td>\n",
       "      <td>0.279578</td>\n",
       "      <td>0.046137</td>\n",
       "      <td>588.0</td>\n",
       "      <td>0.046131</td>\n",
       "    </tr>\n",
       "    <tr>\n",
       "      <th>4162</th>\n",
       "      <td>0.645277</td>\n",
       "      <td>2.482593</td>\n",
       "      <td>0.582364</td>\n",
       "      <td>0.672785</td>\n",
       "      <td>-0.182094</td>\n",
       "      <td>0.190424</td>\n",
       "      <td>-0.412442</td>\n",
       "      <td>0.001031</td>\n",
       "      <td>810.0</td>\n",
       "      <td>0.001031</td>\n",
       "    </tr>\n",
       "    <tr>\n",
       "      <th>1347</th>\n",
       "      <td>0.645277</td>\n",
       "      <td>2.482593</td>\n",
       "      <td>1.058679</td>\n",
       "      <td>-0.029744</td>\n",
       "      <td>0.265773</td>\n",
       "      <td>0.190424</td>\n",
       "      <td>0.588680</td>\n",
       "      <td>0.001618</td>\n",
       "      <td>784.0</td>\n",
       "      <td>0.001617</td>\n",
       "    </tr>\n",
       "    <tr>\n",
       "      <th>2399</th>\n",
       "      <td>0.645277</td>\n",
       "      <td>2.482593</td>\n",
       "      <td>-0.012192</td>\n",
       "      <td>1.113569</td>\n",
       "      <td>-0.386232</td>\n",
       "      <td>0.190424</td>\n",
       "      <td>-0.412442</td>\n",
       "      <td>0.000918</td>\n",
       "      <td>817.0</td>\n",
       "      <td>0.000914</td>\n",
       "    </tr>\n",
       "    <tr>\n",
       "      <th>19661</th>\n",
       "      <td>0.645277</td>\n",
       "      <td>2.482593</td>\n",
       "      <td>-0.534509</td>\n",
       "      <td>0.481717</td>\n",
       "      <td>-0.182094</td>\n",
       "      <td>0.190424</td>\n",
       "      <td>0.279578</td>\n",
       "      <td>0.002353</td>\n",
       "      <td>762.0</td>\n",
       "      <td>0.002366</td>\n",
       "    </tr>\n",
       "  </tbody>\n",
       "</table>\n",
       "</div>"
      ],
      "text/plain": [
       "       max_arrears_12m   cc_util  bureau_score  annual_income  emp_length  \\\n",
       "10646         0.645277 -0.372116      0.059692      -0.029744   -0.386232   \n",
       "4162          0.645277  2.482593      0.582364       0.672785   -0.182094   \n",
       "1347          0.645277  2.482593      1.058679      -0.029744    0.265773   \n",
       "2399          0.645277  2.482593     -0.012192       1.113569   -0.386232   \n",
       "19661         0.645277  2.482593     -0.534509       0.481717   -0.182094   \n",
       "\n",
       "        num_ccj  months_since_recent_cc_delinq     logit  score        pd  \n",
       "10646  0.190424                       0.279578  0.046137  588.0  0.046131  \n",
       "4162   0.190424                      -0.412442  0.001031  810.0  0.001031  \n",
       "1347   0.190424                       0.588680  0.001618  784.0  0.001617  \n",
       "2399   0.190424                      -0.412442  0.000918  817.0  0.000914  \n",
       "19661  0.190424                       0.279578  0.002353  762.0  0.002366  "
      ]
     },
     "execution_count": 32,
     "metadata": {},
     "output_type": "execute_result"
    }
   ],
   "source": [
    "x_woe.head()"
   ]
  },
  {
   "cell_type": "markdown",
   "metadata": {},
   "source": [
    "## Model Discriminatory power validation"
   ]
  },
  {
   "cell_type": "code",
   "execution_count": 36,
   "metadata": {
    "ExecuteTime": {
     "end_time": "2020-07-11T22:38:21.992282Z",
     "start_time": "2020-07-11T22:38:21.860823Z"
    }
   },
   "outputs": [],
   "source": [
    "from sklearn.metrics import roc_curve as roc\n",
    "from sklearn.metrics import auc\n",
    "import matplotlib.pyplot as plt"
   ]
  },
  {
   "cell_type": "code",
   "execution_count": 35,
   "metadata": {
    "ExecuteTime": {
     "end_time": "2020-07-11T22:37:55.408211Z",
     "start_time": "2020-07-11T22:37:54.305820Z"
    }
   },
   "outputs": [],
   "source": [
    "fper, tper, thresholds=roc(y_train,x_woe.logit)"
   ]
  },
  {
   "cell_type": "markdown",
   "metadata": {},
   "source": [
    "### GINI and AUC"
   ]
  },
  {
   "cell_type": "code",
   "execution_count": 37,
   "metadata": {
    "ExecuteTime": {
     "end_time": "2020-07-11T22:38:50.904426Z",
     "start_time": "2020-07-11T22:38:50.735156Z"
    }
   },
   "outputs": [
    {
     "data": {
      "text/plain": [
       "0.925157631300786"
      ]
     },
     "execution_count": 37,
     "metadata": {},
     "output_type": "execute_result"
    }
   ],
   "source": [
    "AUC=auc(fper,tper)\n",
    "AUC"
   ]
  },
  {
   "cell_type": "code",
   "execution_count": 38,
   "metadata": {
    "ExecuteTime": {
     "end_time": "2020-07-11T22:39:06.883144Z",
     "start_time": "2020-07-11T22:39:06.867524Z"
    }
   },
   "outputs": [
    {
     "data": {
      "text/plain": [
       "0.850315262601572"
      ]
     },
     "execution_count": 38,
     "metadata": {},
     "output_type": "execute_result"
    }
   ],
   "source": [
    "gini = 2*AUC -1\n",
    "gini"
   ]
  },
  {
   "cell_type": "markdown",
   "metadata": {},
   "source": [
    "### ROC"
   ]
  },
  {
   "cell_type": "code",
   "execution_count": 39,
   "metadata": {
    "ExecuteTime": {
     "end_time": "2020-07-11T22:39:56.736829Z",
     "start_time": "2020-07-11T22:39:56.721203Z"
    }
   },
   "outputs": [],
   "source": [
    "def plot_roc_cur(fper, tper):  \n",
    "    plt.plot(fper, tper, color='orange', label='ROC')\n",
    "    plt.plot([0, 1], [0, 1], color='darkblue', linestyle='--')\n",
    "    plt.xlabel('False Positive Rate')\n",
    "    plt.ylabel('True Positive Rate')\n",
    "    plt.title('Receiver Operating Characteristic (ROC) Curve')\n",
    "    plt.legend()\n",
    "    plt.show()"
   ]
  },
  {
   "cell_type": "code",
   "execution_count": 40,
   "metadata": {
    "ExecuteTime": {
     "end_time": "2020-07-11T22:40:01.362157Z",
     "start_time": "2020-07-11T22:39:57.823587Z"
    }
   },
   "outputs": [
    {
     "data": {
      "image/png": "[encoded data removed]",
      "text/plain": [
       "<Figure size 432x288 with 1 Axes>"
      ]
     },
     "metadata": {
      "needs_background": "light"
     },
     "output_type": "display_data"
    }
   ],
   "source": [
    "plot_roc_cur(fper,tper)"
   ]
  },
  {
   "cell_type": "markdown",
   "metadata": {},
   "source": [
    "# Comparision of Actual vs Fitted PD"
   ]
  },
  {
   "cell_type": "code",
   "execution_count": 41,
   "metadata": {
    "ExecuteTime": {
     "end_time": "2020-07-12T18:14:03.149689Z",
     "start_time": "2020-07-12T18:14:01.831209Z"
    }
   },
   "outputs": [],
   "source": [
    "score_cuts=[0,517,576,605,632,667,716,746,773,1000]"
   ]
  },
  {
   "cell_type": "code",
   "execution_count": 43,
   "metadata": {
    "ExecuteTime": {
     "end_time": "2020-07-12T18:15:11.300175Z",
     "start_time": "2020-07-12T18:15:10.955051Z"
    }
   },
   "outputs": [],
   "source": [
    "# Merging train and test set\n",
    "df_train=pd.merge(x_woe,y_train,on = y_train.index)\n",
    "df_test=pd.merge(x_woe_test,y_test,on = y_test.index)\n",
    "df_whole = pd.concat([df_train,df_test], keys=['train', 'test'])"
   ]
  },
  {
   "cell_type": "code",
   "execution_count": 44,
   "metadata": {
    "ExecuteTime": {
     "end_time": "2020-07-12T18:15:35.792523Z",
     "start_time": "2020-07-12T18:15:35.440327Z"
    }
   },
   "outputs": [],
   "source": [
    "df_whole['score_band']=pd.cut(x = df_whole['score'],\n",
    "                        bins = score_cuts)"
   ]
  },
  {
   "cell_type": "code",
   "execution_count": 45,
   "metadata": {
    "ExecuteTime": {
     "end_time": "2020-07-12T18:15:58.600894Z",
     "start_time": "2020-07-12T18:15:58.534063Z"
    }
   },
   "outputs": [
    {
     "data": {
      "text/html": [
       "<div>\n",
       "<style scoped>\n",
       "    .dataframe tbody tr th:only-of-type {\n",
       "        vertical-align: middle;\n",
       "    }\n",
       "\n",
       "    .dataframe tbody tr th {\n",
       "        vertical-align: top;\n",
       "    }\n",
       "\n",
       "    .dataframe thead th {\n",
       "        text-align: right;\n",
       "    }\n",
       "</style>\n",
       "<table border=\"1\" class=\"dataframe\">\n",
       "  <thead>\n",
       "    <tr style=\"text-align: right;\">\n",
       "      <th></th>\n",
       "      <th></th>\n",
       "      <th>key_0</th>\n",
       "      <th>max_arrears_12m</th>\n",
       "      <th>cc_util</th>\n",
       "      <th>bureau_score</th>\n",
       "      <th>annual_income</th>\n",
       "      <th>emp_length</th>\n",
       "      <th>num_ccj</th>\n",
       "      <th>months_since_recent_cc_delinq</th>\n",
       "      <th>logit</th>\n",
       "      <th>score</th>\n",
       "      <th>pd</th>\n",
       "      <th>default_event</th>\n",
       "      <th>score_band</th>\n",
       "    </tr>\n",
       "  </thead>\n",
       "  <tbody>\n",
       "    <tr>\n",
       "      <th rowspan=\"5\" valign=\"top\">train</th>\n",
       "      <th>0</th>\n",
       "      <td>10646</td>\n",
       "      <td>0.645277</td>\n",
       "      <td>-0.372116</td>\n",
       "      <td>0.059692</td>\n",
       "      <td>-0.029744</td>\n",
       "      <td>-0.386232</td>\n",
       "      <td>0.190424</td>\n",
       "      <td>0.279578</td>\n",
       "      <td>0.046137</td>\n",
       "      <td>588.0</td>\n",
       "      <td>0.046131</td>\n",
       "      <td>0</td>\n",
       "      <td>(576, 605]</td>\n",
       "    </tr>\n",
       "    <tr>\n",
       "      <th>1</th>\n",
       "      <td>4162</td>\n",
       "      <td>0.645277</td>\n",
       "      <td>2.482593</td>\n",
       "      <td>0.582364</td>\n",
       "      <td>0.672785</td>\n",
       "      <td>-0.182094</td>\n",
       "      <td>0.190424</td>\n",
       "      <td>-0.412442</td>\n",
       "      <td>0.001031</td>\n",
       "      <td>810.0</td>\n",
       "      <td>0.001031</td>\n",
       "      <td>0</td>\n",
       "      <td>(773, 1000]</td>\n",
       "    </tr>\n",
       "    <tr>\n",
       "      <th>2</th>\n",
       "      <td>1347</td>\n",
       "      <td>0.645277</td>\n",
       "      <td>2.482593</td>\n",
       "      <td>1.058679</td>\n",
       "      <td>-0.029744</td>\n",
       "      <td>0.265773</td>\n",
       "      <td>0.190424</td>\n",
       "      <td>0.588680</td>\n",
       "      <td>0.001618</td>\n",
       "      <td>784.0</td>\n",
       "      <td>0.001617</td>\n",
       "      <td>0</td>\n",
       "      <td>(773, 1000]</td>\n",
       "    </tr>\n",
       "    <tr>\n",
       "      <th>3</th>\n",
       "      <td>2399</td>\n",
       "      <td>0.645277</td>\n",
       "      <td>2.482593</td>\n",
       "      <td>-0.012192</td>\n",
       "      <td>1.113569</td>\n",
       "      <td>-0.386232</td>\n",
       "      <td>0.190424</td>\n",
       "      <td>-0.412442</td>\n",
       "      <td>0.000918</td>\n",
       "      <td>817.0</td>\n",
       "      <td>0.000914</td>\n",
       "      <td>0</td>\n",
       "      <td>(773, 1000]</td>\n",
       "    </tr>\n",
       "    <tr>\n",
       "      <th>4</th>\n",
       "      <td>19661</td>\n",
       "      <td>0.645277</td>\n",
       "      <td>2.482593</td>\n",
       "      <td>-0.534509</td>\n",
       "      <td>0.481717</td>\n",
       "      <td>-0.182094</td>\n",
       "      <td>0.190424</td>\n",
       "      <td>0.279578</td>\n",
       "      <td>0.002353</td>\n",
       "      <td>762.0</td>\n",
       "      <td>0.002366</td>\n",
       "      <td>0</td>\n",
       "      <td>(746, 773]</td>\n",
       "    </tr>\n",
       "  </tbody>\n",
       "</table>\n",
       "</div>"
      ],
      "text/plain": [
       "         key_0  max_arrears_12m   cc_util  bureau_score  annual_income  \\\n",
       "train 0  10646         0.645277 -0.372116      0.059692      -0.029744   \n",
       "      1   4162         0.645277  2.482593      0.582364       0.672785   \n",
       "      2   1347         0.645277  2.482593      1.058679      -0.029744   \n",
       "      3   2399         0.645277  2.482593     -0.012192       1.113569   \n",
       "      4  19661         0.645277  2.482593     -0.534509       0.481717   \n",
       "\n",
       "         emp_length   num_ccj  months_since_recent_cc_delinq     logit  score  \\\n",
       "train 0   -0.386232  0.190424                       0.279578  0.046137  588.0   \n",
       "      1   -0.182094  0.190424                      -0.412442  0.001031  810.0   \n",
       "      2    0.265773  0.190424                       0.588680  0.001618  784.0   \n",
       "      3   -0.386232  0.190424                      -0.412442  0.000918  817.0   \n",
       "      4   -0.182094  0.190424                       0.279578  0.002353  762.0   \n",
       "\n",
       "               pd  default_event   score_band  \n",
       "train 0  0.046131              0   (576, 605]  \n",
       "      1  0.001031              0  (773, 1000]  \n",
       "      2  0.001617              0  (773, 1000]  \n",
       "      3  0.000914              0  (773, 1000]  \n",
       "      4  0.002366              0   (746, 773]  "
      ]
     },
     "execution_count": 45,
     "metadata": {},
     "output_type": "execute_result"
    }
   ],
   "source": [
    "df_whole.head()"
   ]
  },
  {
   "cell_type": "code",
   "execution_count": 49,
   "metadata": {
    "ExecuteTime": {
     "end_time": "2020-07-12T18:17:55.185838Z",
     "start_time": "2020-07-12T18:17:55.171876Z"
    }
   },
   "outputs": [],
   "source": [
    "# calculating PD by score band for actual and fitted data\n",
    "data_pd = df_whole.groupby('score_band')[[\"default_event\", 'logit']].mean()"
   ]
  },
  {
   "cell_type": "code",
   "execution_count": 51,
   "metadata": {
    "ExecuteTime": {
     "end_time": "2020-07-12T18:18:17.706554Z",
     "start_time": "2020-07-12T18:18:17.595877Z"
    }
   },
   "outputs": [],
   "source": [
    "# resetting the index\n",
    "data_pd.reset_index(inplace=True)"
   ]
  },
  {
   "cell_type": "code",
   "execution_count": 52,
   "metadata": {
    "ExecuteTime": {
     "end_time": "2020-07-12T18:18:23.848675Z",
     "start_time": "2020-07-12T18:18:23.833714Z"
    }
   },
   "outputs": [
    {
     "data": {
      "text/html": [
       "<div>\n",
       "<style scoped>\n",
       "    .dataframe tbody tr th:only-of-type {\n",
       "        vertical-align: middle;\n",
       "    }\n",
       "\n",
       "    .dataframe tbody tr th {\n",
       "        vertical-align: top;\n",
       "    }\n",
       "\n",
       "    .dataframe thead th {\n",
       "        text-align: right;\n",
       "    }\n",
       "</style>\n",
       "<table border=\"1\" class=\"dataframe\">\n",
       "  <thead>\n",
       "    <tr style=\"text-align: right;\">\n",
       "      <th></th>\n",
       "      <th>score_band</th>\n",
       "      <th>default_event</th>\n",
       "      <th>logit</th>\n",
       "    </tr>\n",
       "  </thead>\n",
       "  <tbody>\n",
       "    <tr>\n",
       "      <th>0</th>\n",
       "      <td>(0, 517]</td>\n",
       "      <td>0.380098</td>\n",
       "      <td>0.382765</td>\n",
       "    </tr>\n",
       "    <tr>\n",
       "      <th>1</th>\n",
       "      <td>(517, 576]</td>\n",
       "      <td>0.096577</td>\n",
       "      <td>0.087483</td>\n",
       "    </tr>\n",
       "    <tr>\n",
       "      <th>2</th>\n",
       "      <td>(576, 605]</td>\n",
       "      <td>0.038419</td>\n",
       "      <td>0.043607</td>\n",
       "    </tr>\n",
       "    <tr>\n",
       "      <th>3</th>\n",
       "      <td>(605, 632]</td>\n",
       "      <td>0.025475</td>\n",
       "      <td>0.027708</td>\n",
       "    </tr>\n",
       "    <tr>\n",
       "      <th>4</th>\n",
       "      <td>(632, 667]</td>\n",
       "      <td>0.011691</td>\n",
       "      <td>0.016932</td>\n",
       "    </tr>\n",
       "    <tr>\n",
       "      <th>5</th>\n",
       "      <td>(667, 716]</td>\n",
       "      <td>0.007246</td>\n",
       "      <td>0.008239</td>\n",
       "    </tr>\n",
       "    <tr>\n",
       "      <th>6</th>\n",
       "      <td>(716, 746]</td>\n",
       "      <td>0.004840</td>\n",
       "      <td>0.003944</td>\n",
       "    </tr>\n",
       "    <tr>\n",
       "      <th>7</th>\n",
       "      <td>(746, 773]</td>\n",
       "      <td>0.003065</td>\n",
       "      <td>0.002446</td>\n",
       "    </tr>\n",
       "    <tr>\n",
       "      <th>8</th>\n",
       "      <td>(773, 1000]</td>\n",
       "      <td>0.001514</td>\n",
       "      <td>0.001182</td>\n",
       "    </tr>\n",
       "  </tbody>\n",
       "</table>\n",
       "</div>"
      ],
      "text/plain": [
       "    score_band  default_event     logit\n",
       "0     (0, 517]       0.380098  0.382765\n",
       "1   (517, 576]       0.096577  0.087483\n",
       "2   (576, 605]       0.038419  0.043607\n",
       "3   (605, 632]       0.025475  0.027708\n",
       "4   (632, 667]       0.011691  0.016932\n",
       "5   (667, 716]       0.007246  0.008239\n",
       "6   (716, 746]       0.004840  0.003944\n",
       "7   (746, 773]       0.003065  0.002446\n",
       "8  (773, 1000]       0.001514  0.001182"
      ]
     },
     "execution_count": 52,
     "metadata": {},
     "output_type": "execute_result"
    }
   ],
   "source": [
    "data_pd"
   ]
  },
  {
   "cell_type": "markdown",
   "metadata": {},
   "source": [
    "## Plot Actual vs fitted PD"
   ]
  },
  {
   "cell_type": "code",
   "execution_count": 55,
   "metadata": {
    "ExecuteTime": {
     "end_time": "2020-07-12T18:20:38.408703Z",
     "start_time": "2020-07-12T18:20:38.155381Z"
    }
   },
   "outputs": [
    {
     "data": {
      "image/png": "[encoded data removed]",
      "text/plain": [
       "<Figure size 1080x720 with 1 Axes>"
      ]
     },
     "metadata": {
      "needs_background": "light"
     },
     "output_type": "display_data"
    }
   ],
   "source": [
    "plt.figure(figsize=(15,10))\n",
    "plt.plot(data_pd['score_band'],data_pd['default_event'],label='Actual Average PD', color= 'r',marker='o',linestyle='--')\n",
    "plt.plot(data_pd['score_band'],data_pd['logit'],label=\"Fitted Average PD\",color='b',marker='v',linestyle=':')\n",
    "plt.title(\"Actual vs Fitted Probability of Default\")\n",
    "plt.xlabel(\"Score band\")\n",
    "plt.ylabel(\"Rate\")\n",
    "plt.legend()\n",
    "plt.show()"
   ]
  },
  {
   "cell_type": "markdown",
   "metadata": {},
   "source": [
    "## RMSE"
   ]
  },
  {
   "cell_type": "code",
   "execution_count": 57,
   "metadata": {
    "ExecuteTime": {
     "end_time": "2020-07-12T18:22:34.605679Z",
     "start_time": "2020-07-12T18:22:34.594708Z"
    }
   },
   "outputs": [
    {
     "data": {
      "text/plain": [
       "0.004102373143138021"
      ]
     },
     "execution_count": 57,
     "metadata": {},
     "output_type": "execute_result"
    }
   ],
   "source": [
    "from sklearn.metrics import mean_squared_error as MSE\n",
    "MSE(data_pd['default_event'],data_pd['logit'])**0.5"
   ]
  },
  {
   "cell_type": "code",
   "execution_count": null,
   "metadata": {},
   "outputs": [],
   "source": []
  }
 ],
 "metadata": {
  "kernelspec": {
   "display_name": "Python 3",
   "language": "python",
   "name": "python3"
  },
  "language_info": {
   "codemirror_mode": {
    "name": "ipython",
    "version": 3
   },
   "file_extension": ".py",
   "mimetype": "text/x-python",
   "name": "python",
   "nbconvert_exporter": "python",
   "pygments_lexer": "ipython3",
   "version": "3.7.7"
  },
  "toc": {
   "base_numbering": 1,
   "nav_menu": {},
   "number_sections": true,
   "sideBar": true,
   "skip_h1_title": false,
   "title_cell": "Table of Contents",
   "title_sidebar": "Contents",
   "toc_cell": false,
   "toc_position": {},
   "toc_section_display": true,
   "toc_window_display": false
  },
  "varInspector": {
   "cols": {
    "lenName": 16,
    "lenType": 16,
    "lenVar": 40
   },
   "kernels_config": {
    "python": {
     "delete_cmd_postfix": "",
     "delete_cmd_prefix": "del ",
     "library": "var_list.py",
     "varRefreshCmd": "print(var_dic_list())"
    },
    "r": {
     "delete_cmd_postfix": ") ",
     "delete_cmd_prefix": "rm(",
     "library": "var_list.r",
     "varRefreshCmd": "cat(var_dic_list()) "
    }
   },
   "types_to_exclude": [
    "module",
    "function",
    "builtin_function_or_method",
    "instance",
    "_Feature"
   ],
   "window_display": false
  }
 },
 "nbformat": 4,
 "nbformat_minor": 4
}
