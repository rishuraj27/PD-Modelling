{
 "cells": [
  {
   "cell_type": "markdown",
   "metadata": {},
   "source": [
    "# Data preparation"
   ]
  },
  {
   "cell_type": "markdown",
   "metadata": {},
   "source": [
    "## Library import"
   ]
  },
  {
   "cell_type": "code",
   "execution_count": 1,
   "metadata": {
    "ExecuteTime": {
     "end_time": "2020-07-11T20:09:20.867757Z",
     "start_time": "2020-07-11T20:08:52.619591Z"
    }
   },
   "outputs": [],
   "source": [
    "import random\n",
    "import pandas as pd \n",
    "import numpy as np \n",
    "from sklearn.model_selection import train_test_split\n",
    "from optbinning import BinningProcess, OptimalBinning\n",
    "import statsmodels.api as sm"
   ]
  },
  {
   "cell_type": "markdown",
   "metadata": {},
   "source": [
    "### Data import and overview"
   ]
  },
  {
   "cell_type": "code",
   "execution_count": 2,
   "metadata": {
    "ExecuteTime": {
     "end_time": "2020-07-11T20:09:21.474338Z",
     "start_time": "2020-07-11T20:09:20.869793Z"
    }
   },
   "outputs": [],
   "source": [
    "oneypd = pd.read_csv(\"data.csv\",sep=\",\")"
   ]
  },
  {
   "cell_type": "code",
   "execution_count": 3,
   "metadata": {
    "ExecuteTime": {
     "end_time": "2020-07-11T20:09:21.557492Z",
     "start_time": "2020-07-11T20:09:21.477540Z"
    },
    "scrolled": true
   },
   "outputs": [
    {
     "data": {
      "text/html": [
       "<div>\n",
       "<style scoped>\n",
       "    .dataframe tbody tr th:only-of-type {\n",
       "        vertical-align: middle;\n",
       "    }\n",
       "\n",
       "    .dataframe tbody tr th {\n",
       "        vertical-align: top;\n",
       "    }\n",
       "\n",
       "    .dataframe thead th {\n",
       "        text-align: right;\n",
       "    }\n",
       "</style>\n",
       "<table border=\"1\" class=\"dataframe\">\n",
       "  <thead>\n",
       "    <tr style=\"text-align: right;\">\n",
       "      <th></th>\n",
       "      <th>id</th>\n",
       "      <th>vintage_year</th>\n",
       "      <th>monthly_installment</th>\n",
       "      <th>loan_balance</th>\n",
       "      <th>bureau_score</th>\n",
       "      <th>num_bankrupt_iva</th>\n",
       "      <th>time_since_bankrupt</th>\n",
       "      <th>num_ccj</th>\n",
       "      <th>time_since_ccj</th>\n",
       "      <th>ccj_amount</th>\n",
       "      <th>...</th>\n",
       "      <th>months_since_2mia</th>\n",
       "      <th>avg_mia_6m</th>\n",
       "      <th>max_arrears_bal_6m</th>\n",
       "      <th>max_mia_6m</th>\n",
       "      <th>avg_bal_6m</th>\n",
       "      <th>avg_bureau_score_6m</th>\n",
       "      <th>cc_util</th>\n",
       "      <th>annual_income</th>\n",
       "      <th>emp_length</th>\n",
       "      <th>months_since_recent_cc_delinq</th>\n",
       "    </tr>\n",
       "  </thead>\n",
       "  <tbody>\n",
       "    <tr>\n",
       "      <th>0</th>\n",
       "      <td>6670001</td>\n",
       "      <td>2005</td>\n",
       "      <td>746.70</td>\n",
       "      <td>131304.44</td>\n",
       "      <td>541.0</td>\n",
       "      <td>0.0</td>\n",
       "      <td>0.0</td>\n",
       "      <td>0.0</td>\n",
       "      <td>0.0</td>\n",
       "      <td>0.0</td>\n",
       "      <td>...</td>\n",
       "      <td>NaN</td>\n",
       "      <td>0.0</td>\n",
       "      <td>-42.0</td>\n",
       "      <td>0.0</td>\n",
       "      <td>132080.0</td>\n",
       "      <td>542.0</td>\n",
       "      <td>0.4578</td>\n",
       "      <td>76749</td>\n",
       "      <td>3</td>\n",
       "      <td>11</td>\n",
       "    </tr>\n",
       "    <tr>\n",
       "      <th>1</th>\n",
       "      <td>9131199</td>\n",
       "      <td>2006</td>\n",
       "      <td>887.40</td>\n",
       "      <td>115486.51</td>\n",
       "      <td>441.0</td>\n",
       "      <td>0.0</td>\n",
       "      <td>0.0</td>\n",
       "      <td>0.0</td>\n",
       "      <td>0.0</td>\n",
       "      <td>0.0</td>\n",
       "      <td>...</td>\n",
       "      <td>NaN</td>\n",
       "      <td>0.0</td>\n",
       "      <td>0.0</td>\n",
       "      <td>0.0</td>\n",
       "      <td>116972.0</td>\n",
       "      <td>494.0</td>\n",
       "      <td>0.6299</td>\n",
       "      <td>78451</td>\n",
       "      <td>10</td>\n",
       "      <td>7</td>\n",
       "    </tr>\n",
       "    <tr>\n",
       "      <th>2</th>\n",
       "      <td>4963167</td>\n",
       "      <td>2004</td>\n",
       "      <td>1008.50</td>\n",
       "      <td>128381.73</td>\n",
       "      <td>282.0</td>\n",
       "      <td>0.0</td>\n",
       "      <td>0.0</td>\n",
       "      <td>1.0</td>\n",
       "      <td>36.0</td>\n",
       "      <td>459.0</td>\n",
       "      <td>...</td>\n",
       "      <td>0.0</td>\n",
       "      <td>0.0</td>\n",
       "      <td>1198.0</td>\n",
       "      <td>2.0</td>\n",
       "      <td>128500.0</td>\n",
       "      <td>290.0</td>\n",
       "      <td>0.6331</td>\n",
       "      <td>31038</td>\n",
       "      <td>3</td>\n",
       "      <td>6</td>\n",
       "    </tr>\n",
       "    <tr>\n",
       "      <th>3</th>\n",
       "      <td>3918582</td>\n",
       "      <td>2005</td>\n",
       "      <td>458.23</td>\n",
       "      <td>35482.96</td>\n",
       "      <td>461.0</td>\n",
       "      <td>0.0</td>\n",
       "      <td>0.0</td>\n",
       "      <td>0.0</td>\n",
       "      <td>0.0</td>\n",
       "      <td>0.0</td>\n",
       "      <td>...</td>\n",
       "      <td>NaN</td>\n",
       "      <td>0.0</td>\n",
       "      <td>-114.0</td>\n",
       "      <td>0.0</td>\n",
       "      <td>36610.0</td>\n",
       "      <td>460.0</td>\n",
       "      <td>0.4990</td>\n",
       "      <td>56663</td>\n",
       "      <td>8</td>\n",
       "      <td>6</td>\n",
       "    </tr>\n",
       "    <tr>\n",
       "      <th>4</th>\n",
       "      <td>5949777</td>\n",
       "      <td>2006</td>\n",
       "      <td>431.20</td>\n",
       "      <td>77086.31</td>\n",
       "      <td>466.0</td>\n",
       "      <td>0.0</td>\n",
       "      <td>0.0</td>\n",
       "      <td>0.0</td>\n",
       "      <td>0.0</td>\n",
       "      <td>0.0</td>\n",
       "      <td>...</td>\n",
       "      <td>NaN</td>\n",
       "      <td>0.0</td>\n",
       "      <td>0.0</td>\n",
       "      <td>0.0</td>\n",
       "      <td>77518.0</td>\n",
       "      <td>468.0</td>\n",
       "      <td>0.9568</td>\n",
       "      <td>77014</td>\n",
       "      <td>10</td>\n",
       "      <td>3</td>\n",
       "    </tr>\n",
       "  </tbody>\n",
       "</table>\n",
       "<p>5 rows × 44 columns</p>\n",
       "</div>"
      ],
      "text/plain": [
       "        id  vintage_year  monthly_installment  loan_balance  bureau_score  \\\n",
       "0  6670001          2005               746.70     131304.44         541.0   \n",
       "1  9131199          2006               887.40     115486.51         441.0   \n",
       "2  4963167          2004              1008.50     128381.73         282.0   \n",
       "3  3918582          2005               458.23      35482.96         461.0   \n",
       "4  5949777          2006               431.20      77086.31         466.0   \n",
       "\n",
       "   num_bankrupt_iva  time_since_bankrupt  num_ccj  time_since_ccj  ccj_amount  \\\n",
       "0               0.0                  0.0      0.0             0.0         0.0   \n",
       "1               0.0                  0.0      0.0             0.0         0.0   \n",
       "2               0.0                  0.0      1.0            36.0       459.0   \n",
       "3               0.0                  0.0      0.0             0.0         0.0   \n",
       "4               0.0                  0.0      0.0             0.0         0.0   \n",
       "\n",
       "   ...  months_since_2mia  avg_mia_6m  max_arrears_bal_6m  max_mia_6m  \\\n",
       "0  ...                NaN         0.0               -42.0         0.0   \n",
       "1  ...                NaN         0.0                 0.0         0.0   \n",
       "2  ...                0.0         0.0              1198.0         2.0   \n",
       "3  ...                NaN         0.0              -114.0         0.0   \n",
       "4  ...                NaN         0.0                 0.0         0.0   \n",
       "\n",
       "  avg_bal_6m  avg_bureau_score_6m  cc_util annual_income emp_length  \\\n",
       "0   132080.0                542.0   0.4578         76749          3   \n",
       "1   116972.0                494.0   0.6299         78451         10   \n",
       "2   128500.0                290.0   0.6331         31038          3   \n",
       "3    36610.0                460.0   0.4990         56663          8   \n",
       "4    77518.0                468.0   0.9568         77014         10   \n",
       "\n",
       "  months_since_recent_cc_delinq  \n",
       "0                            11  \n",
       "1                             7  \n",
       "2                             6  \n",
       "3                             6  \n",
       "4                             3  \n",
       "\n",
       "[5 rows x 44 columns]"
      ]
     },
     "execution_count": 3,
     "metadata": {},
     "output_type": "execute_result"
    }
   ],
   "source": [
    "oneypd.head()"
   ]
  },
  {
   "cell_type": "code",
   "execution_count": 4,
   "metadata": {
    "ExecuteTime": {
     "end_time": "2020-07-11T20:09:21.691378Z",
     "start_time": "2020-07-11T20:09:21.561958Z"
    }
   },
   "outputs": [
    {
     "name": "stdout",
     "output_type": "stream",
     "text": [
      "<class 'pandas.core.frame.DataFrame'>\n",
      "RangeIndex: 25906 entries, 0 to 25905\n",
      "Data columns (total 44 columns):\n",
      " #   Column                         Non-Null Count  Dtype  \n",
      "---  ------                         --------------  -----  \n",
      " 0   id                             25906 non-null  int64  \n",
      " 1   vintage_year                   25906 non-null  int64  \n",
      " 2   monthly_installment            25906 non-null  float64\n",
      " 3   loan_balance                   25906 non-null  float64\n",
      " 4   bureau_score                   25473 non-null  float64\n",
      " 5   num_bankrupt_iva               25473 non-null  float64\n",
      " 6   time_since_bankrupt            25473 non-null  float64\n",
      " 7   num_ccj                        25473 non-null  float64\n",
      " 8   time_since_ccj                 25473 non-null  float64\n",
      " 9   ccj_amount                     25473 non-null  float64\n",
      " 10  num_bankrupt                   25473 non-null  float64\n",
      " 11  num_iva                        25473 non-null  float64\n",
      " 12  min_months_since_bankrupt      25473 non-null  float64\n",
      " 13  pl_flag                        25906 non-null  int64  \n",
      " 14  region                         25905 non-null  object \n",
      " 15  ltv                            25906 non-null  float64\n",
      " 16  arrears_months                 25906 non-null  float64\n",
      " 17  origination_date               25906 non-null  object \n",
      " 18  maturity_date                  25906 non-null  object \n",
      " 19  repayment_type                 25906 non-null  object \n",
      " 20  arrears_status                 25906 non-null  int64  \n",
      " 21  arrears_segment                25906 non-null  int64  \n",
      " 22  mob                            25906 non-null  int64  \n",
      " 23  remaining_mat                  25906 non-null  int64  \n",
      " 24  loan_term                      25906 non-null  int64  \n",
      " 25  live_status                    25906 non-null  int64  \n",
      " 26  repaid_status                  25906 non-null  int64  \n",
      " 27  month                          25906 non-null  int64  \n",
      " 28  arrears_event                  25906 non-null  int64  \n",
      " 29  bankrupt_event                 25906 non-null  int64  \n",
      " 30  term_expiry_event              25906 non-null  int64  \n",
      " 31  worst_arrears_status           25906 non-null  int64  \n",
      " 32  max_arrears_12m                25906 non-null  float64\n",
      " 33  recent_arrears_date            814 non-null    object \n",
      " 34  months_since_2mia              814 non-null    float64\n",
      " 35  avg_mia_6m                     25902 non-null  float64\n",
      " 36  max_arrears_bal_6m             25902 non-null  float64\n",
      " 37  max_mia_6m                     25902 non-null  float64\n",
      " 38  avg_bal_6m                     25902 non-null  float64\n",
      " 39  avg_bureau_score_6m            25515 non-null  float64\n",
      " 40  cc_util                        25906 non-null  float64\n",
      " 41  annual_income                  25906 non-null  int64  \n",
      " 42  emp_length                     25906 non-null  int64  \n",
      " 43  months_since_recent_cc_delinq  25906 non-null  int64  \n",
      "dtypes: float64(21), int64(18), object(5)\n",
      "memory usage: 8.7+ MB\n"
     ]
    }
   ],
   "source": [
    "oneypd.info()"
   ]
  },
  {
   "cell_type": "markdown",
   "metadata": {},
   "source": [
    "### Round arrears count fields"
   ]
  },
  {
   "cell_type": "code",
   "execution_count": 5,
   "metadata": {
    "ExecuteTime": {
     "end_time": "2020-07-11T20:09:21.774667Z",
     "start_time": "2020-07-11T20:09:21.695257Z"
    }
   },
   "outputs": [],
   "source": [
    "oneypd[\"max_arrears_12m\"] = np.round(oneypd['max_arrears_12m'],4)\n",
    "oneypd['arrears_months'] = np.round(oneypd['arrears_months'],4)"
   ]
  },
  {
   "cell_type": "markdown",
   "metadata": {
    "heading_collapsed": true
   },
   "source": [
    "## Default flag"
   ]
  },
  {
   "cell_type": "code",
   "execution_count": 6,
   "metadata": {
    "ExecuteTime": {
     "end_time": "2020-07-11T20:09:21.941226Z",
     "start_time": "2020-07-11T20:09:21.782415Z"
    },
    "hidden": true
   },
   "outputs": [],
   "source": [
    "# default = 0 and non-default =1\n",
    "oneypd['default_event'] = np.logical_not(np.logical_or((np.logical_or(\n",
    "    oneypd['arrears_event'] == 1, oneypd['term_expiry_event'] == 1)), oneypd['bankrupt_event'] == 1)).astype(int)"
   ]
  },
  {
   "cell_type": "code",
   "execution_count": 7,
   "metadata": {
    "ExecuteTime": {
     "end_time": "2020-07-11T20:09:22.122422Z",
     "start_time": "2020-07-11T20:09:21.953116Z"
    },
    "hidden": true
   },
   "outputs": [
    {
     "data": {
      "text/plain": [
       "0    1\n",
       "1    1\n",
       "2    0\n",
       "3    1\n",
       "4    1\n",
       "5    0\n",
       "6    1\n",
       "7    1\n",
       "8    0\n",
       "9    1\n",
       "Name: default_event, dtype: int32"
      ]
     },
     "execution_count": 7,
     "metadata": {},
     "output_type": "execute_result"
    }
   ],
   "source": [
    "oneypd[\"default_event\"].head(10)"
   ]
  },
  {
   "cell_type": "markdown",
   "metadata": {
    "heading_collapsed": true
   },
   "source": [
    "## Database split in test and train sample"
   ]
  },
  {
   "cell_type": "code",
   "execution_count": 8,
   "metadata": {
    "ExecuteTime": {
     "end_time": "2020-07-11T20:09:22.287903Z",
     "start_time": "2020-07-11T20:09:22.130264Z"
    },
    "hidden": true
   },
   "outputs": [],
   "source": [
    "# Setting seed for split\n",
    "seed = 123"
   ]
  },
  {
   "cell_type": "code",
   "execution_count": 9,
   "metadata": {
    "ExecuteTime": {
     "end_time": "2020-07-11T20:09:22.452733Z",
     "start_time": "2020-07-11T20:09:22.295249Z"
    },
    "hidden": true
   },
   "outputs": [],
   "source": [
    "# separating dependent andd independent variables\n",
    "X = oneypd.drop('default_event', axis=1)\n",
    "y = oneypd['default_event']"
   ]
  },
  {
   "cell_type": "code",
   "execution_count": 10,
   "metadata": {
    "ExecuteTime": {
     "end_time": "2020-07-11T20:09:22.742566Z",
     "start_time": "2020-07-11T20:09:22.456864Z"
    },
    "hidden": true
   },
   "outputs": [],
   "source": [
    "X_train, X_test, y_train, y_test = train_test_split(\n",
    "    X, y, test_size=0.3, random_state=seed,stratify = y)"
   ]
  },
  {
   "cell_type": "markdown",
   "metadata": {},
   "source": [
    "# Univariate analysis"
   ]
  },
  {
   "cell_type": "markdown",
   "metadata": {},
   "source": [
    "## IV assessment"
   ]
  },
  {
   "cell_type": "code",
   "execution_count": 11,
   "metadata": {
    "ExecuteTime": {
     "end_time": "2020-07-11T20:09:22.824731Z",
     "start_time": "2020-07-11T20:09:22.749690Z"
    }
   },
   "outputs": [],
   "source": [
    "# list of numerical columns\n",
    "num_list = [\"max_arrears_12m\",\"arrears_months\",\"max_arrears_bal_6m\",\"cc_util\",\"bureau_score\",\n",
    "            \"annual_income\",\"avg_bureau_score_6m\",\"emp_length\",'remaining_mat',\"num_ccj\",\"time_since_ccj\",\n",
    "            \"months_since_recent_cc_delinq\",\"loan_term\",\"ltv\",\"avg_bal_6m\",\"loan_balance\",\n",
    "            \"monthly_installment\"]"
   ]
  },
  {
   "cell_type": "code",
   "execution_count": 12,
   "metadata": {
    "ExecuteTime": {
     "end_time": "2020-07-11T20:09:25.875091Z",
     "start_time": "2020-07-11T20:09:22.835830Z"
    },
    "code_folding": []
   },
   "outputs": [],
   "source": [
    "# Getting IV value for numerical variables \n",
    "iv_list = []\n",
    "\n",
    "for val in num_list:\n",
    "\n",
    "    x = oneypd[val].values\n",
    "    y = oneypd[\"default_event\"].values\n",
    "    optb = OptimalBinning(name=val, dtype=\"numerical\", solver=\"cp\")\n",
    "    optb.fit(x, y)\n",
    "    binning_table = optb.binning_table\n",
    "    iv_list.append(binning_table.build().loc[\"Totals\", \"IV\"])"
   ]
  },
  {
   "cell_type": "code",
   "execution_count": 13,
   "metadata": {
    "ExecuteTime": {
     "end_time": "2020-07-11T20:09:25.940713Z",
     "start_time": "2020-07-11T20:09:25.877503Z"
    }
   },
   "outputs": [
    {
     "data": {
      "text/html": [
       "<div>\n",
       "<style scoped>\n",
       "    .dataframe tbody tr th:only-of-type {\n",
       "        vertical-align: middle;\n",
       "    }\n",
       "\n",
       "    .dataframe tbody tr th {\n",
       "        vertical-align: top;\n",
       "    }\n",
       "\n",
       "    .dataframe thead th {\n",
       "        text-align: right;\n",
       "    }\n",
       "</style>\n",
       "<table border=\"1\" class=\"dataframe\">\n",
       "  <thead>\n",
       "    <tr style=\"text-align: right;\">\n",
       "      <th></th>\n",
       "      <th>Variable</th>\n",
       "      <th>IV</th>\n",
       "    </tr>\n",
       "  </thead>\n",
       "  <tbody>\n",
       "    <tr>\n",
       "      <th>3</th>\n",
       "      <td>cc_util</td>\n",
       "      <td>2.290492</td>\n",
       "    </tr>\n",
       "    <tr>\n",
       "      <th>0</th>\n",
       "      <td>max_arrears_12m</td>\n",
       "      <td>1.066055</td>\n",
       "    </tr>\n",
       "    <tr>\n",
       "      <th>1</th>\n",
       "      <td>arrears_months</td>\n",
       "      <td>0.997844</td>\n",
       "    </tr>\n",
       "    <tr>\n",
       "      <th>2</th>\n",
       "      <td>max_arrears_bal_6m</td>\n",
       "      <td>0.843924</td>\n",
       "    </tr>\n",
       "    <tr>\n",
       "      <th>4</th>\n",
       "      <td>bureau_score</td>\n",
       "      <td>0.575394</td>\n",
       "    </tr>\n",
       "    <tr>\n",
       "      <th>6</th>\n",
       "      <td>avg_bureau_score_6m</td>\n",
       "      <td>0.572484</td>\n",
       "    </tr>\n",
       "    <tr>\n",
       "      <th>5</th>\n",
       "      <td>annual_income</td>\n",
       "      <td>0.561323</td>\n",
       "    </tr>\n",
       "    <tr>\n",
       "      <th>11</th>\n",
       "      <td>months_since_recent_cc_delinq</td>\n",
       "      <td>0.530156</td>\n",
       "    </tr>\n",
       "    <tr>\n",
       "      <th>7</th>\n",
       "      <td>emp_length</td>\n",
       "      <td>0.227386</td>\n",
       "    </tr>\n",
       "    <tr>\n",
       "      <th>8</th>\n",
       "      <td>remaining_mat</td>\n",
       "      <td>0.199165</td>\n",
       "    </tr>\n",
       "    <tr>\n",
       "      <th>10</th>\n",
       "      <td>time_since_ccj</td>\n",
       "      <td>0.163386</td>\n",
       "    </tr>\n",
       "    <tr>\n",
       "      <th>9</th>\n",
       "      <td>num_ccj</td>\n",
       "      <td>0.160292</td>\n",
       "    </tr>\n",
       "    <tr>\n",
       "      <th>12</th>\n",
       "      <td>loan_term</td>\n",
       "      <td>0.134179</td>\n",
       "    </tr>\n",
       "    <tr>\n",
       "      <th>13</th>\n",
       "      <td>ltv</td>\n",
       "      <td>0.036441</td>\n",
       "    </tr>\n",
       "    <tr>\n",
       "      <th>15</th>\n",
       "      <td>loan_balance</td>\n",
       "      <td>0.026256</td>\n",
       "    </tr>\n",
       "    <tr>\n",
       "      <th>14</th>\n",
       "      <td>avg_bal_6m</td>\n",
       "      <td>0.025250</td>\n",
       "    </tr>\n",
       "    <tr>\n",
       "      <th>16</th>\n",
       "      <td>monthly_installment</td>\n",
       "      <td>0.013492</td>\n",
       "    </tr>\n",
       "  </tbody>\n",
       "</table>\n",
       "</div>"
      ],
      "text/plain": [
       "                         Variable        IV\n",
       "3                         cc_util  2.290492\n",
       "0                 max_arrears_12m  1.066055\n",
       "1                  arrears_months  0.997844\n",
       "2              max_arrears_bal_6m  0.843924\n",
       "4                    bureau_score  0.575394\n",
       "6             avg_bureau_score_6m  0.572484\n",
       "5                   annual_income  0.561323\n",
       "11  months_since_recent_cc_delinq  0.530156\n",
       "7                      emp_length  0.227386\n",
       "8                   remaining_mat  0.199165\n",
       "10                 time_since_ccj  0.163386\n",
       "9                         num_ccj  0.160292\n",
       "12                      loan_term  0.134179\n",
       "13                            ltv  0.036441\n",
       "15                   loan_balance  0.026256\n",
       "14                     avg_bal_6m  0.025250\n",
       "16            monthly_installment  0.013492"
      ]
     },
     "execution_count": 13,
     "metadata": {},
     "output_type": "execute_result"
    }
   ],
   "source": [
    "iv_dict = {\"Variable\": num_list, \"IV\": iv_list}\n",
    "iv_df = pd.DataFrame.from_dict(iv_dict)\n",
    "iv_df = iv_df.sort_values(by=\"IV\", ascending=False)\n",
    "iv_df"
   ]
  },
  {
   "cell_type": "markdown",
   "metadata": {},
   "source": [
    "## Binning WOE"
   ]
  },
  {
   "cell_type": "code",
   "execution_count": 14,
   "metadata": {
    "ExecuteTime": {
     "end_time": "2020-07-11T20:09:26.217531Z",
     "start_time": "2020-07-11T20:09:25.946856Z"
    }
   },
   "outputs": [],
   "source": [
    "# Discarding the variables low IV\n",
    "# Discarding variables which has similar charcteristics with other variable\n",
    "num_list_final = [\"max_arrears_12m\", \"cc_util\", \"bureau_score\",\n",
    "                  \"annual_income\", \"emp_length\", \"num_ccj\", \"months_since_recent_cc_delinq\"]"
   ]
  },
  {
   "cell_type": "code",
   "execution_count": 15,
   "metadata": {
    "ExecuteTime": {
     "end_time": "2020-07-11T20:09:26.424482Z",
     "start_time": "2020-07-11T20:09:26.223030Z"
    }
   },
   "outputs": [],
   "source": [
    "binning_process = BinningProcess(num_list_final)"
   ]
  },
  {
   "cell_type": "code",
   "execution_count": 16,
   "metadata": {
    "ExecuteTime": {
     "end_time": "2020-07-11T20:09:26.639283Z",
     "start_time": "2020-07-11T20:09:26.438943Z"
    }
   },
   "outputs": [],
   "source": [
    "x_final= X_train[num_list_final]\n",
    "x_final_test= X_test[num_list_final]"
   ]
  },
  {
   "cell_type": "code",
   "execution_count": 18,
   "metadata": {
    "ExecuteTime": {
     "end_time": "2020-07-11T20:10:08.298315Z",
     "start_time": "2020-07-11T20:10:05.710644Z"
    }
   },
   "outputs": [],
   "source": [
    "# replacing values of variables with woe\n",
    "x_woe=binning_process.fit_transform(x_final,y_train)\n",
    "x_woe_test=binning_process.fit_transform(x_final_test,y_test)"
   ]
  },
  {
   "cell_type": "code",
   "execution_count": 19,
   "metadata": {
    "ExecuteTime": {
     "end_time": "2020-07-11T20:10:48.237793Z",
     "start_time": "2020-07-11T20:10:48.222611Z"
    }
   },
   "outputs": [],
   "source": [
    "# setting index of independent variables\n",
    "x_woe.set_index(y_train.index,inplace=True)\n",
    "x_woe_test.set_index(y_test.index,inplace=True)"
   ]
  },
  {
   "cell_type": "code",
   "execution_count": 20,
   "metadata": {
    "ExecuteTime": {
     "end_time": "2020-07-11T20:10:51.288542Z",
     "start_time": "2020-07-11T20:10:51.143532Z"
    }
   },
   "outputs": [
    {
     "data": {
      "text/html": [
       "<div>\n",
       "<style scoped>\n",
       "    .dataframe tbody tr th:only-of-type {\n",
       "        vertical-align: middle;\n",
       "    }\n",
       "\n",
       "    .dataframe tbody tr th {\n",
       "        vertical-align: top;\n",
       "    }\n",
       "\n",
       "    .dataframe thead th {\n",
       "        text-align: right;\n",
       "    }\n",
       "</style>\n",
       "<table border=\"1\" class=\"dataframe\">\n",
       "  <thead>\n",
       "    <tr style=\"text-align: right;\">\n",
       "      <th></th>\n",
       "      <th>max_arrears_12m</th>\n",
       "      <th>cc_util</th>\n",
       "      <th>bureau_score</th>\n",
       "      <th>annual_income</th>\n",
       "      <th>emp_length</th>\n",
       "      <th>num_ccj</th>\n",
       "      <th>months_since_recent_cc_delinq</th>\n",
       "    </tr>\n",
       "  </thead>\n",
       "  <tbody>\n",
       "    <tr>\n",
       "      <th>max_arrears_12m</th>\n",
       "      <td>1.000000</td>\n",
       "      <td>0.096982</td>\n",
       "      <td>0.361320</td>\n",
       "      <td>0.059841</td>\n",
       "      <td>0.028309</td>\n",
       "      <td>0.245784</td>\n",
       "      <td>0.034351</td>\n",
       "    </tr>\n",
       "    <tr>\n",
       "      <th>cc_util</th>\n",
       "      <td>0.096982</td>\n",
       "      <td>1.000000</td>\n",
       "      <td>0.052800</td>\n",
       "      <td>0.056827</td>\n",
       "      <td>0.028782</td>\n",
       "      <td>0.032979</td>\n",
       "      <td>0.424944</td>\n",
       "    </tr>\n",
       "    <tr>\n",
       "      <th>bureau_score</th>\n",
       "      <td>0.361320</td>\n",
       "      <td>0.052800</td>\n",
       "      <td>1.000000</td>\n",
       "      <td>0.020279</td>\n",
       "      <td>0.012910</td>\n",
       "      <td>0.351756</td>\n",
       "      <td>0.017206</td>\n",
       "    </tr>\n",
       "    <tr>\n",
       "      <th>annual_income</th>\n",
       "      <td>0.059841</td>\n",
       "      <td>0.056827</td>\n",
       "      <td>0.020279</td>\n",
       "      <td>1.000000</td>\n",
       "      <td>0.576568</td>\n",
       "      <td>0.034918</td>\n",
       "      <td>0.031467</td>\n",
       "    </tr>\n",
       "    <tr>\n",
       "      <th>emp_length</th>\n",
       "      <td>0.028309</td>\n",
       "      <td>0.028782</td>\n",
       "      <td>0.012910</td>\n",
       "      <td>0.576568</td>\n",
       "      <td>1.000000</td>\n",
       "      <td>0.027246</td>\n",
       "      <td>0.011585</td>\n",
       "    </tr>\n",
       "    <tr>\n",
       "      <th>num_ccj</th>\n",
       "      <td>0.245784</td>\n",
       "      <td>0.032979</td>\n",
       "      <td>0.351756</td>\n",
       "      <td>0.034918</td>\n",
       "      <td>0.027246</td>\n",
       "      <td>1.000000</td>\n",
       "      <td>0.012722</td>\n",
       "    </tr>\n",
       "    <tr>\n",
       "      <th>months_since_recent_cc_delinq</th>\n",
       "      <td>0.034351</td>\n",
       "      <td>0.424944</td>\n",
       "      <td>0.017206</td>\n",
       "      <td>0.031467</td>\n",
       "      <td>0.011585</td>\n",
       "      <td>0.012722</td>\n",
       "      <td>1.000000</td>\n",
       "    </tr>\n",
       "  </tbody>\n",
       "</table>\n",
       "</div>"
      ],
      "text/plain": [
       "                               max_arrears_12m   cc_util  bureau_score  \\\n",
       "max_arrears_12m                       1.000000  0.096982      0.361320   \n",
       "cc_util                               0.096982  1.000000      0.052800   \n",
       "bureau_score                          0.361320  0.052800      1.000000   \n",
       "annual_income                         0.059841  0.056827      0.020279   \n",
       "emp_length                            0.028309  0.028782      0.012910   \n",
       "num_ccj                               0.245784  0.032979      0.351756   \n",
       "months_since_recent_cc_delinq         0.034351  0.424944      0.017206   \n",
       "\n",
       "                               annual_income  emp_length   num_ccj  \\\n",
       "max_arrears_12m                     0.059841    0.028309  0.245784   \n",
       "cc_util                             0.056827    0.028782  0.032979   \n",
       "bureau_score                        0.020279    0.012910  0.351756   \n",
       "annual_income                       1.000000    0.576568  0.034918   \n",
       "emp_length                          0.576568    1.000000  0.027246   \n",
       "num_ccj                             0.034918    0.027246  1.000000   \n",
       "months_since_recent_cc_delinq       0.031467    0.011585  0.012722   \n",
       "\n",
       "                               months_since_recent_cc_delinq  \n",
       "max_arrears_12m                                     0.034351  \n",
       "cc_util                                             0.424944  \n",
       "bureau_score                                        0.017206  \n",
       "annual_income                                       0.031467  \n",
       "emp_length                                          0.011585  \n",
       "num_ccj                                             0.012722  \n",
       "months_since_recent_cc_delinq                       1.000000  "
      ]
     },
     "execution_count": 20,
     "metadata": {},
     "output_type": "execute_result"
    }
   ],
   "source": [
    "x_woe.corr()"
   ]
  },
  {
   "cell_type": "markdown",
   "metadata": {},
   "source": [
    "# Stepwise regression"
   ]
  },
  {
   "cell_type": "code",
   "execution_count": 21,
   "metadata": {
    "ExecuteTime": {
     "end_time": "2020-07-11T20:10:56.744299Z",
     "start_time": "2020-07-11T20:10:56.726059Z"
    }
   },
   "outputs": [],
   "source": [
    "def forward_regression(X, y,\n",
    "                       threshold_in,\n",
    "                       verbose=False):\n",
    "    \"\"\"\n",
    "    args:\n",
    "    ---------\n",
    "    X : dataframe of independent variable\n",
    "    y: dataframe of independent variable\n",
    "    threshold_in : threshold for p value \n",
    "    \"\"\"\n",
    "    initial_list = []\n",
    "    included = list(initial_list)\n",
    "    while True:\n",
    "        changed = False\n",
    "        excluded = list(set(X.columns)-set(included))\n",
    "        new_pval = pd.Series(index=excluded)\n",
    "\n",
    "        for new_column in excluded:\n",
    "            glm_binom = sm.GLM(y, sm.add_constant(pd.DataFrame(\n",
    "                X[included+[new_column]])), family=sm.families.Binomial())\n",
    "            model = glm_binom.fit()\n",
    "            new_pval[new_column] = model.pvalues[new_column]\n",
    "\n",
    "        best_pval = new_pval.min()\n",
    "\n",
    "        if best_pval < threshold_in:\n",
    "            best_feature = new_pval.idxmin()\n",
    "\n",
    "            included.append(best_feature)\n",
    "            changed = True\n",
    "            if verbose:\n",
    "                print(\n",
    "                    'Add  {:30} with p-value {:.6}'.format(best_feature, best_pval))\n",
    "\n",
    "        if not changed:\n",
    "\n",
    "            break\n",
    "\n",
    "    return included"
   ]
  },
  {
   "cell_type": "code",
   "execution_count": 22,
   "metadata": {
    "ExecuteTime": {
     "end_time": "2020-07-11T20:11:00.793504Z",
     "start_time": "2020-07-11T20:10:58.025861Z"
    },
    "scrolled": false
   },
   "outputs": [
    {
     "name": "stderr",
     "output_type": "stream",
     "text": [
      "C:\\Applications\\lib\\site-packages\\ipykernel_launcher.py:16: DeprecationWarning: The default dtype for empty Series will be 'object' instead of 'float64' in a future version. Specify a dtype explicitly to silence this warning.\n",
      "  app.launch_new_instance()\n"
     ]
    }
   ],
   "source": [
    "# Variable list based on stepwise regression\n",
    "var_list = forward_regression(x_woe, y_train, threshold_in=0.05)"
   ]
  },
  {
   "cell_type": "code",
   "execution_count": 23,
   "metadata": {
    "ExecuteTime": {
     "end_time": "2020-07-11T20:11:04.768167Z",
     "start_time": "2020-07-11T20:11:04.629599Z"
    }
   },
   "outputs": [],
   "source": [
    "# Model based on var_list\n",
    "glm_binom = sm.GLM(y_train, sm.add_constant(pd.DataFrame(\n",
    "                x_woe[var_list])), family=sm.families.Binomial()).fit()"
   ]
  },
  {
   "cell_type": "code",
   "execution_count": 24,
   "metadata": {
    "ExecuteTime": {
     "end_time": "2020-07-11T20:11:06.057252Z",
     "start_time": "2020-07-11T20:11:06.019814Z"
    }
   },
   "outputs": [
    {
     "data": {
      "text/html": [
       "<table class=\"simpletable\">\n",
       "<caption>Generalized Linear Model Regression Results</caption>\n",
       "<tr>\n",
       "  <th>Dep. Variable:</th>     <td>default_event</td>  <th>  No. Observations:  </th>  <td> 18134</td> \n",
       "</tr>\n",
       "<tr>\n",
       "  <th>Model:</th>                  <td>GLM</td>       <th>  Df Residuals:      </th>  <td> 18128</td> \n",
       "</tr>\n",
       "<tr>\n",
       "  <th>Model Family:</th>        <td>Binomial</td>     <th>  Df Model:          </th>  <td>     5</td> \n",
       "</tr>\n",
       "<tr>\n",
       "  <th>Link Function:</th>         <td>logit</td>      <th>  Scale:             </th> <td>  1.0000</td>\n",
       "</tr>\n",
       "<tr>\n",
       "  <th>Method:</th>                <td>IRLS</td>       <th>  Log-Likelihood:    </th> <td> -2165.1</td>\n",
       "</tr>\n",
       "<tr>\n",
       "  <th>Date:</th>            <td>Sun, 12 Jul 2020</td> <th>  Deviance:          </th> <td>  4330.2</td>\n",
       "</tr>\n",
       "<tr>\n",
       "  <th>Time:</th>                <td>01:41:06</td>     <th>  Pearson chi2:      </th> <td>1.61e+04</td>\n",
       "</tr>\n",
       "<tr>\n",
       "  <th>No. Iterations:</th>          <td>8</td>        <th>                     </th>     <td> </td>   \n",
       "</tr>\n",
       "<tr>\n",
       "  <th>Covariance Type:</th>     <td>nonrobust</td>    <th>                     </th>     <td> </td>   \n",
       "</tr>\n",
       "</table>\n",
       "<table class=\"simpletable\">\n",
       "<tr>\n",
       "                <td></td>                   <th>coef</th>     <th>std err</th>      <th>z</th>      <th>P>|z|</th>  <th>[0.025</th>    <th>0.975]</th>  \n",
       "</tr>\n",
       "<tr>\n",
       "  <th>const</th>                         <td>    2.9015</td> <td>    0.052</td> <td>   55.313</td> <td> 0.000</td> <td>    2.799</td> <td>    3.004</td>\n",
       "</tr>\n",
       "<tr>\n",
       "  <th>max_arrears_12m</th>               <td>   -0.8089</td> <td>    0.039</td> <td>  -20.484</td> <td> 0.000</td> <td>   -0.886</td> <td>   -0.731</td>\n",
       "</tr>\n",
       "<tr>\n",
       "  <th>cc_util</th>                       <td>   -0.9840</td> <td>    0.037</td> <td>  -26.671</td> <td> 0.000</td> <td>   -1.056</td> <td>   -0.912</td>\n",
       "</tr>\n",
       "<tr>\n",
       "  <th>annual_income</th>                 <td>   -1.0598</td> <td>    0.050</td> <td>  -21.005</td> <td> 0.000</td> <td>   -1.159</td> <td>   -0.961</td>\n",
       "</tr>\n",
       "<tr>\n",
       "  <th>bureau_score</th>                  <td>   -0.5751</td> <td>    0.058</td> <td>   -9.934</td> <td> 0.000</td> <td>   -0.689</td> <td>   -0.462</td>\n",
       "</tr>\n",
       "<tr>\n",
       "  <th>months_since_recent_cc_delinq</th> <td>   -0.1906</td> <td>    0.082</td> <td>   -2.327</td> <td> 0.020</td> <td>   -0.351</td> <td>   -0.030</td>\n",
       "</tr>\n",
       "</table>"
      ],
      "text/plain": [
       "<class 'statsmodels.iolib.summary.Summary'>\n",
       "\"\"\"\n",
       "                 Generalized Linear Model Regression Results                  \n",
       "==============================================================================\n",
       "Dep. Variable:          default_event   No. Observations:                18134\n",
       "Model:                            GLM   Df Residuals:                    18128\n",
       "Model Family:                Binomial   Df Model:                            5\n",
       "Link Function:                  logit   Scale:                          1.0000\n",
       "Method:                          IRLS   Log-Likelihood:                -2165.1\n",
       "Date:                Sun, 12 Jul 2020   Deviance:                       4330.2\n",
       "Time:                        01:41:06   Pearson chi2:                 1.61e+04\n",
       "No. Iterations:                     8                                         \n",
       "Covariance Type:            nonrobust                                         \n",
       "=================================================================================================\n",
       "                                    coef    std err          z      P>|z|      [0.025      0.975]\n",
       "-------------------------------------------------------------------------------------------------\n",
       "const                             2.9015      0.052     55.313      0.000       2.799       3.004\n",
       "max_arrears_12m                  -0.8089      0.039    -20.484      0.000      -0.886      -0.731\n",
       "cc_util                          -0.9840      0.037    -26.671      0.000      -1.056      -0.912\n",
       "annual_income                    -1.0598      0.050    -21.005      0.000      -1.159      -0.961\n",
       "bureau_score                     -0.5751      0.058     -9.934      0.000      -0.689      -0.462\n",
       "months_since_recent_cc_delinq    -0.1906      0.082     -2.327      0.020      -0.351      -0.030\n",
       "=================================================================================================\n",
       "\"\"\""
      ]
     },
     "execution_count": 24,
     "metadata": {},
     "output_type": "execute_result"
    }
   ],
   "source": [
    "# Summary of the model\n",
    "glm_binom.summary()"
   ]
  },
  {
   "cell_type": "markdown",
   "metadata": {},
   "source": [
    "# GLM Calibration"
   ]
  },
  {
   "cell_type": "markdown",
   "metadata": {},
   "source": [
    "## Score Normalisation"
   ]
  },
  {
   "cell_type": "code",
   "execution_count": 25,
   "metadata": {
    "ExecuteTime": {
     "end_time": "2020-07-11T20:16:18.501768Z",
     "start_time": "2020-07-11T20:16:18.490874Z"
    }
   },
   "outputs": [],
   "source": [
    "#New scale with anchor set at 660 points and log-odds doubling each 40 points and 72:1 odds ratio.\n",
    "def scaled_score(logit,odds,offset=500,pdo=20):\n",
    "    b=pdo/np.log(2)\n",
    "    a = offset - b* np.log(odds)\n",
    "    \n",
    "    return round(a+b*(np.log((1-logit)/logit)))"
   ]
  },
  {
   "cell_type": "code",
   "execution_count": 26,
   "metadata": {
    "ExecuteTime": {
     "end_time": "2020-07-11T20:19:26.469473Z",
     "start_time": "2020-07-11T20:19:26.146292Z"
    }
   },
   "outputs": [],
   "source": [
    "x_woe[\"logit\"] = 1-glm_binom.predict(sm.add_constant(pd.DataFrame(x_woe[var_list])))\n",
    "x_woe_test[\"logit\"] = 1-glm_binom.predict(sm.add_constant(pd.DataFrame(x_woe_test[var_list])))"
   ]
  },
  {
   "cell_type": "code",
   "execution_count": 27,
   "metadata": {
    "ExecuteTime": {
     "end_time": "2020-07-11T20:20:02.508553Z",
     "start_time": "2020-07-11T20:20:02.468774Z"
    }
   },
   "outputs": [],
   "source": [
    "x_woe[\"score\"]=scaled_score(x_woe[\"logit\"],odds=72,offset=660,pdo=40)\n",
    "x_woe_test[\"score\"]=scaled_score(x_woe_test[\"logit\"],odds=72,offset=660,pdo=40)"
   ]
  },
  {
   "cell_type": "code",
   "execution_count": null,
   "metadata": {},
   "outputs": [],
   "source": []
  }
 ],
 "metadata": {
  "kernelspec": {
   "display_name": "Python 3",
   "language": "python",
   "name": "python3"
  },
  "language_info": {
   "codemirror_mode": {
    "name": "ipython",
    "version": 3
   },
   "file_extension": ".py",
   "mimetype": "text/x-python",
   "name": "python",
   "nbconvert_exporter": "python",
   "pygments_lexer": "ipython3",
   "version": "3.7.7"
  },
  "toc": {
   "base_numbering": 1,
   "nav_menu": {},
   "number_sections": true,
   "sideBar": true,
   "skip_h1_title": false,
   "title_cell": "Table of Contents",
   "title_sidebar": "Contents",
   "toc_cell": false,
   "toc_position": {},
   "toc_section_display": true,
   "toc_window_display": false
  },
  "varInspector": {
   "cols": {
    "lenName": 16,
    "lenType": 16,
    "lenVar": 40
   },
   "kernels_config": {
    "python": {
     "delete_cmd_postfix": "",
     "delete_cmd_prefix": "del ",
     "library": "var_list.py",
     "varRefreshCmd": "print(var_dic_list())"
    },
    "r": {
     "delete_cmd_postfix": ") ",
     "delete_cmd_prefix": "rm(",
     "library": "var_list.r",
     "varRefreshCmd": "cat(var_dic_list()) "
    }
   },
   "types_to_exclude": [
    "module",
    "function",
    "builtin_function_or_method",
    "instance",
    "_Feature"
   ],
   "window_display": false
  }
 },
 "nbformat": 4,
 "nbformat_minor": 4
}
